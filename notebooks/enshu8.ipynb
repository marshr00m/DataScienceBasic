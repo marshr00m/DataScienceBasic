{
 "cells": [
  {
   "cell_type": "code",
   "execution_count": 1,
   "outputs": [],
   "source": [
    "import numpy as np\n",
    "# 列ベクトル：2行1列のnumpy.ndarrayを定義\n",
    "w = np.array([ [5.0],[3.0] ])\n",
    "# 行ベクトル：1行2列のnumpy.ndarrayを定義\n",
    "x = np.array([ [1.0,5.0] ])\n",
    "# 全ての要素が0または1の1行5列のnumpy.ndarrayを生成\n",
    "zeros = np.zeros([1,5])\n",
    "ones = np.ones([1,5])\n",
    "# 一様分布または正規分布に従ってランダムに1行5列のnumpy.ndarrayを生成\n",
    "uniform = np.random.rand(1,5)\n",
    "normal = np.random.normal(size=[1,5])"
   ],
   "metadata": {
    "collapsed": false,
    "pycharm": {
     "name": "#%%\n"
    }
   }
  },
  {
   "cell_type": "code",
   "execution_count": 3,
   "outputs": [
    {
     "name": "stdout",
     "output_type": "stream",
     "text": [
      "ベクトルw）形:(2, 1),型:float64\n",
      "[[5.]\n",
      " [3.]]\n",
      "\n",
      "ベクトルx）形:(1, 2),型:float64\n",
      "[[1. 5.]]\n",
      "\n",
      "ベクトルzeros）形:(1, 5),型:float64\n",
      "[[0. 0. 0. 0. 0.]]\n",
      "\n",
      "ベクトルones）形:(1, 5),型:float64\n",
      "[[1. 1. 1. 1. 1.]]\n",
      "\n",
      "ベクトルuniform）形:(1, 5),型:float64\n",
      "[[0.97744978 0.22182144 0.97150524 0.54102012 0.30127277]]\n",
      "\n",
      "ベクトルnormal）形:(1, 5),型:float64\n",
      "[[-0.01215424 -0.19158299 -1.06417676  1.13726584 -0.41076789]]\n"
     ]
    }
   ],
   "source": [
    "# 標準出力\n",
    "print(f\"ベクトルw）形:{w.shape},型:{w.dtype}\\n{w}\\n\")\n",
    "print(f\"ベクトルx）形:{x.shape},型:{x.dtype}\\n{x}\\n\")\n",
    "print(f\"ベクトルzeros）形:{zeros.shape},型:{zeros.dtype}\\n{zeros}\\n\")\n",
    "print(f\"ベクトルones）形:{ones.shape},型:{ones.dtype}\\n{ones}\\n\")\n",
    "print(f\"ベクトルuniform）形:{uniform.shape},型:{uniform.dtype}\\n{uniform}\\n\")\n",
    "print(f\"ベクトルnormal）形:{normal.shape},型:{normal.dtype}\\n{normal}\")"
   ],
   "metadata": {
    "collapsed": false,
    "pycharm": {
     "name": "#%%\n"
    }
   }
  },
  {
   "cell_type": "code",
   "execution_count": 4,
   "outputs": [
    {
     "name": "stdout",
     "output_type": "stream",
     "text": [
      "行列X）形:(3, 2),型:float64\n",
      "[[1. 2.]\n",
      " [2. 4.]\n",
      " [3. 6.]]\n",
      "\n",
      "1行目）形:(1, 2),型:float64\n",
      "[[1. 2.]]\n",
      "\n",
      "2列目）形:(3, 1),型:float64\n",
      "[[2.]\n",
      " [4.]\n",
      " [6.]]\n",
      "\n"
     ]
    }
   ],
   "source": [
    "# 行列：3行2列のnumpy.ndarrayを定義\n",
    "X = np.array([ [1.0,2.0],[2.0,4.0],[3.0,6.0] ])\n",
    "# 1行目の行ベクトル(1行2列)の取り出し\n",
    "Xrow1 = X[[0], :]\n",
    "# 2列目の列ベクトル(3行1列)の取り出し\n",
    "Xcol2 = X[:, [1]]\n",
    "# 標準出力\n",
    "print(f\"行列X）形:{X.shape},型:{X.dtype}\\n{X}\\n\")\n",
    "print(f\"1行目）形:{Xrow1.shape},型:{Xrow1.dtype}\\n{Xrow1}\\n\")\n",
    "print(f\"2列目）形:{Xcol2.shape},型:{Xcol2.dtype}\\n{Xcol2}\\n\")"
   ],
   "metadata": {
    "collapsed": false,
    "pycharm": {
     "name": "#%%\n"
    }
   }
  },
  {
   "cell_type": "code",
   "execution_count": 5,
   "outputs": [
    {
     "name": "stdout",
     "output_type": "stream",
     "text": [
      "1行目）形:(2,),型:float64\n",
      "[1. 2.]\n",
      "\n",
      "1行目）形:(1, 2),型:float64\n",
      "[[1. 2.]]\n",
      "\n"
     ]
    }
   ],
   "source": [
    "# 1行目の行ベクトル(1行2列)の取り出し（リストなしで指定）\n",
    "Xrow1 = X[0, :]\n",
    "# 標準出力\n",
    "print(f\"1行目）形:{Xrow1.shape},型:{Xrow1.dtype}\\n{Xrow1}\\n\")\n",
    "# 1行目の行ベクトル(1行2列)の取り出し（リストで指定）\n",
    "Xrow1 = X[[0], :]\n",
    "# 標準出力\n",
    "print(f\"1行目）形:{Xrow1.shape},型:{Xrow1.dtype}\\n{Xrow1}\\n\")"
   ],
   "metadata": {
    "collapsed": false,
    "pycharm": {
     "name": "#%%\n"
    }
   }
  },
  {
   "cell_type": "code",
   "execution_count": 6,
   "outputs": [
    {
     "name": "stdout",
     "output_type": "stream",
     "text": [
      "積和の結果）\n",
      "[[12.]\n",
      " [23.]\n",
      " [34.]]\n"
     ]
    }
   ],
   "source": [
    "# 列ベクトルb：3行1列のnumpy.ndarrayを定義\n",
    "b = np.array([ [1.0],[1.0],[1.0] ])\n",
    "# 行列とベクトルの積と和\n",
    "result = np.matmul(X, w) + b\n",
    "# 標準出力\n",
    "print(f\"積和の結果）\\n{result}\")"
   ],
   "metadata": {
    "collapsed": false,
    "pycharm": {
     "name": "#%%\n"
    }
   }
  },
  {
   "cell_type": "code",
   "execution_count": 8,
   "outputs": [
    {
     "name": "stdout",
     "output_type": "stream",
     "text": [
      "行列A）ランク:2\n",
      "逆行列:\n",
      "[[ 0.19230769 -0.07692308]\n",
      " [-0.07692308  0.23076923]]\n",
      "\n",
      "行列B）ランク:1,特異行列\n",
      "\n"
     ]
    }
   ],
   "source": [
    "# 行列：2行2列のnumpy.ndarrayを定義\n",
    "A = np.array([ [6.0,2.0],[2.0,5.0] ])\n",
    "B = np.array([ [6.0,3.0],[2.0,1.0] ])\n",
    "# 行列のランクの計算\n",
    "rankA = np.linalg.matrix_rank(A)\n",
    "rankB = np.linalg.matrix_rank(B)\n",
    "# Aの逆行列\n",
    "if rankA == len(A):\n",
    "    invA = np.linalg.inv(A)\n",
    "    print(f\"行列A）ランク:{rankA}\\n逆行列:\\n{invA}\\n\")\n",
    "else:\n",
    "    print(f\"行列A）ランク:{rankA},特異行列\\n\")\n",
    "# Bの逆行列\n",
    "if rankB == len(B):\n",
    "    invB = np.linalg.inv(B)\n",
    "    print(f\"行列B）ランク:{rankB}\\n逆行列:\\n{invB}\\n\")\n",
    "else:\n",
    "    print(f\"行列B）ランク:{rankB},特異行列\\n\")"
   ],
   "metadata": {
    "collapsed": false,
    "pycharm": {
     "name": "#%%\n"
    }
   }
  },
  {
   "cell_type": "code",
   "execution_count": 9,
   "outputs": [
    {
     "ename": "LinAlgError",
     "evalue": "Singular matrix",
     "output_type": "error",
     "traceback": [
      "\u001B[1;31m---------------------------------------------------------------------------\u001B[0m",
      "\u001B[1;31mLinAlgError\u001B[0m                               Traceback (most recent call last)",
      "Input \u001B[1;32mIn [9]\u001B[0m, in \u001B[0;36m<cell line: 2>\u001B[1;34m()\u001B[0m\n\u001B[0;32m      1\u001B[0m \u001B[38;5;66;03m# Bの逆行列\u001B[39;00m\n\u001B[1;32m----> 2\u001B[0m invB \u001B[38;5;241m=\u001B[39m \u001B[43mnp\u001B[49m\u001B[38;5;241;43m.\u001B[39;49m\u001B[43mlinalg\u001B[49m\u001B[38;5;241;43m.\u001B[39;49m\u001B[43minv\u001B[49m\u001B[43m(\u001B[49m\u001B[43mB\u001B[49m\u001B[43m)\u001B[49m\n\u001B[0;32m      3\u001B[0m \u001B[38;5;28mprint\u001B[39m(\u001B[38;5;124mf\u001B[39m\u001B[38;5;124m\"\u001B[39m\u001B[38;5;124m行列B）ランク:\u001B[39m\u001B[38;5;132;01m{\u001B[39;00mrankB\u001B[38;5;132;01m}\u001B[39;00m\u001B[38;5;130;01m\\n\u001B[39;00m\u001B[38;5;124m逆行列:\u001B[39m\u001B[38;5;130;01m\\n\u001B[39;00m\u001B[38;5;132;01m{\u001B[39;00minvB\u001B[38;5;132;01m}\u001B[39;00m\u001B[38;5;130;01m\\n\u001B[39;00m\u001B[38;5;124m\"\u001B[39m)\n",
      "File \u001B[1;32m<__array_function__ internals>:180\u001B[0m, in \u001B[0;36minv\u001B[1;34m(*args, **kwargs)\u001B[0m\n",
      "File \u001B[1;32mc:\\users\\mars2\\appdata\\local\\programs\\python\\python38\\lib\\site-packages\\numpy\\linalg\\linalg.py:545\u001B[0m, in \u001B[0;36minv\u001B[1;34m(a)\u001B[0m\n\u001B[0;32m    543\u001B[0m signature \u001B[38;5;241m=\u001B[39m \u001B[38;5;124m'\u001B[39m\u001B[38;5;124mD->D\u001B[39m\u001B[38;5;124m'\u001B[39m \u001B[38;5;28;01mif\u001B[39;00m isComplexType(t) \u001B[38;5;28;01melse\u001B[39;00m \u001B[38;5;124m'\u001B[39m\u001B[38;5;124md->d\u001B[39m\u001B[38;5;124m'\u001B[39m\n\u001B[0;32m    544\u001B[0m extobj \u001B[38;5;241m=\u001B[39m get_linalg_error_extobj(_raise_linalgerror_singular)\n\u001B[1;32m--> 545\u001B[0m ainv \u001B[38;5;241m=\u001B[39m \u001B[43m_umath_linalg\u001B[49m\u001B[38;5;241;43m.\u001B[39;49m\u001B[43minv\u001B[49m\u001B[43m(\u001B[49m\u001B[43ma\u001B[49m\u001B[43m,\u001B[49m\u001B[43m \u001B[49m\u001B[43msignature\u001B[49m\u001B[38;5;241;43m=\u001B[39;49m\u001B[43msignature\u001B[49m\u001B[43m,\u001B[49m\u001B[43m \u001B[49m\u001B[43mextobj\u001B[49m\u001B[38;5;241;43m=\u001B[39;49m\u001B[43mextobj\u001B[49m\u001B[43m)\u001B[49m\n\u001B[0;32m    546\u001B[0m \u001B[38;5;28;01mreturn\u001B[39;00m wrap(ainv\u001B[38;5;241m.\u001B[39mastype(result_t, copy\u001B[38;5;241m=\u001B[39m\u001B[38;5;28;01mFalse\u001B[39;00m))\n",
      "File \u001B[1;32mc:\\users\\mars2\\appdata\\local\\programs\\python\\python38\\lib\\site-packages\\numpy\\linalg\\linalg.py:88\u001B[0m, in \u001B[0;36m_raise_linalgerror_singular\u001B[1;34m(err, flag)\u001B[0m\n\u001B[0;32m     87\u001B[0m \u001B[38;5;28;01mdef\u001B[39;00m \u001B[38;5;21m_raise_linalgerror_singular\u001B[39m(err, flag):\n\u001B[1;32m---> 88\u001B[0m     \u001B[38;5;28;01mraise\u001B[39;00m LinAlgError(\u001B[38;5;124m\"\u001B[39m\u001B[38;5;124mSingular matrix\u001B[39m\u001B[38;5;124m\"\u001B[39m)\n",
      "\u001B[1;31mLinAlgError\u001B[0m: Singular matrix"
     ]
    }
   ],
   "source": [
    "# Bの逆行列（エラーが出る）\n",
    "invB = np.linalg.inv(B)\n",
    "print(f\"行列B）ランク:{rankB}\\n逆行列:\\n{invB}\\n\")"
   ],
   "metadata": {
    "collapsed": false,
    "pycharm": {
     "name": "#%%\n"
    }
   }
  },
  {
   "cell_type": "code",
   "execution_count": 10,
   "outputs": [
    {
     "name": "stdout",
     "output_type": "stream",
     "text": [
      "行列Aの行列式:26.0\n",
      "行列Bの行列式:0.0\n"
     ]
    }
   ],
   "source": [
    "# 行列式の計算\n",
    "detA = np.linalg.det(A)\n",
    "detB = np.linalg.det(B)\n",
    "# 標準出力\n",
    "print(f\"行列Aの行列式:{detA:.1f}\")\n",
    "print(f\"行列Bの行列式:{detB:.1f}\")"
   ],
   "metadata": {
    "collapsed": false,
    "pycharm": {
     "name": "#%%\n"
    }
   }
  },
  {
   "cell_type": "code",
   "execution_count": 11,
   "outputs": [
    {
     "name": "stdout",
     "output_type": "stream",
     "text": [
      "固有値:\n",
      "[ 5. -1.]\n",
      "固有ベクトル:\n",
      "[[ 0.70710678 -0.4472136 ]\n",
      " [ 0.70710678  0.89442719]]\n"
     ]
    }
   ],
   "source": [
    "# 行列Aの定義\n",
    "A = np.array([ [3,2],[4,1] ])\n",
    "# 固有値問題の解\n",
    "L,V = np.linalg.eig(A)\n",
    "# 標準出力\n",
    "print(f\"固有値:\\n{L}\")\n",
    "print(f\"固有ベクトル:\\n{V}\")"
   ],
   "metadata": {
    "collapsed": false,
    "pycharm": {
     "name": "#%%\n"
    }
   }
  },
  {
   "cell_type": "code",
   "execution_count": null,
   "outputs": [],
   "source": [],
   "metadata": {
    "collapsed": false,
    "pycharm": {
     "name": "#%%\n"
    }
   }
  }
 ],
 "metadata": {
  "kernelspec": {
   "display_name": "Python 3",
   "language": "python",
   "name": "python3"
  },
  "language_info": {
   "codemirror_mode": {
    "name": "ipython",
    "version": 2
   },
   "file_extension": ".py",
   "mimetype": "text/x-python",
   "name": "python",
   "nbconvert_exporter": "python",
   "pygments_lexer": "ipython2",
   "version": "2.7.6"
  }
 },
 "nbformat": 4,
 "nbformat_minor": 0
}