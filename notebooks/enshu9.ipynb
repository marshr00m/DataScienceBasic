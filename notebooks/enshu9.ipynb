{
 "cells": [
  {
   "cell_type": "code",
   "execution_count": 19,
   "outputs": [
    {
     "data": {
      "text/plain": "'%.3f'"
     },
     "execution_count": 19,
     "metadata": {},
     "output_type": "execute_result"
    }
   ],
   "source": [
    "# numpy, scipy, pandasのインポート\n",
    "import numpy as np\n",
    "import numpy.random as random\n",
    "import scipy as sp\n",
    "import pandas as pd\n",
    "from pandas import Series, DataFrame\n",
    "# 可視化ライブラリ\n",
    "import matplotlib.pyplot as plt\n",
    "import matplotlib as mpl\n",
    "import seaborn as sns\n",
    "%matplotlib inline\n",
    "# 小数第3位まで表示\n",
    "%precision 3"
   ],
   "metadata": {
    "collapsed": false,
    "pycharm": {
     "name": "#%%\n"
    }
   }
  },
  {
   "cell_type": "code",
   "execution_count": 20,
   "outputs": [
    {
     "name": "stdout",
     "output_type": "stream",
     "text": [
      "C:\\git\\DataScienceBasic\\data\n"
     ]
    }
   ],
   "source": [
    "%cd ../data"
   ],
   "metadata": {
    "collapsed": false,
    "pycharm": {
     "name": "#%%\n"
    }
   }
  },
  {
   "cell_type": "code",
   "execution_count": 21,
   "outputs": [
    {
     "data": {
      "text/plain": "   quarter stock       date    open    high     low   close     volume  \\\n0        1    AA   1/7/2011  $15.82  $16.72  $15.78  $16.42  239655616   \n1        1    AA  1/14/2011  $16.71  $16.71  $15.64  $15.97  242963398   \n2        1    AA  1/21/2011  $16.19  $16.38  $15.60  $15.79  138428495   \n3        1    AA  1/28/2011  $15.87  $16.63  $15.82  $16.13  151379173   \n4        1    AA   2/4/2011  $16.18  $17.39  $16.18  $17.14  154387761   \n\n   percent_change_price  percent_change_volume_over_last_wk  \\\n0               3.79267                                 NaN   \n1              -4.42849                            1.380223   \n2              -2.47066                          -43.024959   \n3               1.63831                            9.355500   \n4               5.93325                            1.987452   \n\n   previous_weeks_volume next_weeks_open next_weeks_close  \\\n0                    NaN          $16.71           $15.97   \n1            239655616.0          $16.19           $15.79   \n2            242963398.0          $15.87           $16.13   \n3            138428495.0          $16.18           $17.14   \n4            151379173.0          $17.33           $17.37   \n\n   percent_change_next_weeks_price  days_to_next_dividend  \\\n0                        -4.428490                     26   \n1                        -2.470660                     19   \n2                         1.638310                     12   \n3                         5.933250                      5   \n4                         0.230814                     97   \n\n   percent_return_next_dividend  \n0                      0.182704  \n1                      0.187852  \n2                      0.189994  \n3                      0.185989  \n4                      0.175029  ",
      "text/html": "<div>\n<style scoped>\n    .dataframe tbody tr th:only-of-type {\n        vertical-align: middle;\n    }\n\n    .dataframe tbody tr th {\n        vertical-align: top;\n    }\n\n    .dataframe thead th {\n        text-align: right;\n    }\n</style>\n<table border=\"1\" class=\"dataframe\">\n  <thead>\n    <tr style=\"text-align: right;\">\n      <th></th>\n      <th>quarter</th>\n      <th>stock</th>\n      <th>date</th>\n      <th>open</th>\n      <th>high</th>\n      <th>low</th>\n      <th>close</th>\n      <th>volume</th>\n      <th>percent_change_price</th>\n      <th>percent_change_volume_over_last_wk</th>\n      <th>previous_weeks_volume</th>\n      <th>next_weeks_open</th>\n      <th>next_weeks_close</th>\n      <th>percent_change_next_weeks_price</th>\n      <th>days_to_next_dividend</th>\n      <th>percent_return_next_dividend</th>\n    </tr>\n  </thead>\n  <tbody>\n    <tr>\n      <th>0</th>\n      <td>1</td>\n      <td>AA</td>\n      <td>1/7/2011</td>\n      <td>$15.82</td>\n      <td>$16.72</td>\n      <td>$15.78</td>\n      <td>$16.42</td>\n      <td>239655616</td>\n      <td>3.79267</td>\n      <td>NaN</td>\n      <td>NaN</td>\n      <td>$16.71</td>\n      <td>$15.97</td>\n      <td>-4.428490</td>\n      <td>26</td>\n      <td>0.182704</td>\n    </tr>\n    <tr>\n      <th>1</th>\n      <td>1</td>\n      <td>AA</td>\n      <td>1/14/2011</td>\n      <td>$16.71</td>\n      <td>$16.71</td>\n      <td>$15.64</td>\n      <td>$15.97</td>\n      <td>242963398</td>\n      <td>-4.42849</td>\n      <td>1.380223</td>\n      <td>239655616.0</td>\n      <td>$16.19</td>\n      <td>$15.79</td>\n      <td>-2.470660</td>\n      <td>19</td>\n      <td>0.187852</td>\n    </tr>\n    <tr>\n      <th>2</th>\n      <td>1</td>\n      <td>AA</td>\n      <td>1/21/2011</td>\n      <td>$16.19</td>\n      <td>$16.38</td>\n      <td>$15.60</td>\n      <td>$15.79</td>\n      <td>138428495</td>\n      <td>-2.47066</td>\n      <td>-43.024959</td>\n      <td>242963398.0</td>\n      <td>$15.87</td>\n      <td>$16.13</td>\n      <td>1.638310</td>\n      <td>12</td>\n      <td>0.189994</td>\n    </tr>\n    <tr>\n      <th>3</th>\n      <td>1</td>\n      <td>AA</td>\n      <td>1/28/2011</td>\n      <td>$15.87</td>\n      <td>$16.63</td>\n      <td>$15.82</td>\n      <td>$16.13</td>\n      <td>151379173</td>\n      <td>1.63831</td>\n      <td>9.355500</td>\n      <td>138428495.0</td>\n      <td>$16.18</td>\n      <td>$17.14</td>\n      <td>5.933250</td>\n      <td>5</td>\n      <td>0.185989</td>\n    </tr>\n    <tr>\n      <th>4</th>\n      <td>1</td>\n      <td>AA</td>\n      <td>2/4/2011</td>\n      <td>$16.18</td>\n      <td>$17.39</td>\n      <td>$16.18</td>\n      <td>$17.14</td>\n      <td>154387761</td>\n      <td>5.93325</td>\n      <td>1.987452</td>\n      <td>151379173.0</td>\n      <td>$17.33</td>\n      <td>$17.37</td>\n      <td>0.230814</td>\n      <td>97</td>\n      <td>0.175029</td>\n    </tr>\n  </tbody>\n</table>\n</div>"
     },
     "execution_count": 21,
     "metadata": {},
     "output_type": "execute_result"
    }
   ],
   "source": [
    "# データの読み込み\n",
    "dow_jones_index = pd.read_csv('dow_jones_index.data',sep=',')\n",
    "# 先頭5行の確認\n",
    "dow_jones_index.head()"
   ],
   "metadata": {
    "collapsed": false,
    "pycharm": {
     "name": "#%%\n"
    }
   }
  },
  {
   "cell_type": "code",
   "execution_count": 22,
   "outputs": [
    {
     "name": "stdout",
     "output_type": "stream",
     "text": [
      "<class 'pandas.core.frame.DataFrame'>\n",
      "RangeIndex: 750 entries, 0 to 749\n",
      "Data columns (total 16 columns):\n",
      " #   Column                              Non-Null Count  Dtype  \n",
      "---  ------                              --------------  -----  \n",
      " 0   quarter                             750 non-null    int64  \n",
      " 1   stock                               750 non-null    object \n",
      " 2   date                                750 non-null    object \n",
      " 3   open                                750 non-null    object \n",
      " 4   high                                750 non-null    object \n",
      " 5   low                                 750 non-null    object \n",
      " 6   close                               750 non-null    object \n",
      " 7   volume                              750 non-null    int64  \n",
      " 8   percent_change_price                750 non-null    float64\n",
      " 9   percent_change_volume_over_last_wk  720 non-null    float64\n",
      " 10  previous_weeks_volume               720 non-null    float64\n",
      " 11  next_weeks_open                     750 non-null    object \n",
      " 12  next_weeks_close                    750 non-null    object \n",
      " 13  percent_change_next_weeks_price     750 non-null    float64\n",
      " 14  days_to_next_dividend               750 non-null    int64  \n",
      " 15  percent_return_next_dividend        750 non-null    float64\n",
      "dtypes: float64(5), int64(3), object(8)\n",
      "memory usage: 93.9+ KB\n"
     ]
    }
   ],
   "source": [
    "# データのカラム情報\n",
    "dow_jones_index.info()"
   ],
   "metadata": {
    "collapsed": false,
    "pycharm": {
     "name": "#%%\n"
    }
   }
  },
  {
   "cell_type": "code",
   "execution_count": 23,
   "outputs": [
    {
     "data": {
      "text/plain": "   quarter stock       date   open   high    low  close     volume  \\\n0        1    AA 2011-01-07  15.82  16.72  15.78  16.42  239655616   \n1        1    AA 2011-01-14  16.71  16.71  15.64  15.97  242963398   \n2        1    AA 2011-01-21  16.19  16.38  15.60  15.79  138428495   \n3        1    AA 2011-01-28  15.87  16.63  15.82  16.13  151379173   \n4        1    AA 2011-02-04  16.18  17.39  16.18  17.14  154387761   \n\n   percent_change_price  percent_change_volume_over_last_wk  \\\n0               3.79267                                 NaN   \n1              -4.42849                            1.380223   \n2              -2.47066                          -43.024959   \n3               1.63831                            9.355500   \n4               5.93325                            1.987452   \n\n   previous_weeks_volume  next_weeks_open  next_weeks_close  \\\n0                    NaN            16.71             15.97   \n1            239655616.0            16.19             15.79   \n2            242963398.0            15.87             16.13   \n3            138428495.0            16.18             17.14   \n4            151379173.0            17.33             17.37   \n\n   percent_change_next_weeks_price  days_to_next_dividend  \\\n0                        -4.428490                     26   \n1                        -2.470660                     19   \n2                         1.638310                     12   \n3                         5.933250                      5   \n4                         0.230814                     97   \n\n   percent_return_next_dividend  \n0                      0.182704  \n1                      0.187852  \n2                      0.189994  \n3                      0.185989  \n4                      0.175029  ",
      "text/html": "<div>\n<style scoped>\n    .dataframe tbody tr th:only-of-type {\n        vertical-align: middle;\n    }\n\n    .dataframe tbody tr th {\n        vertical-align: top;\n    }\n\n    .dataframe thead th {\n        text-align: right;\n    }\n</style>\n<table border=\"1\" class=\"dataframe\">\n  <thead>\n    <tr style=\"text-align: right;\">\n      <th></th>\n      <th>quarter</th>\n      <th>stock</th>\n      <th>date</th>\n      <th>open</th>\n      <th>high</th>\n      <th>low</th>\n      <th>close</th>\n      <th>volume</th>\n      <th>percent_change_price</th>\n      <th>percent_change_volume_over_last_wk</th>\n      <th>previous_weeks_volume</th>\n      <th>next_weeks_open</th>\n      <th>next_weeks_close</th>\n      <th>percent_change_next_weeks_price</th>\n      <th>days_to_next_dividend</th>\n      <th>percent_return_next_dividend</th>\n    </tr>\n  </thead>\n  <tbody>\n    <tr>\n      <th>0</th>\n      <td>1</td>\n      <td>AA</td>\n      <td>2011-01-07</td>\n      <td>15.82</td>\n      <td>16.72</td>\n      <td>15.78</td>\n      <td>16.42</td>\n      <td>239655616</td>\n      <td>3.79267</td>\n      <td>NaN</td>\n      <td>NaN</td>\n      <td>16.71</td>\n      <td>15.97</td>\n      <td>-4.428490</td>\n      <td>26</td>\n      <td>0.182704</td>\n    </tr>\n    <tr>\n      <th>1</th>\n      <td>1</td>\n      <td>AA</td>\n      <td>2011-01-14</td>\n      <td>16.71</td>\n      <td>16.71</td>\n      <td>15.64</td>\n      <td>15.97</td>\n      <td>242963398</td>\n      <td>-4.42849</td>\n      <td>1.380223</td>\n      <td>239655616.0</td>\n      <td>16.19</td>\n      <td>15.79</td>\n      <td>-2.470660</td>\n      <td>19</td>\n      <td>0.187852</td>\n    </tr>\n    <tr>\n      <th>2</th>\n      <td>1</td>\n      <td>AA</td>\n      <td>2011-01-21</td>\n      <td>16.19</td>\n      <td>16.38</td>\n      <td>15.60</td>\n      <td>15.79</td>\n      <td>138428495</td>\n      <td>-2.47066</td>\n      <td>-43.024959</td>\n      <td>242963398.0</td>\n      <td>15.87</td>\n      <td>16.13</td>\n      <td>1.638310</td>\n      <td>12</td>\n      <td>0.189994</td>\n    </tr>\n    <tr>\n      <th>3</th>\n      <td>1</td>\n      <td>AA</td>\n      <td>2011-01-28</td>\n      <td>15.87</td>\n      <td>16.63</td>\n      <td>15.82</td>\n      <td>16.13</td>\n      <td>151379173</td>\n      <td>1.63831</td>\n      <td>9.355500</td>\n      <td>138428495.0</td>\n      <td>16.18</td>\n      <td>17.14</td>\n      <td>5.933250</td>\n      <td>5</td>\n      <td>0.185989</td>\n    </tr>\n    <tr>\n      <th>4</th>\n      <td>1</td>\n      <td>AA</td>\n      <td>2011-02-04</td>\n      <td>16.18</td>\n      <td>17.39</td>\n      <td>16.18</td>\n      <td>17.14</td>\n      <td>154387761</td>\n      <td>5.93325</td>\n      <td>1.987452</td>\n      <td>151379173.0</td>\n      <td>17.33</td>\n      <td>17.37</td>\n      <td>0.230814</td>\n      <td>97</td>\n      <td>0.175029</td>\n    </tr>\n  </tbody>\n</table>\n</div>"
     },
     "execution_count": 23,
     "metadata": {},
     "output_type": "execute_result"
    }
   ],
   "source": [
    "# 型変更 日時型\n",
    "dow_jones_index.date = pd.to_datetime(dow_jones_index.date)\n",
    "# ＄マークを消す\n",
    "delete_dolchar = lambda x: str(x).replace('$', '')\n",
    "# 対象は、open,high,low.close,next_weeks_open,next_weeks_close\n",
    "# 文字型を数値型に変換する処理\n",
    "dow_jones_index.open = pd.to_numeric(dow_jones_index.open.map(delete_dolchar))\n",
    "dow_jones_index.high = pd.to_numeric(dow_jones_index.high.map(delete_dolchar))\n",
    "dow_jones_index.low = pd.to_numeric(dow_jones_index.low.map(delete_dolchar))\n",
    "dow_jones_index.close = pd.to_numeric(dow_jones_index.close.map(delete_dolchar))\n",
    "dow_jones_index.next_weeks_open = pd.to_numeric(dow_jones_index.next_weeks_open.map(delete_dolchar))\n",
    "dow_jones_index.next_weeks_close = pd.to_numeric(dow_jones_index.next_weeks_close.map(delete_dolchar))\n",
    "# 再確認\n",
    "dow_jones_index.head()"
   ],
   "metadata": {
    "collapsed": false,
    "pycharm": {
     "name": "#%%\n"
    }
   }
  },
  {
   "cell_type": "code",
   "execution_count": 24,
   "outputs": [
    {
     "data": {
      "text/plain": "stock         AA        AXP         BA        BAC         CAT       CSCO  \\\ncount  25.000000  25.000000  25.000000  25.000000   25.000000  25.000000   \nmean   16.504400  46.712400  73.448000  13.051600  103.152000  17.899200   \nstd     0.772922   2.396248   3.087631   1.417382    6.218651   1.984095   \nmin    14.720000  43.530000  69.100000  10.520000   92.750000  14.930000   \n25%    16.030000  44.360000  71.640000  11.930000   99.590000  16.880000   \n50%    16.520000  46.250000  72.690000  13.370000  103.540000  17.520000   \n75%    17.100000  48.500000  74.840000  14.250000  107.210000  18.700000   \nmax    17.920000  51.190000  79.780000  15.250000  115.410000  22.050000   \n\nstock         CVX         DD        DIS         GE  ...        MRK       MSFT  \\\ncount   25.000000  25.000000  25.000000  25.000000  ...  25.000000  25.000000   \nmean   101.175600  52.873600  41.249600  19.784000  ...  34.360400  25.920800   \nstd      5.267066   2.367048   1.882473   0.912022  ...   1.666357   1.416407   \nmin     91.190000  48.350000  37.580000  17.970000  ...  31.910000  23.700000   \n25%     97.900000  50.290000  39.450000  19.250000  ...  33.060000  24.800000   \n50%    102.100000  52.910000  41.520000  19.950000  ...  34.040000  25.680000   \n75%    103.750000  54.630000  42.950000  20.360000  ...  35.820000  27.060000   \nmax    109.660000  56.790000  43.560000  21.440000  ...  37.350000  28.600000   \n\nstock        PFE         PG          T        TRV        UTX        VZ  \\\ncount  25.000000  25.000000  25.000000  25.000000  25.000000  25.00000   \nmean   19.821600  64.002000  29.626800  59.160000  84.033200  36.46960   \nstd     0.915085   1.828795   1.369257   2.649218   2.985547   0.93282   \nmin    18.150000  60.600000  27.490000  53.330000  79.080000  34.95000   \n25%    19.190000  62.590000  28.430000  57.920000  82.520000  35.84000   \n50%    20.110000  64.300000  30.340000  59.210000  83.520000  36.31000   \n75%    20.530000  65.270000  30.710000  61.180000  85.320000  37.26000   \nmax    20.970000  67.360000  31.410000  63.430000  89.580000  38.47000   \n\nstock        WMT        XOM  \ncount  25.000000  25.000000  \nmean   53.912800  82.111600  \nstd     1.555639   3.137743  \nmin    51.520000  75.590000  \n25%    52.540000  79.780000  \n50%    53.660000  82.630000  \n75%    55.290000  84.500000  \nmax    56.700000  87.980000  \n\n[8 rows x 30 columns]",
      "text/html": "<div>\n<style scoped>\n    .dataframe tbody tr th:only-of-type {\n        vertical-align: middle;\n    }\n\n    .dataframe tbody tr th {\n        vertical-align: top;\n    }\n\n    .dataframe thead th {\n        text-align: right;\n    }\n</style>\n<table border=\"1\" class=\"dataframe\">\n  <thead>\n    <tr style=\"text-align: right;\">\n      <th>stock</th>\n      <th>AA</th>\n      <th>AXP</th>\n      <th>BA</th>\n      <th>BAC</th>\n      <th>CAT</th>\n      <th>CSCO</th>\n      <th>CVX</th>\n      <th>DD</th>\n      <th>DIS</th>\n      <th>GE</th>\n      <th>...</th>\n      <th>MRK</th>\n      <th>MSFT</th>\n      <th>PFE</th>\n      <th>PG</th>\n      <th>T</th>\n      <th>TRV</th>\n      <th>UTX</th>\n      <th>VZ</th>\n      <th>WMT</th>\n      <th>XOM</th>\n    </tr>\n  </thead>\n  <tbody>\n    <tr>\n      <th>count</th>\n      <td>25.000000</td>\n      <td>25.000000</td>\n      <td>25.000000</td>\n      <td>25.000000</td>\n      <td>25.000000</td>\n      <td>25.000000</td>\n      <td>25.000000</td>\n      <td>25.000000</td>\n      <td>25.000000</td>\n      <td>25.000000</td>\n      <td>...</td>\n      <td>25.000000</td>\n      <td>25.000000</td>\n      <td>25.000000</td>\n      <td>25.000000</td>\n      <td>25.000000</td>\n      <td>25.000000</td>\n      <td>25.000000</td>\n      <td>25.00000</td>\n      <td>25.000000</td>\n      <td>25.000000</td>\n    </tr>\n    <tr>\n      <th>mean</th>\n      <td>16.504400</td>\n      <td>46.712400</td>\n      <td>73.448000</td>\n      <td>13.051600</td>\n      <td>103.152000</td>\n      <td>17.899200</td>\n      <td>101.175600</td>\n      <td>52.873600</td>\n      <td>41.249600</td>\n      <td>19.784000</td>\n      <td>...</td>\n      <td>34.360400</td>\n      <td>25.920800</td>\n      <td>19.821600</td>\n      <td>64.002000</td>\n      <td>29.626800</td>\n      <td>59.160000</td>\n      <td>84.033200</td>\n      <td>36.46960</td>\n      <td>53.912800</td>\n      <td>82.111600</td>\n    </tr>\n    <tr>\n      <th>std</th>\n      <td>0.772922</td>\n      <td>2.396248</td>\n      <td>3.087631</td>\n      <td>1.417382</td>\n      <td>6.218651</td>\n      <td>1.984095</td>\n      <td>5.267066</td>\n      <td>2.367048</td>\n      <td>1.882473</td>\n      <td>0.912022</td>\n      <td>...</td>\n      <td>1.666357</td>\n      <td>1.416407</td>\n      <td>0.915085</td>\n      <td>1.828795</td>\n      <td>1.369257</td>\n      <td>2.649218</td>\n      <td>2.985547</td>\n      <td>0.93282</td>\n      <td>1.555639</td>\n      <td>3.137743</td>\n    </tr>\n    <tr>\n      <th>min</th>\n      <td>14.720000</td>\n      <td>43.530000</td>\n      <td>69.100000</td>\n      <td>10.520000</td>\n      <td>92.750000</td>\n      <td>14.930000</td>\n      <td>91.190000</td>\n      <td>48.350000</td>\n      <td>37.580000</td>\n      <td>17.970000</td>\n      <td>...</td>\n      <td>31.910000</td>\n      <td>23.700000</td>\n      <td>18.150000</td>\n      <td>60.600000</td>\n      <td>27.490000</td>\n      <td>53.330000</td>\n      <td>79.080000</td>\n      <td>34.95000</td>\n      <td>51.520000</td>\n      <td>75.590000</td>\n    </tr>\n    <tr>\n      <th>25%</th>\n      <td>16.030000</td>\n      <td>44.360000</td>\n      <td>71.640000</td>\n      <td>11.930000</td>\n      <td>99.590000</td>\n      <td>16.880000</td>\n      <td>97.900000</td>\n      <td>50.290000</td>\n      <td>39.450000</td>\n      <td>19.250000</td>\n      <td>...</td>\n      <td>33.060000</td>\n      <td>24.800000</td>\n      <td>19.190000</td>\n      <td>62.590000</td>\n      <td>28.430000</td>\n      <td>57.920000</td>\n      <td>82.520000</td>\n      <td>35.84000</td>\n      <td>52.540000</td>\n      <td>79.780000</td>\n    </tr>\n    <tr>\n      <th>50%</th>\n      <td>16.520000</td>\n      <td>46.250000</td>\n      <td>72.690000</td>\n      <td>13.370000</td>\n      <td>103.540000</td>\n      <td>17.520000</td>\n      <td>102.100000</td>\n      <td>52.910000</td>\n      <td>41.520000</td>\n      <td>19.950000</td>\n      <td>...</td>\n      <td>34.040000</td>\n      <td>25.680000</td>\n      <td>20.110000</td>\n      <td>64.300000</td>\n      <td>30.340000</td>\n      <td>59.210000</td>\n      <td>83.520000</td>\n      <td>36.31000</td>\n      <td>53.660000</td>\n      <td>82.630000</td>\n    </tr>\n    <tr>\n      <th>75%</th>\n      <td>17.100000</td>\n      <td>48.500000</td>\n      <td>74.840000</td>\n      <td>14.250000</td>\n      <td>107.210000</td>\n      <td>18.700000</td>\n      <td>103.750000</td>\n      <td>54.630000</td>\n      <td>42.950000</td>\n      <td>20.360000</td>\n      <td>...</td>\n      <td>35.820000</td>\n      <td>27.060000</td>\n      <td>20.530000</td>\n      <td>65.270000</td>\n      <td>30.710000</td>\n      <td>61.180000</td>\n      <td>85.320000</td>\n      <td>37.26000</td>\n      <td>55.290000</td>\n      <td>84.500000</td>\n    </tr>\n    <tr>\n      <th>max</th>\n      <td>17.920000</td>\n      <td>51.190000</td>\n      <td>79.780000</td>\n      <td>15.250000</td>\n      <td>115.410000</td>\n      <td>22.050000</td>\n      <td>109.660000</td>\n      <td>56.790000</td>\n      <td>43.560000</td>\n      <td>21.440000</td>\n      <td>...</td>\n      <td>37.350000</td>\n      <td>28.600000</td>\n      <td>20.970000</td>\n      <td>67.360000</td>\n      <td>31.410000</td>\n      <td>63.430000</td>\n      <td>89.580000</td>\n      <td>38.47000</td>\n      <td>56.700000</td>\n      <td>87.980000</td>\n    </tr>\n  </tbody>\n</table>\n<p>8 rows × 30 columns</p>\n</div>"
     },
     "execution_count": 24,
     "metadata": {},
     "output_type": "execute_result"
    }
   ],
   "source": [
    "# indexをセットする\n",
    "dow_jones_index_stock_index = dow_jones_index.set_index(['date','stock'])\n",
    "# データフレームワークの再構成\n",
    "dow_jones_index_stock_index_unstack = dow_jones_index_stock_index.unstack()\n",
    "# closeのみ対象\n",
    "dow_close_data = dow_jones_index_stock_index_unstack['close']\n",
    "# 要約統計量\n",
    "dow_close_data.describe()"
   ],
   "metadata": {
    "collapsed": false,
    "pycharm": {
     "name": "#%%\n"
    }
   }
  },
  {
   "cell_type": "code",
   "execution_count": 25,
   "outputs": [
    {
     "data": {
      "text/plain": "stock        AA       AXP        BA       BAC       CAT      CSCO       CVX  \\\nstock                                                                         \nAA     1.000000 -0.132094  0.291520  0.432240  0.695727  0.277191  0.470529   \nAXP   -0.132094  1.000000  0.792575 -0.746595  0.255515 -0.593743  0.236456   \nBA     0.291520  0.792575  1.000000 -0.536545  0.627205 -0.465162  0.568946   \nBAC    0.432240 -0.746595 -0.536545  1.000000 -0.131058  0.813696 -0.295246   \nCAT    0.695727  0.255515  0.627205 -0.131058  1.000000 -0.375140  0.889416   \nCSCO   0.277191 -0.593743 -0.465162  0.813696 -0.375140  1.000000 -0.548609   \nCVX    0.470529  0.236456  0.568946 -0.295246  0.889416 -0.548609  1.000000   \nDD     0.762246  0.004094  0.417249  0.129762  0.902856 -0.175626  0.753270   \nDIS    0.772470 -0.129064  0.350917  0.421660  0.712870  0.067161  0.555978   \nGE     0.740139 -0.315425  0.139263  0.568918  0.463054  0.362102  0.266078   \nHD     0.744726 -0.201676  0.208978  0.461699  0.617550  0.227759  0.455472   \nHPQ    0.463457 -0.627805 -0.424803  0.905817 -0.153858  0.873873 -0.407382   \nIBM    0.268968  0.601554  0.799088 -0.580319  0.665304 -0.596533  0.653267   \nINTC   0.085051  0.590056  0.691094 -0.297917  0.141202 -0.072004 -0.028020   \nJNJ   -0.393426  0.854853  0.636901 -0.769121 -0.072006 -0.464153 -0.033943   \nJPM    0.736155 -0.524431 -0.106955  0.809349  0.403562  0.502027  0.234367   \nKO     0.277167  0.632845  0.802006 -0.568760  0.699167 -0.648801  0.778194   \nKRFT  -0.322700  0.873510  0.713871 -0.896227  0.185959 -0.726013  0.302484   \nMCD   -0.368521  0.859645  0.637442 -0.880565  0.106767 -0.777768  0.211523   \nMMM    0.408274  0.608430  0.886893 -0.409374  0.806474 -0.555884  0.754477   \nMRK   -0.194258  0.767470  0.591316 -0.604937 -0.030892 -0.286511 -0.050057   \nMSFT   0.317951 -0.561235 -0.441828  0.817784 -0.325324  0.953722 -0.537355   \nPFE    0.111613  0.663768  0.729025 -0.695282  0.666647 -0.784896  0.760903   \nPG    -0.162919  0.670814  0.482806 -0.311218 -0.226021  0.036368 -0.318407   \nT      0.030825  0.853905  0.802601 -0.786890  0.482533 -0.704006  0.537364   \nTRV    0.405575  0.589784  0.863653 -0.418905  0.778439 -0.549185  0.730893   \nUTX    0.407474  0.688131  0.916338 -0.508228  0.734655 -0.496793  0.616767   \nVZ     0.728472  0.239228  0.566156 -0.089458  0.890315 -0.228347  0.764618   \nWMT    0.171045  0.261840  0.224755  0.131447 -0.170677  0.501898 -0.436621   \nXOM    0.685739 -0.036042  0.444624  0.123588  0.803195 -0.120732  0.802900   \n\nstock        DD       DIS        GE  ...       MRK      MSFT       PFE  \\\nstock                                ...                                 \nAA     0.762246  0.772470  0.740139  ... -0.194258  0.317951  0.111613   \nAXP    0.004094 -0.129064 -0.315425  ...  0.767470 -0.561235  0.663768   \nBA     0.417249  0.350917  0.139263  ...  0.591316 -0.441828  0.729025   \nBAC    0.129762  0.421660  0.568918  ... -0.604937  0.817784 -0.695282   \nCAT    0.902856  0.712870  0.463054  ... -0.030892 -0.325324  0.666647   \nCSCO  -0.175626  0.067161  0.362102  ... -0.286511  0.953722 -0.784896   \nCVX    0.753270  0.555978  0.266078  ... -0.050057 -0.537355  0.760903   \nDD     1.000000  0.826926  0.675104  ... -0.247912 -0.098323  0.391957   \nDIS    0.826926  1.000000  0.817387  ... -0.307803  0.104224  0.177924   \nGE     0.675104  0.817387  1.000000  ... -0.483103  0.376957 -0.142550   \nHD     0.773921  0.800034  0.858207  ... -0.421838  0.266660  0.023290   \nHPQ    0.099498  0.339893  0.607675  ... -0.487479  0.903509 -0.740969   \nIBM    0.574629  0.364108  0.305004  ...  0.237849 -0.603493  0.739418   \nINTC   0.116171  0.173742  0.174845  ...  0.527101 -0.098588  0.222282   \nJNJ   -0.274953 -0.381198 -0.497596  ...  0.844027 -0.457579  0.442348   \nJPM    0.589825  0.781623  0.830451  ... -0.586246  0.545154 -0.290659   \nKO     0.528816  0.323733  0.051421  ...  0.464082 -0.601751  0.799775   \nKRFT  -0.039767 -0.243201 -0.450712  ...  0.746051 -0.736256  0.724719   \nMCD   -0.084062 -0.251648 -0.414150  ...  0.676978 -0.754711  0.676171   \nMMM    0.682411  0.555023  0.320383  ...  0.303381 -0.482017  0.746360   \nMRK   -0.247912 -0.307803 -0.483103  ...  1.000000 -0.263386  0.398446   \nMSFT  -0.098323  0.104224  0.376957  ... -0.263386  1.000000 -0.823846   \nPFE    0.391957  0.177924 -0.142550  ...  0.398446 -0.823846  1.000000   \nPG    -0.331892 -0.255484 -0.138952  ...  0.749713  0.031521  0.059658   \nT      0.219675 -0.047071 -0.286933  ...  0.715501 -0.646825  0.806544   \nTRV    0.659724  0.573376  0.363037  ...  0.266453 -0.564088  0.767456   \nUTX    0.614146  0.424170  0.288354  ...  0.411942 -0.431175  0.682301   \nVZ     0.796600  0.594160  0.411936  ...  0.109787 -0.164364  0.578207   \nWMT   -0.144215 -0.062269  0.268604  ...  0.329347  0.477927 -0.264241   \nXOM    0.863511  0.803492  0.720823  ... -0.308169 -0.116259  0.385485   \n\nstock        PG         T       TRV       UTX        VZ       WMT       XOM  \nstock                                                                        \nAA    -0.162919  0.030825  0.405575  0.407474  0.728472  0.171045  0.685739  \nAXP    0.670814  0.853905  0.589784  0.688131  0.239228  0.261840 -0.036042  \nBA     0.482806  0.802601  0.863653  0.916338  0.566156  0.224755  0.444624  \nBAC   -0.311218 -0.786890 -0.418905 -0.508228 -0.089458  0.131447  0.123588  \nCAT   -0.226021  0.482533  0.778439  0.734655  0.890315 -0.170677  0.803195  \nCSCO   0.036368 -0.704006 -0.549185 -0.496793 -0.228347  0.501898 -0.120732  \nCVX   -0.318407  0.537364  0.730893  0.616767  0.764618 -0.436621  0.802900  \nDD    -0.331892  0.219675  0.659724  0.614146  0.796600 -0.144215  0.863511  \nDIS   -0.255484 -0.047071  0.573376  0.424170  0.594160 -0.062269  0.803492  \nGE    -0.138952 -0.286933  0.363037  0.288354  0.411936  0.268604  0.720823  \nHD    -0.198215 -0.096603  0.389842  0.358730  0.632286  0.167338  0.716404  \nHPQ   -0.100764 -0.729214 -0.392180 -0.358968 -0.095685  0.436606  0.075982  \nIBM    0.202128  0.672091  0.885635  0.897552  0.569906  0.089690  0.588332  \nINTC   0.659956  0.330208  0.570458  0.652434  0.049836  0.554295  0.114054  \nJNJ    0.736683  0.704299  0.363479  0.494515 -0.098076  0.285765 -0.243448  \nJPM   -0.359019 -0.444122  0.092965 -0.033847  0.359076  0.042136  0.598958  \nKO     0.209647  0.868995  0.782831  0.790861  0.729981 -0.133084  0.503857  \nKRFT   0.520976  0.865466  0.557087  0.623160  0.180898  0.007123 -0.053104  \nMCD    0.494006  0.804728  0.504014  0.584172  0.102321 -0.002520 -0.104349  \nMMM    0.174378  0.714409  0.891726  0.913696  0.703299  0.010741  0.640352  \nMRK    0.749713  0.715501  0.266453  0.411942  0.109787  0.329347 -0.308169  \nMSFT   0.031521 -0.646825 -0.564088 -0.431175 -0.164364  0.477927 -0.116259  \nPFE    0.059658  0.806544  0.767456  0.682301  0.578207 -0.264241  0.385485  \nPG     1.000000  0.420170  0.197943  0.323977 -0.092622  0.723706 -0.269751  \nT      0.420170  1.000000  0.642132  0.740660  0.531474 -0.014641  0.165279  \nTRV    0.197943  0.642132  1.000000  0.874205  0.605240  0.019259  0.683718  \nUTX    0.323977  0.740660  0.874205  1.000000  0.665665  0.196291  0.537364  \nVZ    -0.092622  0.531474  0.605240  0.665665  1.000000 -0.032508  0.648415  \nWMT    0.723706 -0.014641  0.019259  0.196291 -0.032508  1.000000 -0.146847  \nXOM   -0.269751  0.165279  0.683718  0.537364  0.648415 -0.146847  1.000000  \n\n[30 rows x 30 columns]",
      "text/html": "<div>\n<style scoped>\n    .dataframe tbody tr th:only-of-type {\n        vertical-align: middle;\n    }\n\n    .dataframe tbody tr th {\n        vertical-align: top;\n    }\n\n    .dataframe thead th {\n        text-align: right;\n    }\n</style>\n<table border=\"1\" class=\"dataframe\">\n  <thead>\n    <tr style=\"text-align: right;\">\n      <th>stock</th>\n      <th>AA</th>\n      <th>AXP</th>\n      <th>BA</th>\n      <th>BAC</th>\n      <th>CAT</th>\n      <th>CSCO</th>\n      <th>CVX</th>\n      <th>DD</th>\n      <th>DIS</th>\n      <th>GE</th>\n      <th>...</th>\n      <th>MRK</th>\n      <th>MSFT</th>\n      <th>PFE</th>\n      <th>PG</th>\n      <th>T</th>\n      <th>TRV</th>\n      <th>UTX</th>\n      <th>VZ</th>\n      <th>WMT</th>\n      <th>XOM</th>\n    </tr>\n    <tr>\n      <th>stock</th>\n      <th></th>\n      <th></th>\n      <th></th>\n      <th></th>\n      <th></th>\n      <th></th>\n      <th></th>\n      <th></th>\n      <th></th>\n      <th></th>\n      <th></th>\n      <th></th>\n      <th></th>\n      <th></th>\n      <th></th>\n      <th></th>\n      <th></th>\n      <th></th>\n      <th></th>\n      <th></th>\n      <th></th>\n    </tr>\n  </thead>\n  <tbody>\n    <tr>\n      <th>AA</th>\n      <td>1.000000</td>\n      <td>-0.132094</td>\n      <td>0.291520</td>\n      <td>0.432240</td>\n      <td>0.695727</td>\n      <td>0.277191</td>\n      <td>0.470529</td>\n      <td>0.762246</td>\n      <td>0.772470</td>\n      <td>0.740139</td>\n      <td>...</td>\n      <td>-0.194258</td>\n      <td>0.317951</td>\n      <td>0.111613</td>\n      <td>-0.162919</td>\n      <td>0.030825</td>\n      <td>0.405575</td>\n      <td>0.407474</td>\n      <td>0.728472</td>\n      <td>0.171045</td>\n      <td>0.685739</td>\n    </tr>\n    <tr>\n      <th>AXP</th>\n      <td>-0.132094</td>\n      <td>1.000000</td>\n      <td>0.792575</td>\n      <td>-0.746595</td>\n      <td>0.255515</td>\n      <td>-0.593743</td>\n      <td>0.236456</td>\n      <td>0.004094</td>\n      <td>-0.129064</td>\n      <td>-0.315425</td>\n      <td>...</td>\n      <td>0.767470</td>\n      <td>-0.561235</td>\n      <td>0.663768</td>\n      <td>0.670814</td>\n      <td>0.853905</td>\n      <td>0.589784</td>\n      <td>0.688131</td>\n      <td>0.239228</td>\n      <td>0.261840</td>\n      <td>-0.036042</td>\n    </tr>\n    <tr>\n      <th>BA</th>\n      <td>0.291520</td>\n      <td>0.792575</td>\n      <td>1.000000</td>\n      <td>-0.536545</td>\n      <td>0.627205</td>\n      <td>-0.465162</td>\n      <td>0.568946</td>\n      <td>0.417249</td>\n      <td>0.350917</td>\n      <td>0.139263</td>\n      <td>...</td>\n      <td>0.591316</td>\n      <td>-0.441828</td>\n      <td>0.729025</td>\n      <td>0.482806</td>\n      <td>0.802601</td>\n      <td>0.863653</td>\n      <td>0.916338</td>\n      <td>0.566156</td>\n      <td>0.224755</td>\n      <td>0.444624</td>\n    </tr>\n    <tr>\n      <th>BAC</th>\n      <td>0.432240</td>\n      <td>-0.746595</td>\n      <td>-0.536545</td>\n      <td>1.000000</td>\n      <td>-0.131058</td>\n      <td>0.813696</td>\n      <td>-0.295246</td>\n      <td>0.129762</td>\n      <td>0.421660</td>\n      <td>0.568918</td>\n      <td>...</td>\n      <td>-0.604937</td>\n      <td>0.817784</td>\n      <td>-0.695282</td>\n      <td>-0.311218</td>\n      <td>-0.786890</td>\n      <td>-0.418905</td>\n      <td>-0.508228</td>\n      <td>-0.089458</td>\n      <td>0.131447</td>\n      <td>0.123588</td>\n    </tr>\n    <tr>\n      <th>CAT</th>\n      <td>0.695727</td>\n      <td>0.255515</td>\n      <td>0.627205</td>\n      <td>-0.131058</td>\n      <td>1.000000</td>\n      <td>-0.375140</td>\n      <td>0.889416</td>\n      <td>0.902856</td>\n      <td>0.712870</td>\n      <td>0.463054</td>\n      <td>...</td>\n      <td>-0.030892</td>\n      <td>-0.325324</td>\n      <td>0.666647</td>\n      <td>-0.226021</td>\n      <td>0.482533</td>\n      <td>0.778439</td>\n      <td>0.734655</td>\n      <td>0.890315</td>\n      <td>-0.170677</td>\n      <td>0.803195</td>\n    </tr>\n    <tr>\n      <th>CSCO</th>\n      <td>0.277191</td>\n      <td>-0.593743</td>\n      <td>-0.465162</td>\n      <td>0.813696</td>\n      <td>-0.375140</td>\n      <td>1.000000</td>\n      <td>-0.548609</td>\n      <td>-0.175626</td>\n      <td>0.067161</td>\n      <td>0.362102</td>\n      <td>...</td>\n      <td>-0.286511</td>\n      <td>0.953722</td>\n      <td>-0.784896</td>\n      <td>0.036368</td>\n      <td>-0.704006</td>\n      <td>-0.549185</td>\n      <td>-0.496793</td>\n      <td>-0.228347</td>\n      <td>0.501898</td>\n      <td>-0.120732</td>\n    </tr>\n    <tr>\n      <th>CVX</th>\n      <td>0.470529</td>\n      <td>0.236456</td>\n      <td>0.568946</td>\n      <td>-0.295246</td>\n      <td>0.889416</td>\n      <td>-0.548609</td>\n      <td>1.000000</td>\n      <td>0.753270</td>\n      <td>0.555978</td>\n      <td>0.266078</td>\n      <td>...</td>\n      <td>-0.050057</td>\n      <td>-0.537355</td>\n      <td>0.760903</td>\n      <td>-0.318407</td>\n      <td>0.537364</td>\n      <td>0.730893</td>\n      <td>0.616767</td>\n      <td>0.764618</td>\n      <td>-0.436621</td>\n      <td>0.802900</td>\n    </tr>\n    <tr>\n      <th>DD</th>\n      <td>0.762246</td>\n      <td>0.004094</td>\n      <td>0.417249</td>\n      <td>0.129762</td>\n      <td>0.902856</td>\n      <td>-0.175626</td>\n      <td>0.753270</td>\n      <td>1.000000</td>\n      <td>0.826926</td>\n      <td>0.675104</td>\n      <td>...</td>\n      <td>-0.247912</td>\n      <td>-0.098323</td>\n      <td>0.391957</td>\n      <td>-0.331892</td>\n      <td>0.219675</td>\n      <td>0.659724</td>\n      <td>0.614146</td>\n      <td>0.796600</td>\n      <td>-0.144215</td>\n      <td>0.863511</td>\n    </tr>\n    <tr>\n      <th>DIS</th>\n      <td>0.772470</td>\n      <td>-0.129064</td>\n      <td>0.350917</td>\n      <td>0.421660</td>\n      <td>0.712870</td>\n      <td>0.067161</td>\n      <td>0.555978</td>\n      <td>0.826926</td>\n      <td>1.000000</td>\n      <td>0.817387</td>\n      <td>...</td>\n      <td>-0.307803</td>\n      <td>0.104224</td>\n      <td>0.177924</td>\n      <td>-0.255484</td>\n      <td>-0.047071</td>\n      <td>0.573376</td>\n      <td>0.424170</td>\n      <td>0.594160</td>\n      <td>-0.062269</td>\n      <td>0.803492</td>\n    </tr>\n    <tr>\n      <th>GE</th>\n      <td>0.740139</td>\n      <td>-0.315425</td>\n      <td>0.139263</td>\n      <td>0.568918</td>\n      <td>0.463054</td>\n      <td>0.362102</td>\n      <td>0.266078</td>\n      <td>0.675104</td>\n      <td>0.817387</td>\n      <td>1.000000</td>\n      <td>...</td>\n      <td>-0.483103</td>\n      <td>0.376957</td>\n      <td>-0.142550</td>\n      <td>-0.138952</td>\n      <td>-0.286933</td>\n      <td>0.363037</td>\n      <td>0.288354</td>\n      <td>0.411936</td>\n      <td>0.268604</td>\n      <td>0.720823</td>\n    </tr>\n    <tr>\n      <th>HD</th>\n      <td>0.744726</td>\n      <td>-0.201676</td>\n      <td>0.208978</td>\n      <td>0.461699</td>\n      <td>0.617550</td>\n      <td>0.227759</td>\n      <td>0.455472</td>\n      <td>0.773921</td>\n      <td>0.800034</td>\n      <td>0.858207</td>\n      <td>...</td>\n      <td>-0.421838</td>\n      <td>0.266660</td>\n      <td>0.023290</td>\n      <td>-0.198215</td>\n      <td>-0.096603</td>\n      <td>0.389842</td>\n      <td>0.358730</td>\n      <td>0.632286</td>\n      <td>0.167338</td>\n      <td>0.716404</td>\n    </tr>\n    <tr>\n      <th>HPQ</th>\n      <td>0.463457</td>\n      <td>-0.627805</td>\n      <td>-0.424803</td>\n      <td>0.905817</td>\n      <td>-0.153858</td>\n      <td>0.873873</td>\n      <td>-0.407382</td>\n      <td>0.099498</td>\n      <td>0.339893</td>\n      <td>0.607675</td>\n      <td>...</td>\n      <td>-0.487479</td>\n      <td>0.903509</td>\n      <td>-0.740969</td>\n      <td>-0.100764</td>\n      <td>-0.729214</td>\n      <td>-0.392180</td>\n      <td>-0.358968</td>\n      <td>-0.095685</td>\n      <td>0.436606</td>\n      <td>0.075982</td>\n    </tr>\n    <tr>\n      <th>IBM</th>\n      <td>0.268968</td>\n      <td>0.601554</td>\n      <td>0.799088</td>\n      <td>-0.580319</td>\n      <td>0.665304</td>\n      <td>-0.596533</td>\n      <td>0.653267</td>\n      <td>0.574629</td>\n      <td>0.364108</td>\n      <td>0.305004</td>\n      <td>...</td>\n      <td>0.237849</td>\n      <td>-0.603493</td>\n      <td>0.739418</td>\n      <td>0.202128</td>\n      <td>0.672091</td>\n      <td>0.885635</td>\n      <td>0.897552</td>\n      <td>0.569906</td>\n      <td>0.089690</td>\n      <td>0.588332</td>\n    </tr>\n    <tr>\n      <th>INTC</th>\n      <td>0.085051</td>\n      <td>0.590056</td>\n      <td>0.691094</td>\n      <td>-0.297917</td>\n      <td>0.141202</td>\n      <td>-0.072004</td>\n      <td>-0.028020</td>\n      <td>0.116171</td>\n      <td>0.173742</td>\n      <td>0.174845</td>\n      <td>...</td>\n      <td>0.527101</td>\n      <td>-0.098588</td>\n      <td>0.222282</td>\n      <td>0.659956</td>\n      <td>0.330208</td>\n      <td>0.570458</td>\n      <td>0.652434</td>\n      <td>0.049836</td>\n      <td>0.554295</td>\n      <td>0.114054</td>\n    </tr>\n    <tr>\n      <th>JNJ</th>\n      <td>-0.393426</td>\n      <td>0.854853</td>\n      <td>0.636901</td>\n      <td>-0.769121</td>\n      <td>-0.072006</td>\n      <td>-0.464153</td>\n      <td>-0.033943</td>\n      <td>-0.274953</td>\n      <td>-0.381198</td>\n      <td>-0.497596</td>\n      <td>...</td>\n      <td>0.844027</td>\n      <td>-0.457579</td>\n      <td>0.442348</td>\n      <td>0.736683</td>\n      <td>0.704299</td>\n      <td>0.363479</td>\n      <td>0.494515</td>\n      <td>-0.098076</td>\n      <td>0.285765</td>\n      <td>-0.243448</td>\n    </tr>\n    <tr>\n      <th>JPM</th>\n      <td>0.736155</td>\n      <td>-0.524431</td>\n      <td>-0.106955</td>\n      <td>0.809349</td>\n      <td>0.403562</td>\n      <td>0.502027</td>\n      <td>0.234367</td>\n      <td>0.589825</td>\n      <td>0.781623</td>\n      <td>0.830451</td>\n      <td>...</td>\n      <td>-0.586246</td>\n      <td>0.545154</td>\n      <td>-0.290659</td>\n      <td>-0.359019</td>\n      <td>-0.444122</td>\n      <td>0.092965</td>\n      <td>-0.033847</td>\n      <td>0.359076</td>\n      <td>0.042136</td>\n      <td>0.598958</td>\n    </tr>\n    <tr>\n      <th>KO</th>\n      <td>0.277167</td>\n      <td>0.632845</td>\n      <td>0.802006</td>\n      <td>-0.568760</td>\n      <td>0.699167</td>\n      <td>-0.648801</td>\n      <td>0.778194</td>\n      <td>0.528816</td>\n      <td>0.323733</td>\n      <td>0.051421</td>\n      <td>...</td>\n      <td>0.464082</td>\n      <td>-0.601751</td>\n      <td>0.799775</td>\n      <td>0.209647</td>\n      <td>0.868995</td>\n      <td>0.782831</td>\n      <td>0.790861</td>\n      <td>0.729981</td>\n      <td>-0.133084</td>\n      <td>0.503857</td>\n    </tr>\n    <tr>\n      <th>KRFT</th>\n      <td>-0.322700</td>\n      <td>0.873510</td>\n      <td>0.713871</td>\n      <td>-0.896227</td>\n      <td>0.185959</td>\n      <td>-0.726013</td>\n      <td>0.302484</td>\n      <td>-0.039767</td>\n      <td>-0.243201</td>\n      <td>-0.450712</td>\n      <td>...</td>\n      <td>0.746051</td>\n      <td>-0.736256</td>\n      <td>0.724719</td>\n      <td>0.520976</td>\n      <td>0.865466</td>\n      <td>0.557087</td>\n      <td>0.623160</td>\n      <td>0.180898</td>\n      <td>0.007123</td>\n      <td>-0.053104</td>\n    </tr>\n    <tr>\n      <th>MCD</th>\n      <td>-0.368521</td>\n      <td>0.859645</td>\n      <td>0.637442</td>\n      <td>-0.880565</td>\n      <td>0.106767</td>\n      <td>-0.777768</td>\n      <td>0.211523</td>\n      <td>-0.084062</td>\n      <td>-0.251648</td>\n      <td>-0.414150</td>\n      <td>...</td>\n      <td>0.676978</td>\n      <td>-0.754711</td>\n      <td>0.676171</td>\n      <td>0.494006</td>\n      <td>0.804728</td>\n      <td>0.504014</td>\n      <td>0.584172</td>\n      <td>0.102321</td>\n      <td>-0.002520</td>\n      <td>-0.104349</td>\n    </tr>\n    <tr>\n      <th>MMM</th>\n      <td>0.408274</td>\n      <td>0.608430</td>\n      <td>0.886893</td>\n      <td>-0.409374</td>\n      <td>0.806474</td>\n      <td>-0.555884</td>\n      <td>0.754477</td>\n      <td>0.682411</td>\n      <td>0.555023</td>\n      <td>0.320383</td>\n      <td>...</td>\n      <td>0.303381</td>\n      <td>-0.482017</td>\n      <td>0.746360</td>\n      <td>0.174378</td>\n      <td>0.714409</td>\n      <td>0.891726</td>\n      <td>0.913696</td>\n      <td>0.703299</td>\n      <td>0.010741</td>\n      <td>0.640352</td>\n    </tr>\n    <tr>\n      <th>MRK</th>\n      <td>-0.194258</td>\n      <td>0.767470</td>\n      <td>0.591316</td>\n      <td>-0.604937</td>\n      <td>-0.030892</td>\n      <td>-0.286511</td>\n      <td>-0.050057</td>\n      <td>-0.247912</td>\n      <td>-0.307803</td>\n      <td>-0.483103</td>\n      <td>...</td>\n      <td>1.000000</td>\n      <td>-0.263386</td>\n      <td>0.398446</td>\n      <td>0.749713</td>\n      <td>0.715501</td>\n      <td>0.266453</td>\n      <td>0.411942</td>\n      <td>0.109787</td>\n      <td>0.329347</td>\n      <td>-0.308169</td>\n    </tr>\n    <tr>\n      <th>MSFT</th>\n      <td>0.317951</td>\n      <td>-0.561235</td>\n      <td>-0.441828</td>\n      <td>0.817784</td>\n      <td>-0.325324</td>\n      <td>0.953722</td>\n      <td>-0.537355</td>\n      <td>-0.098323</td>\n      <td>0.104224</td>\n      <td>0.376957</td>\n      <td>...</td>\n      <td>-0.263386</td>\n      <td>1.000000</td>\n      <td>-0.823846</td>\n      <td>0.031521</td>\n      <td>-0.646825</td>\n      <td>-0.564088</td>\n      <td>-0.431175</td>\n      <td>-0.164364</td>\n      <td>0.477927</td>\n      <td>-0.116259</td>\n    </tr>\n    <tr>\n      <th>PFE</th>\n      <td>0.111613</td>\n      <td>0.663768</td>\n      <td>0.729025</td>\n      <td>-0.695282</td>\n      <td>0.666647</td>\n      <td>-0.784896</td>\n      <td>0.760903</td>\n      <td>0.391957</td>\n      <td>0.177924</td>\n      <td>-0.142550</td>\n      <td>...</td>\n      <td>0.398446</td>\n      <td>-0.823846</td>\n      <td>1.000000</td>\n      <td>0.059658</td>\n      <td>0.806544</td>\n      <td>0.767456</td>\n      <td>0.682301</td>\n      <td>0.578207</td>\n      <td>-0.264241</td>\n      <td>0.385485</td>\n    </tr>\n    <tr>\n      <th>PG</th>\n      <td>-0.162919</td>\n      <td>0.670814</td>\n      <td>0.482806</td>\n      <td>-0.311218</td>\n      <td>-0.226021</td>\n      <td>0.036368</td>\n      <td>-0.318407</td>\n      <td>-0.331892</td>\n      <td>-0.255484</td>\n      <td>-0.138952</td>\n      <td>...</td>\n      <td>0.749713</td>\n      <td>0.031521</td>\n      <td>0.059658</td>\n      <td>1.000000</td>\n      <td>0.420170</td>\n      <td>0.197943</td>\n      <td>0.323977</td>\n      <td>-0.092622</td>\n      <td>0.723706</td>\n      <td>-0.269751</td>\n    </tr>\n    <tr>\n      <th>T</th>\n      <td>0.030825</td>\n      <td>0.853905</td>\n      <td>0.802601</td>\n      <td>-0.786890</td>\n      <td>0.482533</td>\n      <td>-0.704006</td>\n      <td>0.537364</td>\n      <td>0.219675</td>\n      <td>-0.047071</td>\n      <td>-0.286933</td>\n      <td>...</td>\n      <td>0.715501</td>\n      <td>-0.646825</td>\n      <td>0.806544</td>\n      <td>0.420170</td>\n      <td>1.000000</td>\n      <td>0.642132</td>\n      <td>0.740660</td>\n      <td>0.531474</td>\n      <td>-0.014641</td>\n      <td>0.165279</td>\n    </tr>\n    <tr>\n      <th>TRV</th>\n      <td>0.405575</td>\n      <td>0.589784</td>\n      <td>0.863653</td>\n      <td>-0.418905</td>\n      <td>0.778439</td>\n      <td>-0.549185</td>\n      <td>0.730893</td>\n      <td>0.659724</td>\n      <td>0.573376</td>\n      <td>0.363037</td>\n      <td>...</td>\n      <td>0.266453</td>\n      <td>-0.564088</td>\n      <td>0.767456</td>\n      <td>0.197943</td>\n      <td>0.642132</td>\n      <td>1.000000</td>\n      <td>0.874205</td>\n      <td>0.605240</td>\n      <td>0.019259</td>\n      <td>0.683718</td>\n    </tr>\n    <tr>\n      <th>UTX</th>\n      <td>0.407474</td>\n      <td>0.688131</td>\n      <td>0.916338</td>\n      <td>-0.508228</td>\n      <td>0.734655</td>\n      <td>-0.496793</td>\n      <td>0.616767</td>\n      <td>0.614146</td>\n      <td>0.424170</td>\n      <td>0.288354</td>\n      <td>...</td>\n      <td>0.411942</td>\n      <td>-0.431175</td>\n      <td>0.682301</td>\n      <td>0.323977</td>\n      <td>0.740660</td>\n      <td>0.874205</td>\n      <td>1.000000</td>\n      <td>0.665665</td>\n      <td>0.196291</td>\n      <td>0.537364</td>\n    </tr>\n    <tr>\n      <th>VZ</th>\n      <td>0.728472</td>\n      <td>0.239228</td>\n      <td>0.566156</td>\n      <td>-0.089458</td>\n      <td>0.890315</td>\n      <td>-0.228347</td>\n      <td>0.764618</td>\n      <td>0.796600</td>\n      <td>0.594160</td>\n      <td>0.411936</td>\n      <td>...</td>\n      <td>0.109787</td>\n      <td>-0.164364</td>\n      <td>0.578207</td>\n      <td>-0.092622</td>\n      <td>0.531474</td>\n      <td>0.605240</td>\n      <td>0.665665</td>\n      <td>1.000000</td>\n      <td>-0.032508</td>\n      <td>0.648415</td>\n    </tr>\n    <tr>\n      <th>WMT</th>\n      <td>0.171045</td>\n      <td>0.261840</td>\n      <td>0.224755</td>\n      <td>0.131447</td>\n      <td>-0.170677</td>\n      <td>0.501898</td>\n      <td>-0.436621</td>\n      <td>-0.144215</td>\n      <td>-0.062269</td>\n      <td>0.268604</td>\n      <td>...</td>\n      <td>0.329347</td>\n      <td>0.477927</td>\n      <td>-0.264241</td>\n      <td>0.723706</td>\n      <td>-0.014641</td>\n      <td>0.019259</td>\n      <td>0.196291</td>\n      <td>-0.032508</td>\n      <td>1.000000</td>\n      <td>-0.146847</td>\n    </tr>\n    <tr>\n      <th>XOM</th>\n      <td>0.685739</td>\n      <td>-0.036042</td>\n      <td>0.444624</td>\n      <td>0.123588</td>\n      <td>0.803195</td>\n      <td>-0.120732</td>\n      <td>0.802900</td>\n      <td>0.863511</td>\n      <td>0.803492</td>\n      <td>0.720823</td>\n      <td>...</td>\n      <td>-0.308169</td>\n      <td>-0.116259</td>\n      <td>0.385485</td>\n      <td>-0.269751</td>\n      <td>0.165279</td>\n      <td>0.683718</td>\n      <td>0.537364</td>\n      <td>0.648415</td>\n      <td>-0.146847</td>\n      <td>1.000000</td>\n    </tr>\n  </tbody>\n</table>\n<p>30 rows × 30 columns</p>\n</div>"
     },
     "execution_count": 25,
     "metadata": {},
     "output_type": "execute_result"
    }
   ],
   "source": [
    "# 相関行列\n",
    "corr_data = dow_close_data.corr()\n",
    "corr_data"
   ],
   "metadata": {
    "collapsed": false,
    "pycharm": {
     "name": "#%%\n"
    }
   }
  },
  {
   "cell_type": "code",
   "execution_count": 26,
   "outputs": [
    {
     "data": {
      "text/plain": "<AxesSubplot:xlabel='stock', ylabel='stock'>"
     },
     "execution_count": 26,
     "metadata": {},
     "output_type": "execute_result"
    },
    {
     "data": {
      "text/plain": "<Figure size 432x288 with 2 Axes>",
      "image/png": "[encoded data removed]"
     },
     "metadata": {
      "needs_background": "light"
     },
     "output_type": "display_data"
    }
   ],
   "source": [
    "# ヒートマップ\n",
    "sns.heatmap(corr_data)"
   ],
   "metadata": {
    "collapsed": false,
    "pycharm": {
     "name": "#%%\n"
    }
   }
  },
  {
   "cell_type": "code",
   "execution_count": 27,
   "outputs": [
    {
     "name": "stdout",
     "output_type": "stream",
     "text": [
      "AA DIS 0.7724697655620214\n",
      "AXP KRFT 0.8735103611554017\n",
      "BA UTX 0.9163379610743169\n",
      "BAC HPQ 0.9058167680009366\n",
      "CAT DD 0.9028558103078965\n",
      "CSCO MSFT 0.9537216645891365\n",
      "CVX CAT 0.8894156562923724\n",
      "DD CAT 0.9028558103078965\n",
      "DIS DD 0.8269258130241477\n",
      "GE HD 0.8582069310150242\n",
      "HD GE 0.8582069310150242\n",
      "HPQ BAC 0.9058167680009366\n",
      "IBM UTX 0.8975523835362522\n",
      "INTC BA 0.6910939563692001\n",
      "JNJ KRFT 0.8612879882611021\n",
      "JPM GE 0.830450859436039\n",
      "KO T 0.868995241583572\n",
      "KRFT MCD 0.9299213037922904\n",
      "MCD KRFT 0.9299213037922904\n",
      "MMM UTX 0.9136955626526879\n",
      "MRK JNJ 0.8440270438854454\n",
      "MSFT CSCO 0.9537216645891365\n",
      "PFE T 0.806543944675414\n",
      "PG MRK 0.7497131367292437\n",
      "T KO 0.868995241583572\n",
      "TRV MMM 0.8917262016156643\n",
      "UTX BA 0.9163379610743169\n",
      "VZ CAT 0.8903147891825165\n",
      "WMT PG 0.7237055485083286\n",
      "XOM DD 0.8635107559399798\n",
      "[Max Corr]: 0.9537216645891365\n",
      "[stock_1]: CSCO\n",
      "[stock_2]: MSFT\n"
     ]
    }
   ],
   "source": [
    "# initial value\n",
    "max_corr = 0\n",
    "stock_1 = ''\n",
    "stock_2 = ''\n",
    "for i in range(0,len(corr_data)):\n",
    "    print(\n",
    "        corr_data[i:i+1].unstack().sort_values(ascending=False)[[1]].idxmax()[1],\n",
    "        corr_data[i:i+1].unstack().sort_values(ascending=False)[[1]].idxmax()[0],\n",
    "        corr_data[i:i+1].unstack().sort_values(ascending=False)[[1]][0]\n",
    "        )\n",
    "    if max_corr < corr_data[i:i+1].unstack().sort_values(ascending=False)[[1]][0]:\n",
    "        max_corr = corr_data[i:i+1].unstack().sort_values(ascending=False)[[1]][0]\n",
    "        stock_1 = corr_data[i:i+1].unstack().sort_values(ascending=False)[[1]].idxmax()[1]\n",
    "        stock_2 = corr_data[i:i+1].unstack().sort_values(ascending=False)[[1]].idxmax()[0]\n",
    "# max_coorのペアを出力\n",
    "print('[Max Corr]:',max_corr)\n",
    "print('[stock_1]:',stock_1)\n",
    "print('[stock_2]:',stock_2)"
   ],
   "metadata": {
    "collapsed": false,
    "pycharm": {
     "name": "#%%\n"
    }
   }
  },
  {
   "cell_type": "code",
   "execution_count": 28,
   "outputs": [
    {
     "data": {
      "text/plain": "<Figure size 432x288 with 2 Axes>",
      "image/png": "[encoded data removed]"
     },
     "metadata": {
      "needs_background": "light"
     },
     "output_type": "display_data"
    }
   ],
   "source": [
    "dow_close_data_subsets =dow_close_data[[stock_1,stock_2]]\n",
    "dow_close_data_subsets.plot(subplots=True,grid=True)\n",
    "plt.grid(True)"
   ],
   "metadata": {
    "collapsed": false,
    "pycharm": {
     "name": "#%%\n"
    }
   }
  },
  {
   "cell_type": "code",
   "execution_count": 29,
   "outputs": [
    {
     "data": {
      "text/plain": "  InvoiceNo StockCode                          Description  Quantity  \\\n0    536365    85123A   WHITE HANGING HEART T-LIGHT HOLDER         6   \n1    536365     71053                  WHITE METAL LANTERN         6   \n2    536365    84406B       CREAM CUPID HEARTS COAT HANGER         8   \n3    536365    84029G  KNITTED UNION FLAG HOT WATER BOTTLE         6   \n4    536365    84029E       RED WOOLLY HOTTIE WHITE HEART.         6   \n\n          InvoiceDate  UnitPrice  CustomerID         Country  \n0 2010-12-01 08:26:00       2.55     17850.0  United Kingdom  \n1 2010-12-01 08:26:00       3.39     17850.0  United Kingdom  \n2 2010-12-01 08:26:00       2.75     17850.0  United Kingdom  \n3 2010-12-01 08:26:00       3.39     17850.0  United Kingdom  \n4 2010-12-01 08:26:00       3.39     17850.0  United Kingdom  ",
      "text/html": "<div>\n<style scoped>\n    .dataframe tbody tr th:only-of-type {\n        vertical-align: middle;\n    }\n\n    .dataframe tbody tr th {\n        vertical-align: top;\n    }\n\n    .dataframe thead th {\n        text-align: right;\n    }\n</style>\n<table border=\"1\" class=\"dataframe\">\n  <thead>\n    <tr style=\"text-align: right;\">\n      <th></th>\n      <th>InvoiceNo</th>\n      <th>StockCode</th>\n      <th>Description</th>\n      <th>Quantity</th>\n      <th>InvoiceDate</th>\n      <th>UnitPrice</th>\n      <th>CustomerID</th>\n      <th>Country</th>\n    </tr>\n  </thead>\n  <tbody>\n    <tr>\n      <th>0</th>\n      <td>536365</td>\n      <td>85123A</td>\n      <td>WHITE HANGING HEART T-LIGHT HOLDER</td>\n      <td>6</td>\n      <td>2010-12-01 08:26:00</td>\n      <td>2.55</td>\n      <td>17850.0</td>\n      <td>United Kingdom</td>\n    </tr>\n    <tr>\n      <th>1</th>\n      <td>536365</td>\n      <td>71053</td>\n      <td>WHITE METAL LANTERN</td>\n      <td>6</td>\n      <td>2010-12-01 08:26:00</td>\n      <td>3.39</td>\n      <td>17850.0</td>\n      <td>United Kingdom</td>\n    </tr>\n    <tr>\n      <th>2</th>\n      <td>536365</td>\n      <td>84406B</td>\n      <td>CREAM CUPID HEARTS COAT HANGER</td>\n      <td>8</td>\n      <td>2010-12-01 08:26:00</td>\n      <td>2.75</td>\n      <td>17850.0</td>\n      <td>United Kingdom</td>\n    </tr>\n    <tr>\n      <th>3</th>\n      <td>536365</td>\n      <td>84029G</td>\n      <td>KNITTED UNION FLAG HOT WATER BOTTLE</td>\n      <td>6</td>\n      <td>2010-12-01 08:26:00</td>\n      <td>3.39</td>\n      <td>17850.0</td>\n      <td>United Kingdom</td>\n    </tr>\n    <tr>\n      <th>4</th>\n      <td>536365</td>\n      <td>84029E</td>\n      <td>RED WOOLLY HOTTIE WHITE HEART.</td>\n      <td>6</td>\n      <td>2010-12-01 08:26:00</td>\n      <td>3.39</td>\n      <td>17850.0</td>\n      <td>United Kingdom</td>\n    </tr>\n  </tbody>\n</table>\n</div>"
     },
     "execution_count": 18,
     "metadata": {},
     "output_type": "execute_result"
    },
    {
     "data": {
      "text/plain": "  InvoiceNo StockCode                          Description  Quantity  \\\n0    536365    85123A   WHITE HANGING HEART T-LIGHT HOLDER         6   \n1    536365     71053                  WHITE METAL LANTERN         6   \n2    536365    84406B       CREAM CUPID HEARTS COAT HANGER         8   \n3    536365    84029G  KNITTED UNION FLAG HOT WATER BOTTLE         6   \n4    536365    84029E       RED WOOLLY HOTTIE WHITE HEART.         6   \n\n          InvoiceDate  UnitPrice  CustomerID         Country  \n0 2010-12-01 08:26:00       2.55     17850.0  United Kingdom  \n1 2010-12-01 08:26:00       3.39     17850.0  United Kingdom  \n2 2010-12-01 08:26:00       2.75     17850.0  United Kingdom  \n3 2010-12-01 08:26:00       3.39     17850.0  United Kingdom  \n4 2010-12-01 08:26:00       3.39     17850.0  United Kingdom  ",
      "text/html": "<div>\n<style scoped>\n    .dataframe tbody tr th:only-of-type {\n        vertical-align: middle;\n    }\n\n    .dataframe tbody tr th {\n        vertical-align: top;\n    }\n\n    .dataframe thead th {\n        text-align: right;\n    }\n</style>\n<table border=\"1\" class=\"dataframe\">\n  <thead>\n    <tr style=\"text-align: right;\">\n      <th></th>\n      <th>InvoiceNo</th>\n      <th>StockCode</th>\n      <th>Description</th>\n      <th>Quantity</th>\n      <th>InvoiceDate</th>\n      <th>UnitPrice</th>\n      <th>CustomerID</th>\n      <th>Country</th>\n    </tr>\n  </thead>\n  <tbody>\n    <tr>\n      <th>0</th>\n      <td>536365</td>\n      <td>85123A</td>\n      <td>WHITE HANGING HEART T-LIGHT HOLDER</td>\n      <td>6</td>\n      <td>2010-12-01 08:26:00</td>\n      <td>2.55</td>\n      <td>17850.0</td>\n      <td>United Kingdom</td>\n    </tr>\n    <tr>\n      <th>1</th>\n      <td>536365</td>\n      <td>71053</td>\n      <td>WHITE METAL LANTERN</td>\n      <td>6</td>\n      <td>2010-12-01 08:26:00</td>\n      <td>3.39</td>\n      <td>17850.0</td>\n      <td>United Kingdom</td>\n    </tr>\n    <tr>\n      <th>2</th>\n      <td>536365</td>\n      <td>84406B</td>\n      <td>CREAM CUPID HEARTS COAT HANGER</td>\n      <td>8</td>\n      <td>2010-12-01 08:26:00</td>\n      <td>2.75</td>\n      <td>17850.0</td>\n      <td>United Kingdom</td>\n    </tr>\n    <tr>\n      <th>3</th>\n      <td>536365</td>\n      <td>84029G</td>\n      <td>KNITTED UNION FLAG HOT WATER BOTTLE</td>\n      <td>6</td>\n      <td>2010-12-01 08:26:00</td>\n      <td>3.39</td>\n      <td>17850.0</td>\n      <td>United Kingdom</td>\n    </tr>\n    <tr>\n      <th>4</th>\n      <td>536365</td>\n      <td>84029E</td>\n      <td>RED WOOLLY HOTTIE WHITE HEART.</td>\n      <td>6</td>\n      <td>2010-12-01 08:26:00</td>\n      <td>3.39</td>\n      <td>17850.0</td>\n      <td>United Kingdom</td>\n    </tr>\n  </tbody>\n</table>\n</div>"
     },
     "execution_count": 29,
     "metadata": {},
     "output_type": "execute_result"
    }
   ],
   "source": [
    "# 50万件以上で時間がかかる\n",
    "online_retail_data = pd.ExcelFile('./Online Retail.xlsx')\n",
    "# シートを指定する\n",
    "online_retail_data_table = online_retail_data.parse('Online Retail')\n",
    "online_retail_data_table.head()"
   ],
   "metadata": {
    "collapsed": false,
    "pycharm": {
     "name": "#%%\n"
    }
   }
  },
  {
   "cell_type": "code",
   "execution_count": 30,
   "outputs": [
    {
     "name": "stdout",
     "output_type": "stream",
     "text": [
      "<class 'pandas.core.frame.DataFrame'>\n",
      "RangeIndex: 541909 entries, 0 to 541908\n",
      "Data columns (total 8 columns):\n",
      " #   Column       Non-Null Count   Dtype         \n",
      "---  ------       --------------   -----         \n",
      " 0   InvoiceNo    541909 non-null  object        \n",
      " 1   StockCode    541909 non-null  object        \n",
      " 2   Description  540455 non-null  object        \n",
      " 3   Quantity     541909 non-null  int64         \n",
      " 4   InvoiceDate  541909 non-null  datetime64[ns]\n",
      " 5   UnitPrice    541909 non-null  float64       \n",
      " 6   CustomerID   406829 non-null  float64       \n",
      " 7   Country      541909 non-null  object        \n",
      "dtypes: datetime64[ns](1), float64(2), int64(1), object(4)\n",
      "memory usage: 33.1+ MB\n"
     ]
    }
   ],
   "source": [
    "# データの確認\n",
    "online_retail_data_table.info()"
   ],
   "metadata": {
    "collapsed": false,
    "pycharm": {
     "name": "#%%\n"
    }
   }
  },
  {
   "cell_type": "code",
   "execution_count": 31,
   "outputs": [
    {
     "data": {
      "text/plain": "cancel_flg\n5    532618\nA         3\nC      9288\ndtype: int64"
     },
     "execution_count": 31,
     "metadata": {},
     "output_type": "execute_result"
    }
   ],
   "source": [
    "# InvoiceNoの1文字目を抽出する処理。mapとLambda関数を使う\n",
    "online_retail_data_table['cancel_flg'] = online_retail_data_table.InvoiceNo.map(lambda x:str(x)[0])\n",
    "online_retail_data_table.groupby('cancel_flg').size()"
   ],
   "metadata": {
    "collapsed": false,
    "pycharm": {
     "name": "#%%\n"
    }
   }
  },
  {
   "cell_type": "code",
   "execution_count": 34,
   "outputs": [],
   "source": [
    "online_retail_data_table = online_retail_data_table[(online_retail_data_table.cancel_flg == '5') & (online_retail_data_table.CustomerID.notnull())]"
   ],
   "metadata": {
    "collapsed": false,
    "pycharm": {
     "name": "#%%\n"
    }
   }
  },
  {
   "cell_type": "code",
   "execution_count": 35,
   "outputs": [
    {
     "name": "stdout",
     "output_type": "stream",
     "text": [
      "購買者数（ユニーク）: 4339\n",
      "商品コード数: 3665\n",
      "商品名の種類数: 3877\n",
      "バスケット数: 18536\n"
     ]
    }
   ],
   "source": [
    "# unique ID\n",
    "print('購買者数（ユニーク）:',len(online_retail_data_table.CustomerID.unique()))\n",
    "# unique StockCode\n",
    "print('商品コード数:',len(online_retail_data_table.StockCode.unique()))\n",
    "# unique description\n",
    "print('商品名の種類数:',len(online_retail_data_table.Description.unique()))\n",
    "# unique bascket\n",
    "print('バスケット数:',len(online_retail_data_table.InvoiceNo.unique()))"
   ],
   "metadata": {
    "collapsed": false,
    "pycharm": {
     "name": "#%%\n"
    }
   }
  },
  {
   "cell_type": "code",
   "execution_count": 36,
   "outputs": [
    {
     "name": "stdout",
     "output_type": "stream",
     "text": [
      "Country\n",
      "United Kingdom    7308391.554\n",
      "Netherlands        285446.340\n",
      "EIRE               265545.900\n",
      "Germany            228867.140\n",
      "France             209024.050\n",
      "Name: TotalPrice, dtype: float64\n",
      "TOP5の国のリスト: Index(['United Kingdom', 'Netherlands', 'EIRE', 'Germany', 'France'], dtype='object', name='Country')\n"
     ]
    }
   ],
   "source": [
    "# 売り上げ合計を求めるため、新しいカラムの追加（売り上げ＝数量×単価）\n",
    "online_retail_data_table['TotalPrice'] = online_retail_data_table.Quantity * online_retail_data_table.UnitPrice\n",
    "# それぞれの国ごとに売り上げ合計金額を算出\n",
    "country_data_total_p = online_retail_data_table.groupby('Country')['TotalPrice'].sum()\n",
    "# 値に対して、降順にソートして、TOP5を抜き出す。\n",
    "top_five_country =country_data_total_p.sort_values(ascending=False)[0:5]\n",
    "# TOP5の国\n",
    "print(top_five_country)\n",
    "# TOP5の国のリスト\n",
    "print('TOP5の国のリスト:',top_five_country.index)"
   ],
   "metadata": {
    "collapsed": false,
    "pycharm": {
     "name": "#%%\n"
    }
   }
  },
  {
   "cell_type": "code",
   "execution_count": 37,
   "outputs": [],
   "source": [
    "#Scikit-learnのLinear_modelをインポート\n",
    "from sklearn import linear_model\n",
    "# 線形回帰のインスタンスを生成\n",
    "reg = linear_model.LinearRegression()\n",
    "# 数学の成績データの読み込み\n",
    "student_data_math = pd.read_csv('student-mat.csv',sep=';')"
   ],
   "metadata": {
    "collapsed": false,
    "pycharm": {
     "name": "#%%\n"
    }
   }
  },
  {
   "cell_type": "code",
   "execution_count": 38,
   "outputs": [
    {
     "name": "stdout",
     "output_type": "stream",
     "text": [
      "回帰係数: [1.106]\n",
      "切片: -1.652803828800458\n"
     ]
    }
   ],
   "source": [
    "# 説明変数に \"一期目の数学の成績\" を利用\n",
    "# locはデータフレームから、行と列を指定して取り出す。\n",
    "# loc[:, ['G1']]は、G1列のすべての列を取り出すことをしている\n",
    "# valuesに直しているので、注意\n",
    "X = student_data_math.loc[:, ['G1']].values\n",
    "# 目的変数に \"最終の数学の成績\" を利用\n",
    "Y = student_data_math['G3'].values\n",
    "# 予測モデルを計算、ここでa,bを算出\n",
    "reg.fit(X, Y)\n",
    "# 回帰係数\n",
    "print('回帰係数:', reg.coef_)\n",
    "# 切片\n",
    "print('切片:', reg.intercept_)"
   ],
   "metadata": {
    "collapsed": false,
    "pycharm": {
     "name": "#%%\n"
    }
   }
  },
  {
   "cell_type": "code",
   "execution_count": 39,
   "outputs": [
    {
     "data": {
      "text/plain": "<Figure size 432x288 with 1 Axes>",
      "image/png": "[encoded data removed]"
     },
     "metadata": {
      "needs_background": "light"
     },
     "output_type": "display_data"
    }
   ],
   "source": [
    "# 先ほどと同じ散布図\n",
    "plt.scatter(X, Y)\n",
    "plt.xlabel('G1 grade')\n",
    "plt.ylabel('G3 grade')\n",
    "# その上に線形回帰直線を引く\n",
    "plt.plot(X, reg.predict(X))\n",
    "plt.grid(True)"
   ],
   "metadata": {
    "collapsed": false,
    "pycharm": {
     "name": "#%%\n"
    }
   }
  },
  {
   "cell_type": "code",
   "execution_count": 40,
   "outputs": [
    {
     "name": "stdout",
     "output_type": "stream",
     "text": [
      "決定係数: 0.64235084605227\n"
     ]
    }
   ],
   "source": [
    "# 決定係数、寄与率とも呼ばれる\n",
    "print('決定係数:', reg.score(X, Y))"
   ],
   "metadata": {
    "collapsed": false,
    "pycharm": {
     "name": "#%%\n"
    }
   }
  },
  {
   "cell_type": "code",
   "execution_count": null,
   "outputs": [],
   "source": [],
   "metadata": {
    "collapsed": false,
    "pycharm": {
     "name": "#%%\n"
    }
   }
  }
 ],
 "metadata": {
  "kernelspec": {
   "display_name": "Python 3",
   "language": "python",
   "name": "python3"
  },
  "language_info": {
   "codemirror_mode": {
    "name": "ipython",
    "version": 2
   },
   "file_extension": ".py",
   "mimetype": "text/x-python",
   "name": "python",
   "nbconvert_exporter": "python",
   "pygments_lexer": "ipython2",
   "version": "2.7.6"
  }
 },
 "nbformat": 4,
 "nbformat_minor": 0
}