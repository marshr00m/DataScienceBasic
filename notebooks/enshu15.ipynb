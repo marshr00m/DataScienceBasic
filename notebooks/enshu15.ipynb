{
 "cells": [
  {
   "cell_type": "code",
   "execution_count": 28,
   "outputs": [
    {
     "data": {
      "text/plain": "'%.3f'"
     },
     "execution_count": 28,
     "metadata": {},
     "output_type": "execute_result"
    }
   ],
   "source": [
    "# numpy, scipy, pandasのインポート\n",
    "import numpy as np\n",
    "import numpy.random as random\n",
    "import scipy as sp\n",
    "import pandas as pd\n",
    "from pandas import Series, DataFrame\n",
    "# 可視化ライブラリ\n",
    "import matplotlib.pyplot as plt\n",
    "import matplotlib as mpl\n",
    "import seaborn as sns\n",
    "%matplotlib inline\n",
    "# 機械学習ライブラリ\n",
    "import sklearn\n",
    "# 小数第3位まで表示\n",
    "%precision 3"
   ],
   "metadata": {
    "collapsed": false,
    "pycharm": {
     "name": "#%%\n"
    }
   }
  },
  {
   "cell_type": "code",
   "execution_count": 29,
   "outputs": [],
   "source": [
    "import warnings\n",
    "warnings.filterwarnings('ignore')"
   ],
   "metadata": {
    "collapsed": false,
    "pycharm": {
     "name": "#%%\n"
    }
   }
  },
  {
   "cell_type": "code",
   "execution_count": 50,
   "outputs": [
    {
     "ename": "AttributeError",
     "evalue": "'DecisionTreeClassifier' object has no attribute 'head'",
     "output_type": "error",
     "traceback": [
      "\u001B[1;31m---------------------------------------------------------------------------\u001B[0m",
      "\u001B[1;31mAttributeError\u001B[0m                            Traceback (most recent call last)",
      "Input \u001B[1;32mIn [50]\u001B[0m, in \u001B[0;36m<cell line: 9>\u001B[1;34m()\u001B[0m\n\u001B[0;32m      7\u001B[0m \u001B[38;5;66;03m# 決定木クラスの初期化\u001B[39;00m\n\u001B[0;32m      8\u001B[0m tree \u001B[38;5;241m=\u001B[39m DecisionTreeClassifier(criterion\u001B[38;5;241m=\u001B[39m\u001B[38;5;124m'\u001B[39m\u001B[38;5;124mentropy\u001B[39m\u001B[38;5;124m'\u001B[39m, max_depth\u001B[38;5;241m=\u001B[39m\u001B[38;5;241m3\u001B[39m, random_state\u001B[38;5;241m=\u001B[39m\u001B[38;5;241m0\u001B[39m)\n\u001B[1;32m----> 9\u001B[0m \u001B[43mtree\u001B[49m\u001B[38;5;241;43m.\u001B[39;49m\u001B[43mhead\u001B[49m()\n\u001B[0;32m     10\u001B[0m \u001B[38;5;66;03m# k分割交差検証の実行\u001B[39;00m\n\u001B[0;32m     11\u001B[0m scores \u001B[38;5;241m=\u001B[39m cross_val_score(tree, cancer\u001B[38;5;241m.\u001B[39mdata, cancer\u001B[38;5;241m.\u001B[39mtarget, cv\u001B[38;5;241m=\u001B[39m\u001B[38;5;241m5\u001B[39m)\n",
      "\u001B[1;31mAttributeError\u001B[0m: 'DecisionTreeClassifier' object has no attribute 'head'"
     ]
    }
   ],
   "source": [
    "# 必要なライブラリ等のインポート\n",
    "from sklearn.datasets import load_breast_cancer\n",
    "from sklearn.tree import DecisionTreeClassifier\n",
    "from sklearn.model_selection import cross_val_score\n",
    "# 乳がんのデータを読み込み\n",
    "cancer = load_breast_cancer()\n",
    "# 決定木クラスの初期化\n",
    "tree = DecisionTreeClassifier(criterion='entropy', max_depth=3, random_state=0)\n",
    "# k分割交差検証の実行\n",
    "scores = cross_val_score(tree, cancer.data, cancer.target, cv=5)\n",
    "# 結果の表示\n",
    "print('Cross validation scores: {}'.format(scores))\n",
    "print('Cross validation scores: {:.3f}+-{:.3f}'.format(scores.mean(), scores.std()))"
   ],
   "metadata": {
    "collapsed": false,
    "pycharm": {
     "name": "#%%\n"
    }
   }
  },
  {
   "cell_type": "code",
   "execution_count": 31,
   "outputs": [
    {
     "name": "stdout",
     "output_type": "stream",
     "text": [
      "ベストスコア:0.91\n",
      "その時のパラメータ(gamma, C):(0.001, 1.0)\n"
     ]
    },
    {
     "data": {
      "text/plain": "<AxesSubplot:>"
     },
     "execution_count": 31,
     "metadata": {},
     "output_type": "execute_result"
    },
    {
     "data": {
      "text/plain": "<Figure size 432x288 with 2 Axes>",
      "image/png": "[encoded data removed]"
     },
     "metadata": {
      "needs_background": "light"
     },
     "output_type": "display_data"
    }
   ],
   "source": [
    "# インポート\n",
    "from sklearn.svm import SVC\n",
    "from sklearn.model_selection import train_test_split\n",
    "# 乳がんのデータを読み込み\n",
    "cancer = load_breast_cancer()\n",
    "# 訓練データとテストデータに分ける\n",
    "X_train, X_test, y_train, y_test = train_test_split(cancer.data,\n",
    "    cancer.target,\n",
    "    stratify = cancer.target,\n",
    "    random_state=0)\n",
    "# ハイパーパラメータのすべての組み合わせでモデルを構築・検証\n",
    "scores = {}\n",
    "for gamma in np.logspace(-3, 2, num=6):\n",
    "    for C in np.logspace(-3, 2, num=6):\n",
    "        svm = SVC(gamma=gamma, C=C)\n",
    "        svm.fit(X_train,y_train)\n",
    "        scores[(gamma, C)] = svm.score(X_test, y_test)\n",
    "# 検証結果をscoresに格納\n",
    "scores = pd.Series(scores)\n",
    "# 表示\n",
    "print('ベストスコア:{:.2f}'.format(scores.max()))\n",
    "print('その時のパラメータ(gamma, C):{}'.format(scores.idxmax()))\n",
    "# ヒートマップを表示。縦軸にgamma、横軸にCを表示\n",
    "sns.heatmap(scores.unstack())"
   ],
   "metadata": {
    "collapsed": false,
    "pycharm": {
     "name": "#%%\n"
    }
   }
  },
  {
   "cell_type": "code",
   "execution_count": 32,
   "outputs": [
    {
     "name": "stdout",
     "output_type": "stream",
     "text": [
      "Best cross validation score:0.925\n",
      "Best parameters:{'C': 1.0, 'gamma': 0.001}\n",
      "Test score:0.909\n"
     ]
    }
   ],
   "source": [
    "# インポート\n",
    "from sklearn.model_selection import GridSearchCV\n",
    "from sklearn.svm import SVC\n",
    "# 乳がんのデータを読み込み\n",
    "cancer = load_breast_cancer()\n",
    "# 訓練データとテストデータに分ける\n",
    "X_train, X_test, y_train, y_test = train_test_split(cancer.data, cancer.target, stratify = cancer.target, random_state=0)\n",
    "# GridSearchCVクラスに与えるパラメータを準備\n",
    "param_grid = { 'C': np. logspace(-3, 2, num=6), 'gamma': np. logspace(-3, 2, num=6)}\n",
    "# GridSearchCVクラスの初期化\n",
    "gs = GridSearchCV(estimator=SVC(), param_grid = param_grid, cv=5)\n",
    "# ハイパーパラメータの組み合わせの検証とベストモデルの構築\n",
    "gs.fit(X_train,y_train)\n",
    "# 表示\n",
    "print('Best cross validation score:{:.3f}'.format(gs.best_score_))\n",
    "print('Best parameters:{}'.format(gs.best_params_))\n",
    "print('Test score:{:.3f}'.format(gs.score(X_test,y_test)))"
   ],
   "metadata": {
    "collapsed": false,
    "pycharm": {
     "name": "#%%\n"
    }
   }
  },
  {
   "cell_type": "code",
   "execution_count": 33,
   "outputs": [
    {
     "name": "stdout",
     "output_type": "stream",
     "text": [
      "SVC train score: 0.979\n",
      "SVC test score: 0.909\n"
     ]
    }
   ],
   "source": [
    "# インポート\n",
    "from sklearn.svm import SVC\n",
    "# 乳がんのデータを読み込み\n",
    "cancer = load_breast_cancer()\n",
    "# 訓練データとテストデータに分ける\n",
    "X_train, X_test, y_train, y_test = train_test_split(cancer. data, cancer. target,\n",
    "stratify = cancer.target, random_state=66)\n",
    "# クラスの初期化と学習\n",
    "model = SVC(gamma=0.001,C=1)\n",
    "model.fit(X_train,y_train)\n",
    "# 表示\n",
    "print('{} train score: {:.3f}'.format(model.__class__.__name__, model.score(X_train,y_train)))\n",
    "print('{} test score: {:.3f}'.format(model.__class__.__name__ , model.score(X_test,y_test)))"
   ],
   "metadata": {
    "collapsed": false,
    "pycharm": {
     "name": "#%%\n"
    }
   }
  },
  {
   "cell_type": "code",
   "execution_count": 34,
   "outputs": [
    {
     "name": "stdout",
     "output_type": "stream",
     "text": [
      "Confution matrix:¥n[[48  5]\n",
      " [ 8 82]]\n"
     ]
    }
   ],
   "source": [
    "# インポート\n",
    "from sklearn.metrics import confusion_matrix\n",
    "# テストデータを使って予測値を算出\n",
    "y_pred = model.predict(X_test)\n",
    "m = confusion_matrix(y_test, y_pred)\n",
    "print('Confution matrix:¥n{}'.format(m))"
   ],
   "metadata": {
    "collapsed": false,
    "pycharm": {
     "name": "#%%\n"
    }
   }
  },
  {
   "cell_type": "code",
   "execution_count": 35,
   "outputs": [
    {
     "name": "stdout",
     "output_type": "stream",
     "text": [
      "正解率:0.909\n",
      "適合率:0.943\n",
      "再現率:0.911\n",
      "F1値:0.927\n"
     ]
    }
   ],
   "source": [
    "#正解率の計算\n",
    "accuracy = (m[0, 0] + m[1, 1]) / m.sum()\n",
    "# 適合率の計算\n",
    "precision = (m[1,1])/m[:, 1].sum()\n",
    "# 再現率の計算\n",
    "recall = (m[1,1])/m[1, :].sum()\n",
    "# F1スコアの計算\n",
    "f1 = 2 * (precision * recall)/(precision + recall)\n",
    "print('正解率:{:.3f}'.format(accuracy))\n",
    "print('適合率:{:.3f}'.format(precision))\n",
    "print('再現率:{:.3f}'.format(recall))\n",
    "print('F1値:{:.3f}'.format(f1))"
   ],
   "metadata": {
    "collapsed": false,
    "pycharm": {
     "name": "#%%\n"
    }
   }
  },
  {
   "cell_type": "code",
   "execution_count": 36,
   "outputs": [
    {
     "name": "stdout",
     "output_type": "stream",
     "text": [
      "正解率:0.909\n",
      "適合率:0.943\n",
      "再現率:0.911\n",
      "F1値:0.927\n"
     ]
    }
   ],
   "source": [
    "from sklearn.metrics import accuracy_score, precision_score, recall_score, f1_score\n",
    "print('正解率:{:.3f}'.format(accuracy_score(y_test, y_pred)))\n",
    "print('適合率:{:.3f}'.format(precision_score(y_test, y_pred)))\n",
    "print('再現率:{:.3f}'.format(recall_score(y_test, y_pred)))\n",
    "print('F1値:{:.3f}'.format(f1_score(y_test, y_pred)))"
   ],
   "metadata": {
    "collapsed": false,
    "pycharm": {
     "name": "#%%\n"
    }
   }
  },
  {
   "cell_type": "code",
   "execution_count": 37,
   "outputs": [
    {
     "data": {
      "text/plain": "   malignant    benign\n0   0.004743  0.995257\n1   0.000507  0.999493\n2   0.044118  0.955882\n3   0.007633  0.992367\n4   0.003431  0.996569",
      "text/html": "<div>\n<style scoped>\n    .dataframe tbody tr th:only-of-type {\n        vertical-align: middle;\n    }\n\n    .dataframe tbody tr th {\n        vertical-align: top;\n    }\n\n    .dataframe thead th {\n        text-align: right;\n    }\n</style>\n<table border=\"1\" class=\"dataframe\">\n  <thead>\n    <tr style=\"text-align: right;\">\n      <th></th>\n      <th>malignant</th>\n      <th>benign</th>\n    </tr>\n  </thead>\n  <tbody>\n    <tr>\n      <th>0</th>\n      <td>0.004743</td>\n      <td>0.995257</td>\n    </tr>\n    <tr>\n      <th>1</th>\n      <td>0.000507</td>\n      <td>0.999493</td>\n    </tr>\n    <tr>\n      <th>2</th>\n      <td>0.044118</td>\n      <td>0.955882</td>\n    </tr>\n    <tr>\n      <th>3</th>\n      <td>0.007633</td>\n      <td>0.992367</td>\n    </tr>\n    <tr>\n      <th>4</th>\n      <td>0.003431</td>\n      <td>0.996569</td>\n    </tr>\n  </tbody>\n</table>\n</div>"
     },
     "execution_count": 37,
     "metadata": {},
     "output_type": "execute_result"
    }
   ],
   "source": [
    "# インポート，ロジスティック回帰モデル\n",
    "from sklearn.linear_model import LogisticRegression\n",
    "# 乳がんのデータを読み込み\n",
    "cancer = load_breast_cancer()\n",
    "# 訓練データとテストデータに分ける\n",
    "X_train, X_test, y_train, y_test = train_test_split(cancer.data,\n",
    "cancer.target,\n",
    "stratify = cancer.target,\n",
    "random_state=66)\n",
    "# LogisticRegressionクラスの初期化と学習\n",
    "model = LogisticRegression(random_state=0)\n",
    "model.fit(X_train, y_train)\n",
    "# テスト用データの予測確率を計算\n",
    "results = pd.DataFrame(model.predict_proba(X_test), columns=cancer.target_names)\n",
    "# 先頭の5行を表示\n",
    "results.head()"
   ],
   "metadata": {
    "collapsed": false,
    "pycharm": {
     "name": "#%%\n"
    }
   }
  },
  {
   "cell_type": "code",
   "execution_count": 38,
   "outputs": [
    {
     "data": {
      "text/plain": "   malignant    benign  flag_0.4  flag_0.3  flag_0.15  flag_0.05\n0   0.004743  0.995257         1         1          1          1\n1   0.000507  0.999493         1         1          1          1\n2   0.044118  0.955882         1         1          1          1\n3   0.007633  0.992367         1         1          1          1\n4   0.003431  0.996569         1         1          1          1\n5   0.006973  0.993027         1         1          1          1\n6   0.008903  0.991097         1         1          1          1\n7   0.003289  0.996711         1         1          1          1\n8   0.858607  0.141393         0         0          0          1\n9   0.839939  0.160061         0         0          1          1",
      "text/html": "<div>\n<style scoped>\n    .dataframe tbody tr th:only-of-type {\n        vertical-align: middle;\n    }\n\n    .dataframe tbody tr th {\n        vertical-align: top;\n    }\n\n    .dataframe thead th {\n        text-align: right;\n    }\n</style>\n<table border=\"1\" class=\"dataframe\">\n  <thead>\n    <tr style=\"text-align: right;\">\n      <th></th>\n      <th>malignant</th>\n      <th>benign</th>\n      <th>flag_0.4</th>\n      <th>flag_0.3</th>\n      <th>flag_0.15</th>\n      <th>flag_0.05</th>\n    </tr>\n  </thead>\n  <tbody>\n    <tr>\n      <th>0</th>\n      <td>0.004743</td>\n      <td>0.995257</td>\n      <td>1</td>\n      <td>1</td>\n      <td>1</td>\n      <td>1</td>\n    </tr>\n    <tr>\n      <th>1</th>\n      <td>0.000507</td>\n      <td>0.999493</td>\n      <td>1</td>\n      <td>1</td>\n      <td>1</td>\n      <td>1</td>\n    </tr>\n    <tr>\n      <th>2</th>\n      <td>0.044118</td>\n      <td>0.955882</td>\n      <td>1</td>\n      <td>1</td>\n      <td>1</td>\n      <td>1</td>\n    </tr>\n    <tr>\n      <th>3</th>\n      <td>0.007633</td>\n      <td>0.992367</td>\n      <td>1</td>\n      <td>1</td>\n      <td>1</td>\n      <td>1</td>\n    </tr>\n    <tr>\n      <th>4</th>\n      <td>0.003431</td>\n      <td>0.996569</td>\n      <td>1</td>\n      <td>1</td>\n      <td>1</td>\n      <td>1</td>\n    </tr>\n    <tr>\n      <th>5</th>\n      <td>0.006973</td>\n      <td>0.993027</td>\n      <td>1</td>\n      <td>1</td>\n      <td>1</td>\n      <td>1</td>\n    </tr>\n    <tr>\n      <th>6</th>\n      <td>0.008903</td>\n      <td>0.991097</td>\n      <td>1</td>\n      <td>1</td>\n      <td>1</td>\n      <td>1</td>\n    </tr>\n    <tr>\n      <th>7</th>\n      <td>0.003289</td>\n      <td>0.996711</td>\n      <td>1</td>\n      <td>1</td>\n      <td>1</td>\n      <td>1</td>\n    </tr>\n    <tr>\n      <th>8</th>\n      <td>0.858607</td>\n      <td>0.141393</td>\n      <td>0</td>\n      <td>0</td>\n      <td>0</td>\n      <td>1</td>\n    </tr>\n    <tr>\n      <th>9</th>\n      <td>0.839939</td>\n      <td>0.160061</td>\n      <td>0</td>\n      <td>0</td>\n      <td>1</td>\n      <td>1</td>\n    </tr>\n  </tbody>\n</table>\n</div>"
     },
     "execution_count": 38,
     "metadata": {},
     "output_type": "execute_result"
    }
   ],
   "source": [
    "# 良性（benign）クラスの予測確率が0.4、0.3、0.15、0.05以上なら、それぞれの列に1を設定する\n",
    "for threshold in [0.4, 0.3, 0.15, 0.05]:\n",
    "    results[f'flag_{threshold}'] = results['benign'].map(lambda x: 1 if x > threshold else 0)\n",
    "# 先頭の10行を表示\n",
    "results.head(10)"
   ],
   "metadata": {
    "collapsed": false,
    "pycharm": {
     "name": "#%%\n"
    }
   }
  },
  {
   "cell_type": "code",
   "execution_count": 39,
   "outputs": [
    {
     "data": {
      "text/plain": "<AxesSubplot:xlabel='false positive rate', ylabel='true positive rate'>"
     },
     "execution_count": 39,
     "metadata": {},
     "output_type": "execute_result"
    },
    {
     "data": {
      "text/plain": "<Figure size 432x288 with 1 Axes>",
      "image/png": "[encoded data removed]"
     },
     "metadata": {
      "needs_background": "light"
     },
     "output_type": "display_data"
    }
   ],
   "source": [
    "# 閾値を0.01から0.99の間で50通りとして、偽陽性率と真陽性率を計算\n",
    "rates = {}\n",
    "for threshold in np.linspace(0.01, 0.99, num=50):\n",
    "    labels = results['benign'].map(lambda x: 1 if x > threshold else 0)\n",
    "    m = confusion_matrix(y_test, labels)\n",
    "    rates[threshold] = {'false positive rate': m[0,1] / m[0, :].sum(),'true positive rate': m[1,1] / m[1, :].sum()}\n",
    "# 横軸をfalse positive rate、縦軸をtrue positive rateとしてプロット\n",
    "pd.DataFrame(rates).T.plot.scatter('false positive rate', 'true positive rate')"
   ],
   "metadata": {
    "collapsed": false,
    "pycharm": {
     "name": "#%%\n"
    }
   }
  },
  {
   "cell_type": "code",
   "execution_count": 40,
   "outputs": [],
   "source": [
    "# インポート\n",
    "from sklearn import svm\n",
    "from sklearn.metrics import roc_curve, auc\n",
    "# 乳がんのデータを読み込み\n",
    "cancer = load_breast_cancer()\n",
    "# 訓練データとテストデータに分ける\n",
    "X_train, X_test, y_train, y_test = train_test_split(\n",
    "cancer.data, cancer.target, test_size=0.5, random_state=66)\n",
    "# SVCによる予測確率の取得\n",
    "model = svm.SVC(kernel='linear', probability=True, random_state=0)\n",
    "model.fit(X_train, y_train)\n",
    "# 予測確率を取得\n",
    "y_pred = model.predict_proba(X_test)[:,1]"
   ],
   "metadata": {
    "collapsed": false,
    "pycharm": {
     "name": "#%%\n"
    }
   }
  },
  {
   "cell_type": "code",
   "execution_count": 41,
   "outputs": [
    {
     "data": {
      "text/plain": "<matplotlib.legend.Legend at 0x2451307b580>"
     },
     "execution_count": 41,
     "metadata": {},
     "output_type": "execute_result"
    },
    {
     "data": {
      "text/plain": "<Figure size 432x288 with 1 Axes>",
      "image/png": "[encoded data removed]"
     },
     "metadata": {
      "needs_background": "light"
     },
     "output_type": "display_data"
    }
   ],
   "source": [
    "# 偽陽性率と真陽性率の算出\n",
    "fpr, tpr, thresholds = roc_curve(y_test, y_pred)\n",
    "# AUCの算出\n",
    "auc = auc(fpr, tpr)\n",
    "# ROC曲線の描画\n",
    "plt.plot(fpr, tpr, color='red', label='ROC curve (area = %.3f)' % auc)\n",
    "plt.plot([0, 1], [0, 1], color='black', linestyle='--')\n",
    "plt.xlim([0.0, 1.0])\n",
    "plt.ylim([0.0, 1.05])\n",
    "plt.xlabel('False positive rate')\n",
    "plt.ylabel('True positive rate')\n",
    "plt.title('Receiver operating characteristic')\n",
    "plt.legend(loc=\"best\")"
   ],
   "metadata": {
    "collapsed": false,
    "pycharm": {
     "name": "#%%\n"
    }
   }
  },
  {
   "cell_type": "code",
   "execution_count": 42,
   "outputs": [
    {
     "data": {
      "text/plain": "      CRIM    ZN  INDUS  CHAS    NOX     RM   AGE     DIS  RAD    TAX  \\\n0  0.00632  18.0   2.31   0.0  0.538  6.575  65.2  4.0900  1.0  296.0   \n1  0.02731   0.0   7.07   0.0  0.469  6.421  78.9  4.9671  2.0  242.0   \n2  0.02729   0.0   7.07   0.0  0.469  7.185  61.1  4.9671  2.0  242.0   \n3  0.03237   0.0   2.18   0.0  0.458  6.998  45.8  6.0622  3.0  222.0   \n4  0.06905   0.0   2.18   0.0  0.458  7.147  54.2  6.0622  3.0  222.0   \n\n   PTRATIO       B  LSTAT  MEDV  \n0     15.3  396.90   4.98  24.0  \n1     17.8  396.90   9.14  21.6  \n2     17.8  392.83   4.03  34.7  \n3     18.7  394.63   2.94  33.4  \n4     18.7  396.90   5.33  36.2  ",
      "text/html": "<div>\n<style scoped>\n    .dataframe tbody tr th:only-of-type {\n        vertical-align: middle;\n    }\n\n    .dataframe tbody tr th {\n        vertical-align: top;\n    }\n\n    .dataframe thead th {\n        text-align: right;\n    }\n</style>\n<table border=\"1\" class=\"dataframe\">\n  <thead>\n    <tr style=\"text-align: right;\">\n      <th></th>\n      <th>CRIM</th>\n      <th>ZN</th>\n      <th>INDUS</th>\n      <th>CHAS</th>\n      <th>NOX</th>\n      <th>RM</th>\n      <th>AGE</th>\n      <th>DIS</th>\n      <th>RAD</th>\n      <th>TAX</th>\n      <th>PTRATIO</th>\n      <th>B</th>\n      <th>LSTAT</th>\n      <th>MEDV</th>\n    </tr>\n  </thead>\n  <tbody>\n    <tr>\n      <th>0</th>\n      <td>0.00632</td>\n      <td>18.0</td>\n      <td>2.31</td>\n      <td>0.0</td>\n      <td>0.538</td>\n      <td>6.575</td>\n      <td>65.2</td>\n      <td>4.0900</td>\n      <td>1.0</td>\n      <td>296.0</td>\n      <td>15.3</td>\n      <td>396.90</td>\n      <td>4.98</td>\n      <td>24.0</td>\n    </tr>\n    <tr>\n      <th>1</th>\n      <td>0.02731</td>\n      <td>0.0</td>\n      <td>7.07</td>\n      <td>0.0</td>\n      <td>0.469</td>\n      <td>6.421</td>\n      <td>78.9</td>\n      <td>4.9671</td>\n      <td>2.0</td>\n      <td>242.0</td>\n      <td>17.8</td>\n      <td>396.90</td>\n      <td>9.14</td>\n      <td>21.6</td>\n    </tr>\n    <tr>\n      <th>2</th>\n      <td>0.02729</td>\n      <td>0.0</td>\n      <td>7.07</td>\n      <td>0.0</td>\n      <td>0.469</td>\n      <td>7.185</td>\n      <td>61.1</td>\n      <td>4.9671</td>\n      <td>2.0</td>\n      <td>242.0</td>\n      <td>17.8</td>\n      <td>392.83</td>\n      <td>4.03</td>\n      <td>34.7</td>\n    </tr>\n    <tr>\n      <th>3</th>\n      <td>0.03237</td>\n      <td>0.0</td>\n      <td>2.18</td>\n      <td>0.0</td>\n      <td>0.458</td>\n      <td>6.998</td>\n      <td>45.8</td>\n      <td>6.0622</td>\n      <td>3.0</td>\n      <td>222.0</td>\n      <td>18.7</td>\n      <td>394.63</td>\n      <td>2.94</td>\n      <td>33.4</td>\n    </tr>\n    <tr>\n      <th>4</th>\n      <td>0.06905</td>\n      <td>0.0</td>\n      <td>2.18</td>\n      <td>0.0</td>\n      <td>0.458</td>\n      <td>7.147</td>\n      <td>54.2</td>\n      <td>6.0622</td>\n      <td>3.0</td>\n      <td>222.0</td>\n      <td>18.7</td>\n      <td>396.90</td>\n      <td>5.33</td>\n      <td>36.2</td>\n    </tr>\n  </tbody>\n</table>\n</div>"
     },
     "execution_count": 42,
     "metadata": {},
     "output_type": "execute_result"
    }
   ],
   "source": [
    "# インポート\n",
    "from sklearn.datasets import load_boston\n",
    "# Housingデータセットを読み込み\n",
    "boston = load_boston()\n",
    "# DataFrameにデータを格納\n",
    "X = pd.DataFrame(boston.data, columns=boston.feature_names)\n",
    "# 住宅価格の中央値（MEDV）のデータを用意\n",
    "y = pd.Series(boston.target, name='MEDV')\n",
    "# Xとyを結合して先頭の5行を表示\n",
    "X.join(y).head()"
   ],
   "metadata": {
    "collapsed": false,
    "pycharm": {
     "name": "#%%\n"
    }
   }
  },
  {
   "cell_type": "code",
   "execution_count": 43,
   "outputs": [],
   "source": [
    "# インポート\n",
    "from sklearn.preprocessing import StandardScaler\n",
    "from sklearn.model_selection import cross_val_score\n",
    "from sklearn.linear_model import LinearRegression, Ridge\n",
    "from sklearn.tree import DecisionTreeRegressor\n",
    "from sklearn.svm import LinearSVR\n",
    "from sklearn.metrics import mean_squared_error, mean_absolute_error, median_absolute_error,r2_score\n",
    "# 訓練データとテストデータに分ける\n",
    "X_train, X_test, y_train, y_test = train_test_split(X, y, test_size=0.5, random_state=0)\n",
    "# 標準化処理\n",
    "sc = StandardScaler()\n",
    "sc.fit(X_train)\n",
    "X_train = sc.transform(X_train)\n",
    "X_test = sc.transform(X_test)"
   ],
   "metadata": {
    "collapsed": false,
    "pycharm": {
     "name": "#%%\n"
    }
   }
  },
  {
   "cell_type": "code",
   "execution_count": 44,
   "outputs": [
    {
     "data": {
      "text/plain": "                            MAE        MSE     MedAE        R2\nDecisionTreeRegressor  3.064822  24.590435  1.900000  0.675653\nLinearRegression       3.627793  25.301662  2.903830  0.666272\nLinearSVR              3.275385  26.799616  2.092362  0.646514\nRidge                  3.618201  25.282890  2.930524  0.666520",
      "text/html": "<div>\n<style scoped>\n    .dataframe tbody tr th:only-of-type {\n        vertical-align: middle;\n    }\n\n    .dataframe tbody tr th {\n        vertical-align: top;\n    }\n\n    .dataframe thead th {\n        text-align: right;\n    }\n</style>\n<table border=\"1\" class=\"dataframe\">\n  <thead>\n    <tr style=\"text-align: right;\">\n      <th></th>\n      <th>MAE</th>\n      <th>MSE</th>\n      <th>MedAE</th>\n      <th>R2</th>\n    </tr>\n  </thead>\n  <tbody>\n    <tr>\n      <th>DecisionTreeRegressor</th>\n      <td>3.064822</td>\n      <td>24.590435</td>\n      <td>1.900000</td>\n      <td>0.675653</td>\n    </tr>\n    <tr>\n      <th>LinearRegression</th>\n      <td>3.627793</td>\n      <td>25.301662</td>\n      <td>2.903830</td>\n      <td>0.666272</td>\n    </tr>\n    <tr>\n      <th>LinearSVR</th>\n      <td>3.275385</td>\n      <td>26.799616</td>\n      <td>2.092362</td>\n      <td>0.646514</td>\n    </tr>\n    <tr>\n      <th>Ridge</th>\n      <td>3.618201</td>\n      <td>25.282890</td>\n      <td>2.930524</td>\n      <td>0.666520</td>\n    </tr>\n  </tbody>\n</table>\n</div>"
     },
     "execution_count": 44,
     "metadata": {},
     "output_type": "execute_result"
    }
   ],
   "source": [
    "# モデルの設定\n",
    "models = {\n",
    "'LinearRegression': LinearRegression(),\n",
    "'Ridge': Ridge(random_state=0),\n",
    "'DecisionTreeRegressor': DecisionTreeRegressor(random_state=0),\n",
    "'LinearSVR': LinearSVR(random_state=0)\n",
    "}\n",
    "# 評価値の計算\n",
    "scores = {}\n",
    "for model_name, model in models.items():\n",
    "    model.fit(X_train, y_train)\n",
    "    scores[(model_name, 'MSE')] = mean_squared_error(y_test, model.predict(X_test))\n",
    "    scores[(model_name, 'MAE')] = mean_absolute_error(y_test, model.predict(X_test))\n",
    "    scores[(model_name, 'MedAE')] = median_absolute_error(y_test, model.predict(X_test))\n",
    "    scores[(model_name, 'R2')] = r2_score(y_test, model.predict(X_test))\n",
    "#表示\n",
    "pd.Series(scores).unstack()"
   ],
   "metadata": {
    "collapsed": false,
    "pycharm": {
     "name": "#%%\n"
    }
   }
  },
  {
   "cell_type": "code",
   "execution_count": 45,
   "outputs": [
    {
     "data": {
      "text/plain": "         test_score  train_score\nbagging    0.937063     0.950704\nkNN        0.923077     0.948357",
      "text/html": "<div>\n<style scoped>\n    .dataframe tbody tr th:only-of-type {\n        vertical-align: middle;\n    }\n\n    .dataframe tbody tr th {\n        vertical-align: top;\n    }\n\n    .dataframe thead th {\n        text-align: right;\n    }\n</style>\n<table border=\"1\" class=\"dataframe\">\n  <thead>\n    <tr style=\"text-align: right;\">\n      <th></th>\n      <th>test_score</th>\n      <th>train_score</th>\n    </tr>\n  </thead>\n  <tbody>\n    <tr>\n      <th>bagging</th>\n      <td>0.937063</td>\n      <td>0.950704</td>\n    </tr>\n    <tr>\n      <th>kNN</th>\n      <td>0.923077</td>\n      <td>0.948357</td>\n    </tr>\n  </tbody>\n</table>\n</div>"
     },
     "execution_count": 45,
     "metadata": {},
     "output_type": "execute_result"
    }
   ],
   "source": [
    "# インポート\n",
    "from sklearn.ensemble import BaggingClassifier\n",
    "from sklearn.neighbors import KNeighborsClassifier\n",
    "from sklearn.model_selection import train_test_split\n",
    "# 乳がんのデータを読み込み\n",
    "cancer = load_breast_cancer()\n",
    "# 訓練データとテストデータに分ける\n",
    "X_train, X_test, y_train, y_test = train_test_split(\n",
    "cancer.data, cancer.target, stratify = cancer.target, random_state=66)\n",
    "# k-NNモデルとそのバギングの設定\n",
    "models = {\n",
    "'kNN': KNeighborsClassifier(),\n",
    "'bagging': BaggingClassifier(KNeighborsClassifier(), n_estimators=100, random_state=0)\n",
    "}\n",
    "# モデル構築\n",
    "scores = {}\n",
    "for model_name, model in models.items():\n",
    "    model.fit(X_train, y_train)\n",
    "    scores[(model_name, 'train_score')] = model.score(X_train, y_train)\n",
    "    scores[(model_name, 'test_score')] = model.score(X_test, y_test)\n",
    "# 結果を表示\n",
    "pd.Series(scores).unstack()"
   ],
   "metadata": {
    "collapsed": false,
    "pycharm": {
     "name": "#%%\n"
    }
   }
  },
  {
   "cell_type": "code",
   "execution_count": 46,
   "outputs": [
    {
     "data": {
      "text/plain": "          test_score  train_score\nAdaBoost    0.922829     0.999522\ntree        0.721430     1.000000",
      "text/html": "<div>\n<style scoped>\n    .dataframe tbody tr th:only-of-type {\n        vertical-align: middle;\n    }\n\n    .dataframe tbody tr th {\n        vertical-align: top;\n    }\n\n    .dataframe thead th {\n        text-align: right;\n    }\n</style>\n<table border=\"1\" class=\"dataframe\">\n  <thead>\n    <tr style=\"text-align: right;\">\n      <th></th>\n      <th>test_score</th>\n      <th>train_score</th>\n    </tr>\n  </thead>\n  <tbody>\n    <tr>\n      <th>AdaBoost</th>\n      <td>0.922829</td>\n      <td>0.999522</td>\n    </tr>\n    <tr>\n      <th>tree</th>\n      <td>0.721430</td>\n      <td>1.000000</td>\n    </tr>\n  </tbody>\n</table>\n</div>"
     },
     "execution_count": 46,
     "metadata": {},
     "output_type": "execute_result"
    }
   ],
   "source": [
    "# インポート\n",
    "from sklearn.tree import DecisionTreeRegressor\n",
    "from sklearn.ensemble import AdaBoostRegressor\n",
    "# housingデータを読み込み\n",
    "boston = load_boston()\n",
    "X_train, X_test, y_train, y_test = train_test_split(\n",
    "boston.data, boston.target, random_state=66)\n",
    "# 決定木とAdaBoostRegressorのパラメータ設定\n",
    "models = {\n",
    "'tree': DecisionTreeRegressor(random_state=0),\n",
    "'AdaBoost': AdaBoostRegressor(DecisionTreeRegressor(), random_state=0)\n",
    "}\n",
    "# モデル構築\n",
    "scores = {}\n",
    "for model_name, model in models.items():\n",
    "    model.fit(X_train, y_train)\n",
    "    scores[(model_name, 'train_score')] = model.score(X_train, y_train)\n",
    "    scores[(model_name, 'test_score')] = model.score(X_test, y_test)\n",
    "# 結果を表示\n",
    "pd.Series(scores).unstack()"
   ],
   "metadata": {
    "collapsed": false,
    "pycharm": {
     "name": "#%%\n"
    }
   }
  },
  {
   "cell_type": "code",
   "execution_count": 47,
   "outputs": [
    {
     "data": {
      "text/plain": "               test_score  train_score\nGradientBoost    0.926076     0.977138\nRandomForest     0.894637     0.979374",
      "text/html": "<div>\n<style scoped>\n    .dataframe tbody tr th:only-of-type {\n        vertical-align: middle;\n    }\n\n    .dataframe tbody tr th {\n        vertical-align: top;\n    }\n\n    .dataframe thead th {\n        text-align: right;\n    }\n</style>\n<table border=\"1\" class=\"dataframe\">\n  <thead>\n    <tr style=\"text-align: right;\">\n      <th></th>\n      <th>test_score</th>\n      <th>train_score</th>\n    </tr>\n  </thead>\n  <tbody>\n    <tr>\n      <th>GradientBoost</th>\n      <td>0.926076</td>\n      <td>0.977138</td>\n    </tr>\n    <tr>\n      <th>RandomForest</th>\n      <td>0.894637</td>\n      <td>0.979374</td>\n    </tr>\n  </tbody>\n</table>\n</div>"
     },
     "execution_count": 47,
     "metadata": {},
     "output_type": "execute_result"
    }
   ],
   "source": [
    "# インポート\n",
    "from sklearn.ensemble import RandomForestRegressor, GradientBoostingRegressor\n",
    "# Housingデータを読み込み\n",
    "boston = load_boston()\n",
    "# 訓練データとテストデータに分ける\n",
    "X_train, X_test, y_train, y_test = train_test_split(\n",
    "boston.data, boston.target, random_state=66)\n",
    "# ランダムフォレストと勾配ブースティングのパラメータ設定\n",
    "models = {\n",
    "'RandomForest': RandomForestRegressor(random_state=0),\n",
    "'GradientBoost': GradientBoostingRegressor(random_state=0)\n",
    "}\n",
    "# モデル構築\n",
    "scores = {}\n",
    "for model_name, model in models.items():\n",
    "    model.fit(X_train, y_train)\n",
    "    scores[(model_name, 'train_score')] = model.score(X_train, y_train)\n",
    "    scores[(model_name, 'test_score')] = model.score(X_test, y_test)\n",
    "# 結果を表示\n",
    "pd.Series(scores).unstack()"
   ],
   "metadata": {
    "collapsed": false,
    "pycharm": {
     "name": "#%%\n"
    }
   }
  },
  {
   "cell_type": "code",
   "execution_count": 48,
   "outputs": [
    {
     "data": {
      "text/plain": "<AxesSubplot:>"
     },
     "execution_count": 48,
     "metadata": {},
     "output_type": "execute_result"
    },
    {
     "data": {
      "text/plain": "<Figure size 432x288 with 1 Axes>",
      "image/png": "[encoded data removed]"
     },
     "metadata": {
      "needs_background": "light"
     },
     "output_type": "display_data"
    }
   ],
   "source": [
    "# feature_importmnces属性を取得\n",
    "s = pd.Series(models['RandomForest'].feature_importances_,\n",
    "index=boston.feature_names)\n",
    "# 取得した値を降順に表示\n",
    "s.sort_values(ascending=False).plot.bar(color='C0')"
   ],
   "metadata": {
    "collapsed": false,
    "pycharm": {
     "name": "#%%\n"
    }
   }
  },
  {
   "cell_type": "code",
   "execution_count": null,
   "outputs": [],
   "source": [],
   "metadata": {
    "collapsed": false,
    "pycharm": {
     "name": "#%%\n"
    }
   }
  }
 ],
 "metadata": {
  "kernelspec": {
   "display_name": "Python 3",
   "language": "python",
   "name": "python3"
  },
  "language_info": {
   "codemirror_mode": {
    "name": "ipython",
    "version": 2
   },
   "file_extension": ".py",
   "mimetype": "text/x-python",
   "name": "python",
   "nbconvert_exporter": "python",
   "pygments_lexer": "ipython2",
   "version": "2.7.6"
  }
 },
 "nbformat": 4,
 "nbformat_minor": 0
}