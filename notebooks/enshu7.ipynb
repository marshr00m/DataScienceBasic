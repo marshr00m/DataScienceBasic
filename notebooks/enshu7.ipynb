{
 "cells": [
  {
   "cell_type": "code",
   "execution_count": 2,
   "outputs": [
    {
     "data": {
      "text/plain": "'%.3f'"
     },
     "execution_count": 2,
     "metadata": {},
     "output_type": "execute_result"
    }
   ],
   "source": [
    "# numpy, scipy, pandasのインポート\n",
    "import numpy as np\n",
    "import numpy.random as random\n",
    "import scipy as sp\n",
    "import pandas as pd\n",
    "from pandas import Series, DataFrame\n",
    "# 可視化ライブラリ\n",
    "import matplotlib.pyplot as plt\n",
    "import matplotlib as mpl\n",
    "import seaborn as sns\n",
    "%matplotlib inline\n",
    "# 小数第3位まで表示\n",
    "%precision 3"
   ],
   "metadata": {
    "collapsed": false,
    "pycharm": {
     "name": "#%%\n"
    }
   }
  },
  {
   "cell_type": "code",
   "execution_count": 3,
   "outputs": [
    {
     "data": {
      "text/plain": "    Osaka Tokyo Osaka\n     Blue   Red   Red\na 1     0     1     2\n  2     3     4     5\nb 2     6     7     8",
      "text/html": "<div>\n<style scoped>\n    .dataframe tbody tr th:only-of-type {\n        vertical-align: middle;\n    }\n\n    .dataframe tbody tr th {\n        vertical-align: top;\n    }\n\n    .dataframe thead tr th {\n        text-align: left;\n    }\n</style>\n<table border=\"1\" class=\"dataframe\">\n  <thead>\n    <tr>\n      <th></th>\n      <th></th>\n      <th>Osaka</th>\n      <th>Tokyo</th>\n      <th>Osaka</th>\n    </tr>\n    <tr>\n      <th></th>\n      <th></th>\n      <th>Blue</th>\n      <th>Red</th>\n      <th>Red</th>\n    </tr>\n  </thead>\n  <tbody>\n    <tr>\n      <th rowspan=\"2\" valign=\"top\">a</th>\n      <th>1</th>\n      <td>0</td>\n      <td>1</td>\n      <td>2</td>\n    </tr>\n    <tr>\n      <th>2</th>\n      <td>3</td>\n      <td>4</td>\n      <td>5</td>\n    </tr>\n    <tr>\n      <th>b</th>\n      <th>2</th>\n      <td>6</td>\n      <td>7</td>\n      <td>8</td>\n    </tr>\n  </tbody>\n</table>\n</div>"
     },
     "execution_count": 3,
     "metadata": {},
     "output_type": "execute_result"
    }
   ],
   "source": [
    "# データ（hier_df）を用意\n",
    "hier_df= DataFrame(\n",
    "np.arange(9).reshape((3, 3)),\n",
    "index = [\n",
    "['a', 'a', 'b'],\n",
    "[1, 2, 2]\n",
    "],\n",
    "columns = [\n",
    "['Osaka', 'Tokyo', 'Osaka'],\n",
    "['Blue','Red','Red']\n",
    "]\n",
    ")\n",
    "hier_df"
   ],
   "metadata": {
    "collapsed": false,
    "pycharm": {
     "name": "#%%\n"
    }
   }
  },
  {
   "cell_type": "code",
   "execution_count": 4,
   "outputs": [
    {
     "data": {
      "text/plain": "          Osaka  Tokyo\na 1 Blue      0    NaN\n    Red       2    1.0\n  2 Blue      3    NaN\n    Red       5    4.0\nb 2 Blue      6    NaN\n    Red       8    7.0",
      "text/html": "<div>\n<style scoped>\n    .dataframe tbody tr th:only-of-type {\n        vertical-align: middle;\n    }\n\n    .dataframe tbody tr th {\n        vertical-align: top;\n    }\n\n    .dataframe thead th {\n        text-align: right;\n    }\n</style>\n<table border=\"1\" class=\"dataframe\">\n  <thead>\n    <tr style=\"text-align: right;\">\n      <th></th>\n      <th></th>\n      <th></th>\n      <th>Osaka</th>\n      <th>Tokyo</th>\n    </tr>\n  </thead>\n  <tbody>\n    <tr>\n      <th rowspan=\"4\" valign=\"top\">a</th>\n      <th rowspan=\"2\" valign=\"top\">1</th>\n      <th>Blue</th>\n      <td>0</td>\n      <td>NaN</td>\n    </tr>\n    <tr>\n      <th>Red</th>\n      <td>2</td>\n      <td>1.0</td>\n    </tr>\n    <tr>\n      <th rowspan=\"2\" valign=\"top\">2</th>\n      <th>Blue</th>\n      <td>3</td>\n      <td>NaN</td>\n    </tr>\n    <tr>\n      <th>Red</th>\n      <td>5</td>\n      <td>4.0</td>\n    </tr>\n    <tr>\n      <th rowspan=\"2\" valign=\"top\">b</th>\n      <th rowspan=\"2\" valign=\"top\">2</th>\n      <th>Blue</th>\n      <td>6</td>\n      <td>NaN</td>\n    </tr>\n    <tr>\n      <th>Red</th>\n      <td>8</td>\n      <td>7.0</td>\n    </tr>\n  </tbody>\n</table>\n</div>"
     },
     "execution_count": 4,
     "metadata": {},
     "output_type": "execute_result"
    }
   ],
   "source": [
    "# ピボット操作で「Blue、Red」の列を行に変更\n",
    "hier_df.stack()"
   ],
   "metadata": {
    "collapsed": false,
    "pycharm": {
     "name": "#%%\n"
    }
   }
  },
  {
   "cell_type": "code",
   "execution_count": 5,
   "outputs": [
    {
     "data": {
      "text/plain": "    Osaka     Tokyo     \n     Blue Red  Blue  Red\na 1     0   2   NaN  1.0\n  2     3   5   NaN  4.0\nb 2     6   8   NaN  7.0",
      "text/html": "<div>\n<style scoped>\n    .dataframe tbody tr th:only-of-type {\n        vertical-align: middle;\n    }\n\n    .dataframe tbody tr th {\n        vertical-align: top;\n    }\n\n    .dataframe thead tr th {\n        text-align: left;\n    }\n</style>\n<table border=\"1\" class=\"dataframe\">\n  <thead>\n    <tr>\n      <th></th>\n      <th></th>\n      <th colspan=\"2\" halign=\"left\">Osaka</th>\n      <th colspan=\"2\" halign=\"left\">Tokyo</th>\n    </tr>\n    <tr>\n      <th></th>\n      <th></th>\n      <th>Blue</th>\n      <th>Red</th>\n      <th>Blue</th>\n      <th>Red</th>\n    </tr>\n  </thead>\n  <tbody>\n    <tr>\n      <th rowspan=\"2\" valign=\"top\">a</th>\n      <th>1</th>\n      <td>0</td>\n      <td>2</td>\n      <td>NaN</td>\n      <td>1.0</td>\n    </tr>\n    <tr>\n      <th>2</th>\n      <td>3</td>\n      <td>5</td>\n      <td>NaN</td>\n      <td>4.0</td>\n    </tr>\n    <tr>\n      <th>b</th>\n      <th>2</th>\n      <td>6</td>\n      <td>8</td>\n      <td>NaN</td>\n      <td>7.0</td>\n    </tr>\n  </tbody>\n</table>\n</div>"
     },
     "execution_count": 5,
     "metadata": {},
     "output_type": "execute_result"
    }
   ],
   "source": [
    "# unstackメソッドで、「Blue、Red」の行を列に変更\n",
    "hier_df.stack().unstack()"
   ],
   "metadata": {
    "collapsed": false,
    "pycharm": {
     "name": "#%%\n"
    }
   }
  },
  {
   "cell_type": "code",
   "execution_count": 6,
   "outputs": [
    {
     "data": {
      "text/plain": "   col1 col2\n0     1    a\n1     1    b\n2     2    b\n3     3    b\n4     4    c\n5     4    c\n6     6    b\n7     6    b",
      "text/html": "<div>\n<style scoped>\n    .dataframe tbody tr th:only-of-type {\n        vertical-align: middle;\n    }\n\n    .dataframe tbody tr th {\n        vertical-align: top;\n    }\n\n    .dataframe thead th {\n        text-align: right;\n    }\n</style>\n<table border=\"1\" class=\"dataframe\">\n  <thead>\n    <tr style=\"text-align: right;\">\n      <th></th>\n      <th>col1</th>\n      <th>col2</th>\n    </tr>\n  </thead>\n  <tbody>\n    <tr>\n      <th>0</th>\n      <td>1</td>\n      <td>a</td>\n    </tr>\n    <tr>\n      <th>1</th>\n      <td>1</td>\n      <td>b</td>\n    </tr>\n    <tr>\n      <th>2</th>\n      <td>2</td>\n      <td>b</td>\n    </tr>\n    <tr>\n      <th>3</th>\n      <td>3</td>\n      <td>b</td>\n    </tr>\n    <tr>\n      <th>4</th>\n      <td>4</td>\n      <td>c</td>\n    </tr>\n    <tr>\n      <th>5</th>\n      <td>4</td>\n      <td>c</td>\n    </tr>\n    <tr>\n      <th>6</th>\n      <td>6</td>\n      <td>b</td>\n    </tr>\n    <tr>\n      <th>7</th>\n      <td>6</td>\n      <td>b</td>\n    </tr>\n  </tbody>\n</table>\n</div>"
     },
     "execution_count": 6,
     "metadata": {},
     "output_type": "execute_result"
    }
   ],
   "source": [
    "# 重複があるデータ\n",
    "dupli_data = DataFrame({\n",
    "'col1': [1, 1, 2, 3, 4, 4, 6, 6],\n",
    "'col2': ['a', 'b', 'b', 'b', 'c', 'c', 'b', 'b']\n",
    "})\n",
    "dupli_data"
   ],
   "metadata": {
    "collapsed": false,
    "pycharm": {
     "name": "#%%\n"
    }
   }
  },
  {
   "cell_type": "code",
   "execution_count": 7,
   "outputs": [
    {
     "data": {
      "text/plain": "0    False\n1    False\n2    False\n3    False\n4    False\n5     True\n6    False\n7     True\ndtype: bool"
     },
     "execution_count": 7,
     "metadata": {},
     "output_type": "execute_result"
    }
   ],
   "source": [
    "# 重複の判定\n",
    "dupli_data.duplicated()"
   ],
   "metadata": {
    "collapsed": false,
    "pycharm": {
     "name": "#%%\n"
    }
   }
  },
  {
   "cell_type": "code",
   "execution_count": 8,
   "outputs": [
    {
     "data": {
      "text/plain": "   col1 col2\n0     1    a\n1     1    b\n2     2    b\n3     3    b\n4     4    c\n6     6    b",
      "text/html": "<div>\n<style scoped>\n    .dataframe tbody tr th:only-of-type {\n        vertical-align: middle;\n    }\n\n    .dataframe tbody tr th {\n        vertical-align: top;\n    }\n\n    .dataframe thead th {\n        text-align: right;\n    }\n</style>\n<table border=\"1\" class=\"dataframe\">\n  <thead>\n    <tr style=\"text-align: right;\">\n      <th></th>\n      <th>col1</th>\n      <th>col2</th>\n    </tr>\n  </thead>\n  <tbody>\n    <tr>\n      <th>0</th>\n      <td>1</td>\n      <td>a</td>\n    </tr>\n    <tr>\n      <th>1</th>\n      <td>1</td>\n      <td>b</td>\n    </tr>\n    <tr>\n      <th>2</th>\n      <td>2</td>\n      <td>b</td>\n    </tr>\n    <tr>\n      <th>3</th>\n      <td>3</td>\n      <td>b</td>\n    </tr>\n    <tr>\n      <th>4</th>\n      <td>4</td>\n      <td>c</td>\n    </tr>\n    <tr>\n      <th>6</th>\n      <td>6</td>\n      <td>b</td>\n    </tr>\n  </tbody>\n</table>\n</div>"
     },
     "execution_count": 8,
     "metadata": {},
     "output_type": "execute_result"
    }
   ],
   "source": [
    "# 重複削除\n",
    "dupli_data.drop_duplicates()"
   ],
   "metadata": {
    "collapsed": false,
    "pycharm": {
     "name": "#%%\n"
    }
   }
  },
  {
   "cell_type": "code",
   "execution_count": 9,
   "outputs": [
    {
     "data": {
      "text/plain": "{'Tokyo': 'Kanto',\n 'Hokkaido': 'Hokkaido',\n 'Osaka': 'Kansai',\n 'Kyoto': 'Kansai'}"
     },
     "execution_count": 9,
     "metadata": {},
     "output_type": "execute_result"
    }
   ],
   "source": [
    "# 参照データ\n",
    "city_map ={\n",
    "'Tokyo': 'Kanto',\n",
    "'Hokkaido': 'Hokkaido',\n",
    "'Osaka': 'Kansai',\n",
    "'Kyoto':'Kansai'\n",
    "}\n",
    "city_map"
   ],
   "metadata": {
    "collapsed": false,
    "pycharm": {
     "name": "#%%\n"
    }
   }
  },
  {
   "cell_type": "code",
   "execution_count": 10,
   "outputs": [
    {
     "data": {
      "text/plain": "     id      city  birth_year     name    region\n0   100     Tokyo        1990  Hiroshi     Kanto\n1   101     Osaka        1989    Akiko    Kansai\n2   102     Kyoto        1992     Yuki    Kansai\n3   103  Hokkaido        1997   Satoru  Hokkaido\n4   104     Tokyo        1982   Steeve     Kanto\n5   106     Tokyo        1991   Mituru     Kanto\n6   108     Osaka        1988      Aoi    Kansai\n7   110     Kyoto        1990    Tarou    Kansai\n8   111  Hokkaido        1995   Suguru  Hokkaido\n9   113     Tokyo        1981   Mitsuo     Kanto",
      "text/html": "<div>\n<style scoped>\n    .dataframe tbody tr th:only-of-type {\n        vertical-align: middle;\n    }\n\n    .dataframe tbody tr th {\n        vertical-align: top;\n    }\n\n    .dataframe thead th {\n        text-align: right;\n    }\n</style>\n<table border=\"1\" class=\"dataframe\">\n  <thead>\n    <tr style=\"text-align: right;\">\n      <th></th>\n      <th>id</th>\n      <th>city</th>\n      <th>birth_year</th>\n      <th>name</th>\n      <th>region</th>\n    </tr>\n  </thead>\n  <tbody>\n    <tr>\n      <th>0</th>\n      <td>100</td>\n      <td>Tokyo</td>\n      <td>1990</td>\n      <td>Hiroshi</td>\n      <td>Kanto</td>\n    </tr>\n    <tr>\n      <th>1</th>\n      <td>101</td>\n      <td>Osaka</td>\n      <td>1989</td>\n      <td>Akiko</td>\n      <td>Kansai</td>\n    </tr>\n    <tr>\n      <th>2</th>\n      <td>102</td>\n      <td>Kyoto</td>\n      <td>1992</td>\n      <td>Yuki</td>\n      <td>Kansai</td>\n    </tr>\n    <tr>\n      <th>3</th>\n      <td>103</td>\n      <td>Hokkaido</td>\n      <td>1997</td>\n      <td>Satoru</td>\n      <td>Hokkaido</td>\n    </tr>\n    <tr>\n      <th>4</th>\n      <td>104</td>\n      <td>Tokyo</td>\n      <td>1982</td>\n      <td>Steeve</td>\n      <td>Kanto</td>\n    </tr>\n    <tr>\n      <th>5</th>\n      <td>106</td>\n      <td>Tokyo</td>\n      <td>1991</td>\n      <td>Mituru</td>\n      <td>Kanto</td>\n    </tr>\n    <tr>\n      <th>6</th>\n      <td>108</td>\n      <td>Osaka</td>\n      <td>1988</td>\n      <td>Aoi</td>\n      <td>Kansai</td>\n    </tr>\n    <tr>\n      <th>7</th>\n      <td>110</td>\n      <td>Kyoto</td>\n      <td>1990</td>\n      <td>Tarou</td>\n      <td>Kansai</td>\n    </tr>\n    <tr>\n      <th>8</th>\n      <td>111</td>\n      <td>Hokkaido</td>\n      <td>1995</td>\n      <td>Suguru</td>\n      <td>Hokkaido</td>\n    </tr>\n    <tr>\n      <th>9</th>\n      <td>113</td>\n      <td>Tokyo</td>\n      <td>1981</td>\n      <td>Mitsuo</td>\n      <td>Kanto</td>\n    </tr>\n  </tbody>\n</table>\n</div>"
     },
     "execution_count": 10,
     "metadata": {},
     "output_type": "execute_result"
    }
   ],
   "source": [
    "# データ1の準備\n",
    "data1 = {\n",
    "'id': ['100', '101', '102', '103', '104', '106', '108', '110', '111',' 113'],\n",
    "'city': ['Tokyo', 'Osaka', 'Kyoto', 'Hokkaido', 'Tokyo', 'Tokyo', 'Osaka', 'Kyoto',\n",
    "'Hokkaido', 'Tokyo'],\n",
    "'birth_year': [1990, 1989, 1992, 1997, 1982, 1991, 1988, 1990, 1995,\n",
    "1981],\n",
    "'name': ['Hiroshi', 'Akiko', 'Yuki', 'Satoru', 'Steeve', 'Mituru', 'Aoi', 'Tarou',\n",
    "'Suguru','Mitsuo']\n",
    "}\n",
    "df1 = DataFrame(data1)\n",
    "df1\n",
    "\n",
    "# 参照データを結合．対応するデータがなければ，NaNにする\n",
    "df1['region'] = df1['city'].map(city_map)\n",
    "df1"
   ],
   "metadata": {
    "collapsed": false,
    "pycharm": {
     "name": "#%%\n"
    }
   }
  },
  {
   "cell_type": "code",
   "execution_count": 11,
   "outputs": [
    {
     "data": {
      "text/plain": "0    (1985, 1990]\n1    (1985, 1990]\n2    (1990, 1995]\n3    (1995, 2000]\n4    (1980, 1985]\n5    (1990, 1995]\n6    (1985, 1990]\n7    (1985, 1990]\n8    (1990, 1995]\n9    (1980, 1985]\nName: birth_year, dtype: category\nCategories (4, interval[int64, right]): [(1980, 1985] < (1985, 1990] < (1990, 1995] < (1995, 2000]]"
     },
     "execution_count": 11,
     "metadata": {},
     "output_type": "execute_result"
    }
   ],
   "source": [
    "# 分割の粒度\n",
    "birth_year_bins = [1980, 1985, 1990, 1995, 2000]\n",
    "# ビン分割の実施\n",
    "birth_year_cut_data = pd.cut(df1.birth_year, birth_year_bins, right=True)\n",
    "birth_year_cut_data"
   ],
   "metadata": {
    "collapsed": false,
    "pycharm": {
     "name": "#%%\n"
    }
   }
  },
  {
   "cell_type": "code",
   "execution_count": 12,
   "outputs": [
    {
     "data": {
      "text/plain": "(1985, 1990]    4\n(1990, 1995]    3\n(1980, 1985]    2\n(1995, 2000]    1\nName: birth_year, dtype: int64"
     },
     "execution_count": 12,
     "metadata": {},
     "output_type": "execute_result"
    }
   ],
   "source": [
    "# 集計結果\n",
    "pd.value_counts(birth_year_cut_data)"
   ],
   "metadata": {
    "collapsed": false,
    "pycharm": {
     "name": "#%%\n"
    }
   }
  },
  {
   "cell_type": "code",
   "execution_count": 13,
   "outputs": [
    {
     "data": {
      "text/plain": "B    4\nC    3\nA    2\nD    1\nName: birth_year, dtype: int64"
     },
     "execution_count": 13,
     "metadata": {},
     "output_type": "execute_result"
    }
   ],
   "source": [
    "# 名前をつける\n",
    "group_names = ['A', 'B', 'C', 'D']\n",
    "birth_year_cut_data = pd.cut(df1.birth_year, birth_year_bins, labels = group_names)\n",
    "pd.value_counts(birth_year_cut_data)"
   ],
   "metadata": {
    "collapsed": false,
    "pycharm": {
     "name": "#%%\n"
    }
   }
  },
  {
   "cell_type": "code",
   "execution_count": 14,
   "outputs": [
    {
     "data": {
      "text/plain": "0      (1989.0, 1997.0]\n1    (1980.984, 1989.0]\n2      (1989.0, 1997.0]\n3      (1989.0, 1997.0]\n4    (1980.984, 1989.0]\n5      (1989.0, 1997.0]\n6    (1980.984, 1989.0]\n7      (1989.0, 1997.0]\n8      (1989.0, 1997.0]\n9    (1980.984, 1989.0]\nName: birth_year, dtype: category\nCategories (2, interval[float64, right]): [(1980.984, 1989.0] < (1989.0, 1997.0]]"
     },
     "execution_count": 14,
     "metadata": {},
     "output_type": "execute_result"
    }
   ],
   "source": [
    "# 数字で分割数指定可能。ここでは2つに分割\n",
    "pd.cut(df1.birth_year, 2)"
   ],
   "metadata": {
    "collapsed": false,
    "pycharm": {
     "name": "#%%\n"
    }
   }
  },
  {
   "cell_type": "code",
   "execution_count": 15,
   "outputs": [
    {
     "data": {
      "text/plain": "city\nHokkaido    2\nKyoto       2\nOsaka       2\nTokyo       4\ndtype: int64"
     },
     "execution_count": 15,
     "metadata": {},
     "output_type": "execute_result"
    }
   ],
   "source": [
    "# サイズ情報\n",
    "df1.groupby('city').size()"
   ],
   "metadata": {
    "collapsed": false,
    "pycharm": {
     "name": "#%%\n"
    }
   }
  },
  {
   "cell_type": "code",
   "execution_count": 16,
   "outputs": [
    {
     "data": {
      "text/plain": "city\nHokkaido    1996.0\nKyoto       1991.0\nOsaka       1988.5\nTokyo       1986.0\nName: birth_year, dtype: float64"
     },
     "execution_count": 16,
     "metadata": {},
     "output_type": "execute_result"
    }
   ],
   "source": [
    "# cityを軸に、birth_yearの平均値を求める\n",
    "df1.groupby('city')['birth_year'].mean()"
   ],
   "metadata": {
    "collapsed": false,
    "pycharm": {
     "name": "#%%\n"
    }
   }
  },
  {
   "cell_type": "code",
   "execution_count": 17,
   "outputs": [
    {
     "data": {
      "text/plain": "region    city    \nHokkaido  Hokkaido    1996.0\nKansai    Kyoto       1991.0\n          Osaka       1988.5\nKanto     Tokyo       1986.0\nName: birth_year, dtype: float64"
     },
     "execution_count": 17,
     "metadata": {},
     "output_type": "execute_result"
    }
   ],
   "source": [
    "# 軸は複数指定可能\n",
    "df1.groupby(['region', 'city'])['birth_year'].mean()"
   ],
   "metadata": {
    "collapsed": false,
    "pycharm": {
     "name": "#%%\n"
    }
   }
  },
  {
   "cell_type": "code",
   "execution_count": 19,
   "outputs": [
    {
     "data": {
      "text/plain": "     region      city  birth_year\n0  Hokkaido  Hokkaido      1996.0\n1    Kansai     Kyoto      1991.0\n2    Kansai     Osaka      1988.5\n3     Kanto     Tokyo      1986.0",
      "text/html": "<div>\n<style scoped>\n    .dataframe tbody tr th:only-of-type {\n        vertical-align: middle;\n    }\n\n    .dataframe tbody tr th {\n        vertical-align: top;\n    }\n\n    .dataframe thead th {\n        text-align: right;\n    }\n</style>\n<table border=\"1\" class=\"dataframe\">\n  <thead>\n    <tr style=\"text-align: right;\">\n      <th></th>\n      <th>region</th>\n      <th>city</th>\n      <th>birth_year</th>\n    </tr>\n  </thead>\n  <tbody>\n    <tr>\n      <th>0</th>\n      <td>Hokkaido</td>\n      <td>Hokkaido</td>\n      <td>1996.0</td>\n    </tr>\n    <tr>\n      <th>1</th>\n      <td>Kansai</td>\n      <td>Kyoto</td>\n      <td>1991.0</td>\n    </tr>\n    <tr>\n      <th>2</th>\n      <td>Kansai</td>\n      <td>Osaka</td>\n      <td>1988.5</td>\n    </tr>\n    <tr>\n      <th>3</th>\n      <td>Kanto</td>\n      <td>Tokyo</td>\n      <td>1986.0</td>\n    </tr>\n  </tbody>\n</table>\n</div>"
     },
     "execution_count": 19,
     "metadata": {},
     "output_type": "execute_result"
    }
   ],
   "source": [
    "df1.groupby(['region', 'city'],\n",
    "as_index = False)['birth_year'].mean()"
   ],
   "metadata": {
    "collapsed": false,
    "pycharm": {
     "name": "#%%\n"
    }
   }
  },
  {
   "cell_type": "code",
   "execution_count": 21,
   "outputs": [
    {
     "name": "stdout",
     "output_type": "stream",
     "text": [
      "==========================================================\n",
      "Region Name: Hokkaido\n",
      "    id      city  birth_year    name    region\n",
      "3  103  Hokkaido        1997  Satoru  Hokkaido\n",
      "8  111  Hokkaido        1995  Suguru  Hokkaido\n",
      "==========================================================\n",
      "Region Name: Kansai\n",
      "    id   city  birth_year   name  region\n",
      "1  101  Osaka        1989  Akiko  Kansai\n",
      "2  102  Kyoto        1992   Yuki  Kansai\n",
      "6  108  Osaka        1988    Aoi  Kansai\n",
      "7  110  Kyoto        1990  Tarou  Kansai\n",
      "==========================================================\n",
      "Region Name: Kanto\n",
      "     id   city  birth_year     name region\n",
      "0   100  Tokyo        1990  Hiroshi  Kanto\n",
      "4   104  Tokyo        1982   Steeve  Kanto\n",
      "5   106  Tokyo        1991   Mituru  Kanto\n",
      "9   113  Tokyo        1981   Mitsuo  Kanto\n"
     ]
    }
   ],
   "source": [
    "for group, subdf in df1.groupby('region'):\n",
    "    print('==========================================================')\n",
    "    print('Region Name:', group)\n",
    "    print(subdf)"
   ],
   "metadata": {
    "collapsed": false,
    "pycharm": {
     "name": "#%%\n"
    }
   }
  },
  {
   "cell_type": "code",
   "execution_count": 22,
   "outputs": [
    {
     "data": {
      "text/plain": "          0         1         2         3\n0  0.676371  0.213685  0.903131  0.331181\n1       NaN  0.922991  0.905377  0.975117\n2  0.636947  0.166534       NaN  0.069735\n3  0.698159  0.754811  0.920884  0.862317\n4  0.382459  0.077771  0.345860  0.145162\n5  0.250139  0.984322  0.799003       NaN\n6  0.610225  0.168127  0.084330       NaN\n7  0.022721  0.037986  0.597943       NaN\n8  0.615748  0.398552  0.256143       NaN\n9  0.017399  0.929229  0.796482       NaN",
      "text/html": "<div>\n<style scoped>\n    .dataframe tbody tr th:only-of-type {\n        vertical-align: middle;\n    }\n\n    .dataframe tbody tr th {\n        vertical-align: top;\n    }\n\n    .dataframe thead th {\n        text-align: right;\n    }\n</style>\n<table border=\"1\" class=\"dataframe\">\n  <thead>\n    <tr style=\"text-align: right;\">\n      <th></th>\n      <th>0</th>\n      <th>1</th>\n      <th>2</th>\n      <th>3</th>\n    </tr>\n  </thead>\n  <tbody>\n    <tr>\n      <th>0</th>\n      <td>0.676371</td>\n      <td>0.213685</td>\n      <td>0.903131</td>\n      <td>0.331181</td>\n    </tr>\n    <tr>\n      <th>1</th>\n      <td>NaN</td>\n      <td>0.922991</td>\n      <td>0.905377</td>\n      <td>0.975117</td>\n    </tr>\n    <tr>\n      <th>2</th>\n      <td>0.636947</td>\n      <td>0.166534</td>\n      <td>NaN</td>\n      <td>0.069735</td>\n    </tr>\n    <tr>\n      <th>3</th>\n      <td>0.698159</td>\n      <td>0.754811</td>\n      <td>0.920884</td>\n      <td>0.862317</td>\n    </tr>\n    <tr>\n      <th>4</th>\n      <td>0.382459</td>\n      <td>0.077771</td>\n      <td>0.345860</td>\n      <td>0.145162</td>\n    </tr>\n    <tr>\n      <th>5</th>\n      <td>0.250139</td>\n      <td>0.984322</td>\n      <td>0.799003</td>\n      <td>NaN</td>\n    </tr>\n    <tr>\n      <th>6</th>\n      <td>0.610225</td>\n      <td>0.168127</td>\n      <td>0.084330</td>\n      <td>NaN</td>\n    </tr>\n    <tr>\n      <th>7</th>\n      <td>0.022721</td>\n      <td>0.037986</td>\n      <td>0.597943</td>\n      <td>NaN</td>\n    </tr>\n    <tr>\n      <th>8</th>\n      <td>0.615748</td>\n      <td>0.398552</td>\n      <td>0.256143</td>\n      <td>NaN</td>\n    </tr>\n    <tr>\n      <th>9</th>\n      <td>0.017399</td>\n      <td>0.929229</td>\n      <td>0.796482</td>\n      <td>NaN</td>\n    </tr>\n  </tbody>\n</table>\n</div>"
     },
     "execution_count": 22,
     "metadata": {},
     "output_type": "execute_result"
    }
   ],
   "source": [
    "# データの準備\n",
    "from numpy import nan as NA\n",
    "df = pd.DataFrame(np.random.rand(10, 4))\n",
    "# NAにする\n",
    "df.iloc[1,0] = NA\n",
    "df.iloc[2:3,2] = NA\n",
    "df.iloc[5:,3] = NA\n",
    "df"
   ],
   "metadata": {
    "collapsed": false,
    "pycharm": {
     "name": "#%%\n"
    }
   }
  },
  {
   "cell_type": "code",
   "execution_count": 23,
   "outputs": [
    {
     "data": {
      "text/plain": "          0         1         2         3\n0  0.676371  0.213685  0.903131  0.331181\n3  0.698159  0.754811  0.920884  0.862317\n4  0.382459  0.077771  0.345860  0.145162",
      "text/html": "<div>\n<style scoped>\n    .dataframe tbody tr th:only-of-type {\n        vertical-align: middle;\n    }\n\n    .dataframe tbody tr th {\n        vertical-align: top;\n    }\n\n    .dataframe thead th {\n        text-align: right;\n    }\n</style>\n<table border=\"1\" class=\"dataframe\">\n  <thead>\n    <tr style=\"text-align: right;\">\n      <th></th>\n      <th>0</th>\n      <th>1</th>\n      <th>2</th>\n      <th>3</th>\n    </tr>\n  </thead>\n  <tbody>\n    <tr>\n      <th>0</th>\n      <td>0.676371</td>\n      <td>0.213685</td>\n      <td>0.903131</td>\n      <td>0.331181</td>\n    </tr>\n    <tr>\n      <th>3</th>\n      <td>0.698159</td>\n      <td>0.754811</td>\n      <td>0.920884</td>\n      <td>0.862317</td>\n    </tr>\n    <tr>\n      <th>4</th>\n      <td>0.382459</td>\n      <td>0.077771</td>\n      <td>0.345860</td>\n      <td>0.145162</td>\n    </tr>\n  </tbody>\n</table>\n</div>"
     },
     "execution_count": 23,
     "metadata": {},
     "output_type": "execute_result"
    }
   ],
   "source": [
    "df. dropna()"
   ],
   "metadata": {
    "collapsed": false,
    "pycharm": {
     "name": "#%%\n"
    }
   }
  },
  {
   "cell_type": "code",
   "execution_count": 24,
   "outputs": [
    {
     "data": {
      "text/plain": "          0         1\n0  0.676371  0.213685\n2  0.636947  0.166534\n3  0.698159  0.754811\n4  0.382459  0.077771\n5  0.250139  0.984322\n6  0.610225  0.168127\n7  0.022721  0.037986\n8  0.615748  0.398552\n9  0.017399  0.929229",
      "text/html": "<div>\n<style scoped>\n    .dataframe tbody tr th:only-of-type {\n        vertical-align: middle;\n    }\n\n    .dataframe tbody tr th {\n        vertical-align: top;\n    }\n\n    .dataframe thead th {\n        text-align: right;\n    }\n</style>\n<table border=\"1\" class=\"dataframe\">\n  <thead>\n    <tr style=\"text-align: right;\">\n      <th></th>\n      <th>0</th>\n      <th>1</th>\n    </tr>\n  </thead>\n  <tbody>\n    <tr>\n      <th>0</th>\n      <td>0.676371</td>\n      <td>0.213685</td>\n    </tr>\n    <tr>\n      <th>2</th>\n      <td>0.636947</td>\n      <td>0.166534</td>\n    </tr>\n    <tr>\n      <th>3</th>\n      <td>0.698159</td>\n      <td>0.754811</td>\n    </tr>\n    <tr>\n      <th>4</th>\n      <td>0.382459</td>\n      <td>0.077771</td>\n    </tr>\n    <tr>\n      <th>5</th>\n      <td>0.250139</td>\n      <td>0.984322</td>\n    </tr>\n    <tr>\n      <th>6</th>\n      <td>0.610225</td>\n      <td>0.168127</td>\n    </tr>\n    <tr>\n      <th>7</th>\n      <td>0.022721</td>\n      <td>0.037986</td>\n    </tr>\n    <tr>\n      <th>8</th>\n      <td>0.615748</td>\n      <td>0.398552</td>\n    </tr>\n    <tr>\n      <th>9</th>\n      <td>0.017399</td>\n      <td>0.929229</td>\n    </tr>\n  </tbody>\n</table>\n</div>"
     },
     "execution_count": 24,
     "metadata": {},
     "output_type": "execute_result"
    }
   ],
   "source": [
    "df[[0,1]]. dropna()"
   ],
   "metadata": {
    "collapsed": false,
    "pycharm": {
     "name": "#%%\n"
    }
   }
  },
  {
   "cell_type": "code",
   "execution_count": 25,
   "outputs": [
    {
     "data": {
      "text/plain": "          0         1         2         3\n0  0.676371  0.213685  0.903131  0.331181\n1  0.000000  0.922991  0.905377  0.975117\n2  0.636947  0.166534  0.000000  0.069735\n3  0.698159  0.754811  0.920884  0.862317\n4  0.382459  0.077771  0.345860  0.145162\n5  0.250139  0.984322  0.799003  0.000000\n6  0.610225  0.168127  0.084330  0.000000\n7  0.022721  0.037986  0.597943  0.000000\n8  0.615748  0.398552  0.256143  0.000000\n9  0.017399  0.929229  0.796482  0.000000",
      "text/html": "<div>\n<style scoped>\n    .dataframe tbody tr th:only-of-type {\n        vertical-align: middle;\n    }\n\n    .dataframe tbody tr th {\n        vertical-align: top;\n    }\n\n    .dataframe thead th {\n        text-align: right;\n    }\n</style>\n<table border=\"1\" class=\"dataframe\">\n  <thead>\n    <tr style=\"text-align: right;\">\n      <th></th>\n      <th>0</th>\n      <th>1</th>\n      <th>2</th>\n      <th>3</th>\n    </tr>\n  </thead>\n  <tbody>\n    <tr>\n      <th>0</th>\n      <td>0.676371</td>\n      <td>0.213685</td>\n      <td>0.903131</td>\n      <td>0.331181</td>\n    </tr>\n    <tr>\n      <th>1</th>\n      <td>0.000000</td>\n      <td>0.922991</td>\n      <td>0.905377</td>\n      <td>0.975117</td>\n    </tr>\n    <tr>\n      <th>2</th>\n      <td>0.636947</td>\n      <td>0.166534</td>\n      <td>0.000000</td>\n      <td>0.069735</td>\n    </tr>\n    <tr>\n      <th>3</th>\n      <td>0.698159</td>\n      <td>0.754811</td>\n      <td>0.920884</td>\n      <td>0.862317</td>\n    </tr>\n    <tr>\n      <th>4</th>\n      <td>0.382459</td>\n      <td>0.077771</td>\n      <td>0.345860</td>\n      <td>0.145162</td>\n    </tr>\n    <tr>\n      <th>5</th>\n      <td>0.250139</td>\n      <td>0.984322</td>\n      <td>0.799003</td>\n      <td>0.000000</td>\n    </tr>\n    <tr>\n      <th>6</th>\n      <td>0.610225</td>\n      <td>0.168127</td>\n      <td>0.084330</td>\n      <td>0.000000</td>\n    </tr>\n    <tr>\n      <th>7</th>\n      <td>0.022721</td>\n      <td>0.037986</td>\n      <td>0.597943</td>\n      <td>0.000000</td>\n    </tr>\n    <tr>\n      <th>8</th>\n      <td>0.615748</td>\n      <td>0.398552</td>\n      <td>0.256143</td>\n      <td>0.000000</td>\n    </tr>\n    <tr>\n      <th>9</th>\n      <td>0.017399</td>\n      <td>0.929229</td>\n      <td>0.796482</td>\n      <td>0.000000</td>\n    </tr>\n  </tbody>\n</table>\n</div>"
     },
     "execution_count": 25,
     "metadata": {},
     "output_type": "execute_result"
    }
   ],
   "source": [
    "df. fillna(0)"
   ],
   "metadata": {
    "collapsed": false,
    "pycharm": {
     "name": "#%%\n"
    }
   }
  },
  {
   "cell_type": "code",
   "execution_count": 26,
   "outputs": [
    {
     "data": {
      "text/plain": "          0         1         2         3\n0  0.676371  0.213685  0.903131  0.331181\n1  0.676371  0.922991  0.905377  0.975117\n2  0.636947  0.166534  0.905377  0.069735\n3  0.698159  0.754811  0.920884  0.862317\n4  0.382459  0.077771  0.345860  0.145162\n5  0.250139  0.984322  0.799003  0.145162\n6  0.610225  0.168127  0.084330  0.145162\n7  0.022721  0.037986  0.597943  0.145162\n8  0.615748  0.398552  0.256143  0.145162\n9  0.017399  0.929229  0.796482  0.145162",
      "text/html": "<div>\n<style scoped>\n    .dataframe tbody tr th:only-of-type {\n        vertical-align: middle;\n    }\n\n    .dataframe tbody tr th {\n        vertical-align: top;\n    }\n\n    .dataframe thead th {\n        text-align: right;\n    }\n</style>\n<table border=\"1\" class=\"dataframe\">\n  <thead>\n    <tr style=\"text-align: right;\">\n      <th></th>\n      <th>0</th>\n      <th>1</th>\n      <th>2</th>\n      <th>3</th>\n    </tr>\n  </thead>\n  <tbody>\n    <tr>\n      <th>0</th>\n      <td>0.676371</td>\n      <td>0.213685</td>\n      <td>0.903131</td>\n      <td>0.331181</td>\n    </tr>\n    <tr>\n      <th>1</th>\n      <td>0.676371</td>\n      <td>0.922991</td>\n      <td>0.905377</td>\n      <td>0.975117</td>\n    </tr>\n    <tr>\n      <th>2</th>\n      <td>0.636947</td>\n      <td>0.166534</td>\n      <td>0.905377</td>\n      <td>0.069735</td>\n    </tr>\n    <tr>\n      <th>3</th>\n      <td>0.698159</td>\n      <td>0.754811</td>\n      <td>0.920884</td>\n      <td>0.862317</td>\n    </tr>\n    <tr>\n      <th>4</th>\n      <td>0.382459</td>\n      <td>0.077771</td>\n      <td>0.345860</td>\n      <td>0.145162</td>\n    </tr>\n    <tr>\n      <th>5</th>\n      <td>0.250139</td>\n      <td>0.984322</td>\n      <td>0.799003</td>\n      <td>0.145162</td>\n    </tr>\n    <tr>\n      <th>6</th>\n      <td>0.610225</td>\n      <td>0.168127</td>\n      <td>0.084330</td>\n      <td>0.145162</td>\n    </tr>\n    <tr>\n      <th>7</th>\n      <td>0.022721</td>\n      <td>0.037986</td>\n      <td>0.597943</td>\n      <td>0.145162</td>\n    </tr>\n    <tr>\n      <th>8</th>\n      <td>0.615748</td>\n      <td>0.398552</td>\n      <td>0.256143</td>\n      <td>0.145162</td>\n    </tr>\n    <tr>\n      <th>9</th>\n      <td>0.017399</td>\n      <td>0.929229</td>\n      <td>0.796482</td>\n      <td>0.145162</td>\n    </tr>\n  </tbody>\n</table>\n</div>"
     },
     "execution_count": 26,
     "metadata": {},
     "output_type": "execute_result"
    }
   ],
   "source": [
    "df.fillna(method = 'ffill')"
   ],
   "metadata": {
    "collapsed": false,
    "pycharm": {
     "name": "#%%\n"
    }
   }
  },
  {
   "cell_type": "code",
   "execution_count": 27,
   "outputs": [],
   "source": [
    "import pandas_datareader.data as pdr"
   ],
   "metadata": {
    "collapsed": false,
    "pycharm": {
     "name": "#%%\n"
    }
   }
  },
  {
   "cell_type": "code",
   "execution_count": 28,
   "outputs": [
    {
     "data": {
      "text/plain": "            DEXJPUS\nDATE               \n2010-01-04    92.55\n2010-01-05    91.48\n2010-01-06    92.53\n2010-01-07    93.31\n2010-01-08    92.70",
      "text/html": "<div>\n<style scoped>\n    .dataframe tbody tr th:only-of-type {\n        vertical-align: middle;\n    }\n\n    .dataframe tbody tr th {\n        vertical-align: top;\n    }\n\n    .dataframe thead th {\n        text-align: right;\n    }\n</style>\n<table border=\"1\" class=\"dataframe\">\n  <thead>\n    <tr style=\"text-align: right;\">\n      <th></th>\n      <th>DEXJPUS</th>\n    </tr>\n    <tr>\n      <th>DATE</th>\n      <th></th>\n    </tr>\n  </thead>\n  <tbody>\n    <tr>\n      <th>2010-01-04</th>\n      <td>92.55</td>\n    </tr>\n    <tr>\n      <th>2010-01-05</th>\n      <td>91.48</td>\n    </tr>\n    <tr>\n      <th>2010-01-06</th>\n      <td>92.53</td>\n    </tr>\n    <tr>\n      <th>2010-01-07</th>\n      <td>93.31</td>\n    </tr>\n    <tr>\n      <th>2010-01-08</th>\n      <td>92.70</td>\n    </tr>\n  </tbody>\n</table>\n</div>"
     },
     "execution_count": 28,
     "metadata": {},
     "output_type": "execute_result"
    }
   ],
   "source": [
    "start_date = '2010/1/4'\n",
    "end_date = '2020/12/30'\n",
    "fx_jpusdata = pdr.DataReader('DEXJPUS', 'fred', start_date, end_date)\n",
    "fx_jpusdata.head() # 5行表示"
   ],
   "metadata": {
    "collapsed": false,
    "pycharm": {
     "name": "#%%\n"
    }
   }
  },
  {
   "cell_type": "code",
   "execution_count": 29,
   "outputs": [
    {
     "name": "stderr",
     "output_type": "stream",
     "text": [
      "C:\\Users\\mars2\\AppData\\Local\\Temp\\ipykernel_19992\\2101987646.py:1: FutureWarning: Indexing a DataFrame with a datetimelike index using a single string to slice the rows, like `frame[string]`, is deprecated and will be removed in a future version. Use `frame.loc[string]` instead.\n",
      "  fx_jpusdata['2020-06'] # 2020年6月分\n"
     ]
    },
    {
     "data": {
      "text/plain": "            DEXJPUS\nDATE               \n2020-06-01   107.56\n2020-06-02   108.60\n2020-06-03   108.88\n2020-06-04   109.00\n2020-06-05   109.68\n2020-06-08   108.46\n2020-06-09   107.66\n2020-06-10   107.25\n2020-06-11   106.67\n2020-06-12   107.36\n2020-06-15   107.33\n2020-06-16   107.35\n2020-06-17   107.26\n2020-06-18   106.78\n2020-06-19   106.89\n2020-06-22   106.84\n2020-06-23   106.44\n2020-06-24   106.83\n2020-06-25   107.21\n2020-06-26   107.19\n2020-06-29   107.71\n2020-06-30   107.77",
      "text/html": "<div>\n<style scoped>\n    .dataframe tbody tr th:only-of-type {\n        vertical-align: middle;\n    }\n\n    .dataframe tbody tr th {\n        vertical-align: top;\n    }\n\n    .dataframe thead th {\n        text-align: right;\n    }\n</style>\n<table border=\"1\" class=\"dataframe\">\n  <thead>\n    <tr style=\"text-align: right;\">\n      <th></th>\n      <th>DEXJPUS</th>\n    </tr>\n    <tr>\n      <th>DATE</th>\n      <th></th>\n    </tr>\n  </thead>\n  <tbody>\n    <tr>\n      <th>2020-06-01</th>\n      <td>107.56</td>\n    </tr>\n    <tr>\n      <th>2020-06-02</th>\n      <td>108.60</td>\n    </tr>\n    <tr>\n      <th>2020-06-03</th>\n      <td>108.88</td>\n    </tr>\n    <tr>\n      <th>2020-06-04</th>\n      <td>109.00</td>\n    </tr>\n    <tr>\n      <th>2020-06-05</th>\n      <td>109.68</td>\n    </tr>\n    <tr>\n      <th>2020-06-08</th>\n      <td>108.46</td>\n    </tr>\n    <tr>\n      <th>2020-06-09</th>\n      <td>107.66</td>\n    </tr>\n    <tr>\n      <th>2020-06-10</th>\n      <td>107.25</td>\n    </tr>\n    <tr>\n      <th>2020-06-11</th>\n      <td>106.67</td>\n    </tr>\n    <tr>\n      <th>2020-06-12</th>\n      <td>107.36</td>\n    </tr>\n    <tr>\n      <th>2020-06-15</th>\n      <td>107.33</td>\n    </tr>\n    <tr>\n      <th>2020-06-16</th>\n      <td>107.35</td>\n    </tr>\n    <tr>\n      <th>2020-06-17</th>\n      <td>107.26</td>\n    </tr>\n    <tr>\n      <th>2020-06-18</th>\n      <td>106.78</td>\n    </tr>\n    <tr>\n      <th>2020-06-19</th>\n      <td>106.89</td>\n    </tr>\n    <tr>\n      <th>2020-06-22</th>\n      <td>106.84</td>\n    </tr>\n    <tr>\n      <th>2020-06-23</th>\n      <td>106.44</td>\n    </tr>\n    <tr>\n      <th>2020-06-24</th>\n      <td>106.83</td>\n    </tr>\n    <tr>\n      <th>2020-06-25</th>\n      <td>107.21</td>\n    </tr>\n    <tr>\n      <th>2020-06-26</th>\n      <td>107.19</td>\n    </tr>\n    <tr>\n      <th>2020-06-29</th>\n      <td>107.71</td>\n    </tr>\n    <tr>\n      <th>2020-06-30</th>\n      <td>107.77</td>\n    </tr>\n  </tbody>\n</table>\n</div>"
     },
     "execution_count": 29,
     "metadata": {},
     "output_type": "execute_result"
    }
   ],
   "source": [
    "fx_jpusdata['2020-06'] # 2020年6月分"
   ],
   "metadata": {
    "collapsed": false,
    "pycharm": {
     "name": "#%%\n"
    }
   }
  },
  {
   "cell_type": "code",
   "execution_count": 30,
   "outputs": [
    {
     "data": {
      "text/plain": "            DEXJPUS\nDATE               \n2010-01-31    90.38\n2010-02-28    88.84\n2010-03-31    93.40\n2010-04-30    94.24\n2010-05-31    90.81",
      "text/html": "<div>\n<style scoped>\n    .dataframe tbody tr th:only-of-type {\n        vertical-align: middle;\n    }\n\n    .dataframe tbody tr th {\n        vertical-align: top;\n    }\n\n    .dataframe thead th {\n        text-align: right;\n    }\n</style>\n<table border=\"1\" class=\"dataframe\">\n  <thead>\n    <tr style=\"text-align: right;\">\n      <th></th>\n      <th>DEXJPUS</th>\n    </tr>\n    <tr>\n      <th>DATE</th>\n      <th></th>\n    </tr>\n  </thead>\n  <tbody>\n    <tr>\n      <th>2010-01-31</th>\n      <td>90.38</td>\n    </tr>\n    <tr>\n      <th>2010-02-28</th>\n      <td>88.84</td>\n    </tr>\n    <tr>\n      <th>2010-03-31</th>\n      <td>93.40</td>\n    </tr>\n    <tr>\n      <th>2010-04-30</th>\n      <td>94.24</td>\n    </tr>\n    <tr>\n      <th>2010-05-31</th>\n      <td>90.81</td>\n    </tr>\n  </tbody>\n</table>\n</div>"
     },
     "execution_count": 30,
     "metadata": {},
     "output_type": "execute_result"
    }
   ],
   "source": [
    "fx_jpusdata.resample('M').last().head()# 月末データ"
   ],
   "metadata": {
    "collapsed": false,
    "pycharm": {
     "name": "#%%\n"
    }
   }
  },
  {
   "cell_type": "code",
   "execution_count": 31,
   "outputs": [
    {
     "data": {
      "text/plain": "            DEXJPUS\nDATE               \n2010-01-04    92.55\n2010-01-05    91.48\n2010-01-06    92.53\n2010-01-07    93.31\n2010-01-08    92.70\n2010-01-09      NaN\n2010-01-10      NaN",
      "text/html": "<div>\n<style scoped>\n    .dataframe tbody tr th:only-of-type {\n        vertical-align: middle;\n    }\n\n    .dataframe tbody tr th {\n        vertical-align: top;\n    }\n\n    .dataframe thead th {\n        text-align: right;\n    }\n</style>\n<table border=\"1\" class=\"dataframe\">\n  <thead>\n    <tr style=\"text-align: right;\">\n      <th></th>\n      <th>DEXJPUS</th>\n    </tr>\n    <tr>\n      <th>DATE</th>\n      <th></th>\n    </tr>\n  </thead>\n  <tbody>\n    <tr>\n      <th>2010-01-04</th>\n      <td>92.55</td>\n    </tr>\n    <tr>\n      <th>2010-01-05</th>\n      <td>91.48</td>\n    </tr>\n    <tr>\n      <th>2010-01-06</th>\n      <td>92.53</td>\n    </tr>\n    <tr>\n      <th>2010-01-07</th>\n      <td>93.31</td>\n    </tr>\n    <tr>\n      <th>2010-01-08</th>\n      <td>92.70</td>\n    </tr>\n    <tr>\n      <th>2010-01-09</th>\n      <td>NaN</td>\n    </tr>\n    <tr>\n      <th>2010-01-10</th>\n      <td>NaN</td>\n    </tr>\n  </tbody>\n</table>\n</div>"
     },
     "execution_count": 31,
     "metadata": {},
     "output_type": "execute_result"
    }
   ],
   "source": [
    "fx_jpusdata.resample('D').last().head(7)"
   ],
   "metadata": {
    "collapsed": false,
    "pycharm": {
     "name": "#%%\n"
    }
   }
  },
  {
   "cell_type": "code",
   "execution_count": 32,
   "outputs": [
    {
     "data": {
      "text/plain": "            DEXJPUS\nDATE               \n2010-01-04    92.55\n2010-01-05    91.48\n2010-01-06    92.53\n2010-01-07    93.31\n2010-01-08    92.70\n2010-01-09    92.70\n2010-01-10    92.70",
      "text/html": "<div>\n<style scoped>\n    .dataframe tbody tr th:only-of-type {\n        vertical-align: middle;\n    }\n\n    .dataframe tbody tr th {\n        vertical-align: top;\n    }\n\n    .dataframe thead th {\n        text-align: right;\n    }\n</style>\n<table border=\"1\" class=\"dataframe\">\n  <thead>\n    <tr style=\"text-align: right;\">\n      <th></th>\n      <th>DEXJPUS</th>\n    </tr>\n    <tr>\n      <th>DATE</th>\n      <th></th>\n    </tr>\n  </thead>\n  <tbody>\n    <tr>\n      <th>2010-01-04</th>\n      <td>92.55</td>\n    </tr>\n    <tr>\n      <th>2010-01-05</th>\n      <td>91.48</td>\n    </tr>\n    <tr>\n      <th>2010-01-06</th>\n      <td>92.53</td>\n    </tr>\n    <tr>\n      <th>2010-01-07</th>\n      <td>93.31</td>\n    </tr>\n    <tr>\n      <th>2010-01-08</th>\n      <td>92.70</td>\n    </tr>\n    <tr>\n      <th>2010-01-09</th>\n      <td>92.70</td>\n    </tr>\n    <tr>\n      <th>2010-01-10</th>\n      <td>92.70</td>\n    </tr>\n  </tbody>\n</table>\n</div>"
     },
     "execution_count": 32,
     "metadata": {},
     "output_type": "execute_result"
    }
   ],
   "source": [
    "fx_jpusdata.resample('D').ffill().head(7)"
   ],
   "metadata": {
    "collapsed": false,
    "pycharm": {
     "name": "#%%\n"
    }
   }
  },
  {
   "cell_type": "code",
   "execution_count": 33,
   "outputs": [
    {
     "data": {
      "text/plain": "            DEXJPUS\nDATE               \n2010-01-04      NaN\n2010-01-05    92.55\n2010-01-06    91.48\n2010-01-07    92.53\n2010-01-08    93.31",
      "text/html": "<div>\n<style scoped>\n    .dataframe tbody tr th:only-of-type {\n        vertical-align: middle;\n    }\n\n    .dataframe tbody tr th {\n        vertical-align: top;\n    }\n\n    .dataframe thead th {\n        text-align: right;\n    }\n</style>\n<table border=\"1\" class=\"dataframe\">\n  <thead>\n    <tr style=\"text-align: right;\">\n      <th></th>\n      <th>DEXJPUS</th>\n    </tr>\n    <tr>\n      <th>DATE</th>\n      <th></th>\n    </tr>\n  </thead>\n  <tbody>\n    <tr>\n      <th>2010-01-04</th>\n      <td>NaN</td>\n    </tr>\n    <tr>\n      <th>2010-01-05</th>\n      <td>92.55</td>\n    </tr>\n    <tr>\n      <th>2010-01-06</th>\n      <td>91.48</td>\n    </tr>\n    <tr>\n      <th>2010-01-07</th>\n      <td>92.53</td>\n    </tr>\n    <tr>\n      <th>2010-01-08</th>\n      <td>93.31</td>\n    </tr>\n  </tbody>\n</table>\n</div>"
     },
     "execution_count": 33,
     "metadata": {},
     "output_type": "execute_result"
    }
   ],
   "source": [
    "fx_jpusdata.shift(1).head()"
   ],
   "metadata": {
    "collapsed": false,
    "pycharm": {
     "name": "#%%\n"
    }
   }
  },
  {
   "cell_type": "code",
   "execution_count": 34,
   "outputs": [
    {
     "data": {
      "text/plain": "             DEXJPUS\nDATE                \n2010-01-04       NaN\n2010-01-05  0.988439\n2010-01-06  1.011478\n2010-01-07  1.008430\n2010-01-08  0.993463",
      "text/html": "<div>\n<style scoped>\n    .dataframe tbody tr th:only-of-type {\n        vertical-align: middle;\n    }\n\n    .dataframe tbody tr th {\n        vertical-align: top;\n    }\n\n    .dataframe thead th {\n        text-align: right;\n    }\n</style>\n<table border=\"1\" class=\"dataframe\">\n  <thead>\n    <tr style=\"text-align: right;\">\n      <th></th>\n      <th>DEXJPUS</th>\n    </tr>\n    <tr>\n      <th>DATE</th>\n      <th></th>\n    </tr>\n  </thead>\n  <tbody>\n    <tr>\n      <th>2010-01-04</th>\n      <td>NaN</td>\n    </tr>\n    <tr>\n      <th>2010-01-05</th>\n      <td>0.988439</td>\n    </tr>\n    <tr>\n      <th>2010-01-06</th>\n      <td>1.011478</td>\n    </tr>\n    <tr>\n      <th>2010-01-07</th>\n      <td>1.008430</td>\n    </tr>\n    <tr>\n      <th>2010-01-08</th>\n      <td>0.993463</td>\n    </tr>\n  </tbody>\n</table>\n</div>"
     },
     "execution_count": 34,
     "metadata": {},
     "output_type": "execute_result"
    }
   ],
   "source": [
    "fx_jpusdata_ratio = fx_jpusdata / fx_jpusdata.shift(1)\n",
    "fx_jpusdata_ratio.head()"
   ],
   "metadata": {
    "collapsed": false,
    "pycharm": {
     "name": "#%%\n"
    }
   }
  },
  {
   "cell_type": "code",
   "execution_count": 35,
   "outputs": [
    {
     "data": {
      "text/plain": "              DEXJPUS\nDATE                 \n2010-01-04        NaN\n2010-01-05        NaN\n2010-01-06  92.186667\n2010-01-07  92.440000\n2010-01-08  92.846667",
      "text/html": "<div>\n<style scoped>\n    .dataframe tbody tr th:only-of-type {\n        vertical-align: middle;\n    }\n\n    .dataframe tbody tr th {\n        vertical-align: top;\n    }\n\n    .dataframe thead th {\n        text-align: right;\n    }\n</style>\n<table border=\"1\" class=\"dataframe\">\n  <thead>\n    <tr style=\"text-align: right;\">\n      <th></th>\n      <th>DEXJPUS</th>\n    </tr>\n    <tr>\n      <th>DATE</th>\n      <th></th>\n    </tr>\n  </thead>\n  <tbody>\n    <tr>\n      <th>2010-01-04</th>\n      <td>NaN</td>\n    </tr>\n    <tr>\n      <th>2010-01-05</th>\n      <td>NaN</td>\n    </tr>\n    <tr>\n      <th>2010-01-06</th>\n      <td>92.186667</td>\n    </tr>\n    <tr>\n      <th>2010-01-07</th>\n      <td>92.440000</td>\n    </tr>\n    <tr>\n      <th>2010-01-08</th>\n      <td>92.846667</td>\n    </tr>\n  </tbody>\n</table>\n</div>"
     },
     "execution_count": 35,
     "metadata": {},
     "output_type": "execute_result"
    }
   ],
   "source": [
    "fx_jpusdata.rolling(3).mean().head()"
   ],
   "metadata": {
    "collapsed": false,
    "pycharm": {
     "name": "#%%\n"
    }
   }
  },
  {
   "cell_type": "code",
   "execution_count": 36,
   "outputs": [
    {
     "data": {
      "text/plain": "'%.3f'"
     },
     "execution_count": 36,
     "metadata": {},
     "output_type": "execute_result"
    }
   ],
   "source": [
    "# numpy, scipy, pandasのインポート\n",
    "import numpy as np\n",
    "import numpy.random as random\n",
    "import scipy as sp\n",
    "import pandas as pd\n",
    "from pandas import Series, DataFrame\n",
    "# 可視化ライブラリ\n",
    "import matplotlib.pyplot as plt\n",
    "import matplotlib as mpl\n",
    "import seaborn as sns\n",
    "sns.set()\n",
    "%matplotlib inline\n",
    "# 小数第３位まで表示\n",
    "%precision 3"
   ],
   "metadata": {
    "collapsed": false,
    "pycharm": {
     "name": "#%%\n"
    }
   }
  },
  {
   "cell_type": "code",
   "execution_count": 37,
   "outputs": [
    {
     "data": {
      "text/plain": "<Figure size 720x432 with 1 Axes>",
      "image/png": "[encoded data removed]"
     },
     "metadata": {
      "needs_background": "light"
     },
     "output_type": "display_data"
    }
   ],
   "source": [
    "# 表示するデータ\n",
    "x = [1, 2, 3]\n",
    "y = [10, 1, 4]\n",
    "# グラフの大きさ指定\n",
    "plt.figure(figsize = (10, 6))\n",
    "plt.bar(x, y, align='center', width = 0.5)\n",
    "# 棒グラフそれぞれのラベル\n",
    "plt.xticks(x, ['A Class', 'B Class', 'C Class'])\n",
    "# xとyのラベルを設定\n",
    "plt.xlabel('Class')\n",
    "plt.ylabel('Score')\n",
    "# グリッドを表示\n",
    "plt.grid(True)"
   ],
   "metadata": {
    "collapsed": false,
    "pycharm": {
     "name": "#%%\n"
    }
   }
  },
  {
   "cell_type": "code",
   "execution_count": 38,
   "outputs": [
    {
     "data": {
      "text/plain": "<Figure size 432x432 with 1 Axes>",
      "image/png": "[encoded data removed]"
     },
     "metadata": {
      "needs_background": "light"
     },
     "output_type": "display_data"
    }
   ],
   "source": [
    "# 表示するデータ\n",
    "x = [1, 2, 3]\n",
    "y = [10, 1, 4]\n",
    "# グラフの大きさ指定\n",
    "plt.figure(figsize = (6, 6))\n",
    "plt.barh(x, y, align = 'center')\n",
    "plt.yticks(x, ['A Class','B Class','C Class'])\n",
    "plt.ylabel('Class')\n",
    "plt.xlabel('Score')\n",
    "plt.grid(True)"
   ],
   "metadata": {
    "collapsed": false,
    "pycharm": {
     "name": "#%%\n"
    }
   }
  },
  {
   "cell_type": "code",
   "execution_count": 39,
   "outputs": [
    {
     "data": {
      "text/plain": "<Figure size 720x432 with 1 Axes>",
      "image/png": "[encoded data removed]"
     },
     "metadata": {
      "needs_background": "light"
     },
     "output_type": "display_data"
    }
   ],
   "source": [
    "# データの準備\n",
    "y1 = np.array([30, 10, 40])\n",
    "y2 = np.array([10, 50, 90])\n",
    "# X軸のデータ\n",
    "x = np.arange(len(y1))\n",
    "# グラフの幅\n",
    "w = 0.4\n",
    "# グラフの大きさ指定\n",
    "plt.figure(figsize = (10, 6))\n",
    "# グラフの描画．y2の方はグラフの幅の分、右にずらして描画する\n",
    "plt.bar(x, y1, color = 'blue', width = w, label = 'Math first', align = 'center')\n",
    "plt.bar(x + w, y2, color='green', width = w, label = 'Math final', align = 'center')\n",
    "# 凡例を最適な位置に配置\n",
    "plt.legend(loc = 'best')\n",
    "plt.xticks(x + w / 2, ['Class A', 'Class B', 'Class C'])\n",
    "plt.grid(True)"
   ],
   "metadata": {
    "collapsed": false,
    "pycharm": {
     "name": "#%%\n"
    }
   }
  },
  {
   "cell_type": "code",
   "execution_count": 40,
   "outputs": [
    {
     "data": {
      "text/plain": "<matplotlib.legend.Legend at 0x2509a4ac760>"
     },
     "execution_count": 40,
     "metadata": {},
     "output_type": "execute_result"
    },
    {
     "data": {
      "text/plain": "<Figure size 720x432 with 1 Axes>",
      "image/png": "[encoded data removed]"
     },
     "metadata": {
      "needs_background": "light"
     },
     "output_type": "display_data"
    }
   ],
   "source": [
    "# データの準備\n",
    "height1 = np.array([100, 200, 300, 400, 500])\n",
    "height2 = np.array([1000, 800, 600, 400, 200])\n",
    "# X軸\n",
    "x = np.array([1, 2, 3, 4, 5])\n",
    "# グラフの大きさ指定\n",
    "plt.figure(figsize = (10, 6))\n",
    "# グラフの描画\n",
    "p1 = plt.bar(x, height1, color = 'blue')\n",
    "p2 = plt.bar(x, height2, bottom = height1, color='lightblue')\n",
    "# 凡例を表示\n",
    "plt.legend((p1[0], p2[0]), ('Class 1', 'Class 2'))"
   ],
   "metadata": {
    "collapsed": false,
    "pycharm": {
     "name": "#%%\n"
    }
   }
  },
  {
   "cell_type": "markdown",
   "source": [],
   "metadata": {
    "collapsed": false,
    "pycharm": {
     "name": "#%% md\n"
    }
   }
  },
  {
   "cell_type": "code",
   "execution_count": 41,
   "outputs": [
    {
     "data": {
      "text/plain": "(-1.214, 1.135, -1.126, 1.101)"
     },
     "execution_count": 41,
     "metadata": {},
     "output_type": "execute_result"
    },
    {
     "data": {
      "text/plain": "<Figure size 288x288 with 1 Axes>",
      "image/png": "[encoded data removed]"
     },
     "metadata": {},
     "output_type": "display_data"
    }
   ],
   "source": [
    "labels = ['Frogs', 'Hogs', 'Dogs', 'Logs']\n",
    "sizes = [15, 30, 45, 10]\n",
    "colors = ['yellowgreen', 'gold', 'lightskyblue', 'lightcoral']\n",
    "explode = (0, 0.1, 0, 0)\n",
    "# グラフの大きさ指定\n",
    "plt.figure(figsize = (4, 4))\n",
    "# グラフを表示\n",
    "plt.pie(sizes, explode = explode, labels = labels, colors = colors,\n",
    "autopct = '%1.1f%%', shadow = True, startangle = 90)\n",
    "# 円を丸く描画\n",
    "plt.axis('equal')"
   ],
   "metadata": {
    "collapsed": false,
    "pycharm": {
     "name": "#%%\n"
    }
   }
  },
  {
   "cell_type": "code",
   "execution_count": 42,
   "outputs": [
    {
     "data": {
      "text/plain": "<Figure size 432x432 with 1 Axes>",
      "image/png": "[encoded data removed]"
     },
     "metadata": {
      "needs_background": "light"
     },
     "output_type": "display_data"
    }
   ],
   "source": [
    "N = 25\n",
    "# X,Yデータをランダムに生成\n",
    "x = np.random.rand(N)\n",
    "y = np.random.rand(N)\n",
    "# color番号\n",
    "colors = np.random.rand(N)\n",
    "# バブルの大きさをばらけさせる\n",
    "area = 10 * np.pi * (15 * np.random.rand(N)) ** 2\n",
    "# グラフの大きさ指定\n",
    "plt.figure(figsize = (6, 6))\n",
    "# グラフを描画\n",
    "plt.scatter(x, y, s = area, c = colors, alpha = 0.5)\n",
    "plt.grid(True)"
   ],
   "metadata": {
    "collapsed": false,
    "pycharm": {
     "name": "#%%\n"
    }
   }
  },
  {
   "cell_type": "code",
   "execution_count": null,
   "outputs": [],
   "source": [],
   "metadata": {
    "collapsed": false,
    "pycharm": {
     "name": "#%%\n"
    }
   }
  }
 ],
 "metadata": {
  "kernelspec": {
   "display_name": "Python 3",
   "language": "python",
   "name": "python3"
  },
  "language_info": {
   "codemirror_mode": {
    "name": "ipython",
    "version": 2
   },
   "file_extension": ".py",
   "mimetype": "text/x-python",
   "name": "python",
   "nbconvert_exporter": "python",
   "pygments_lexer": "ipython2",
   "version": "2.7.6"
  }
 },
 "nbformat": 4,
 "nbformat_minor": 0
}