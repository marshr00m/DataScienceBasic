{
 "cells": [
  {
   "cell_type": "code",
   "execution_count": 1,
   "outputs": [],
   "source": [
    "# numpy, scipy, pandasのインポート\n",
    "import numpy as np\n",
    "import scipy as sp\n",
    "import pandas as pd\n",
    "from pandas import Series, DataFrame\n",
    "# 可視化ライブラリ\n",
    "import matplotlib.pyplot as plt\n",
    "import matplotlib as mpl\n",
    "import seaborn as sns\n",
    "%matplotlib inline\n",
    "# 小数第3位まで表示\n",
    "%precision 3\n",
    "# ランダムシードの固定\n",
    "np.random.seed(0)"
   ],
   "metadata": {
    "collapsed": false,
    "pycharm": {
     "name": "#%%\n"
    }
   }
  },
  {
   "cell_type": "code",
   "execution_count": 2,
   "outputs": [],
   "source": [
    "# サイコロの出目を配列に格納\n",
    "dice_data = np.array([1, 2, 3, 4, 5, 6])"
   ],
   "metadata": {
    "collapsed": false,
    "pycharm": {
     "name": "#%%\n"
    }
   }
  },
  {
   "cell_type": "code",
   "execution_count": 6,
   "outputs": [
    {
     "name": "stdout",
     "output_type": "stream",
     "text": [
      "ランダムに1つ抽出: [4]\n"
     ]
    }
   ],
   "source": [
    "# 対象データdice_dataから1つランダムに抽出する（試行）\n",
    "print('ランダムに1つ抽出:', np.random.choice(dice_data, 1))"
   ],
   "metadata": {
    "collapsed": false,
    "pycharm": {
     "name": "#%%\n"
    }
   }
  },
  {
   "cell_type": "code",
   "execution_count": 10,
   "outputs": [
    {
     "name": "stdout",
     "output_type": "stream",
     "text": [
      "1 が出る確率 0.165\n",
      "2 が出る確率 0.167\n",
      "3 が出る確率 0.184\n",
      "4 が出る確率 0.162\n",
      "5 が出る確率 0.148\n",
      "6 が出る確率 0.174\n"
     ]
    }
   ],
   "source": [
    "# サイコロを1000回振ってみる\n",
    "calc_steps = 1000\n",
    "# 1〜6のデータの中から、1000回の抽出を実施\n",
    "dice_rolls = np.random.choice(dice_data, calc_steps)\n",
    "# それぞれの数字がどれくらいの割合で抽出されたか計算\n",
    "for i in range(1, 7):\n",
    "    p = len(dice_rolls[dice_rolls==i]) / calc_steps\n",
    "    print(i, 'が出る確率', p)"
   ],
   "metadata": {
    "collapsed": false,
    "pycharm": {
     "name": "#%%\n"
    }
   }
  },
  {
   "cell_type": "code",
   "execution_count": 11,
   "outputs": [
    {
     "data": {
      "text/plain": "<Figure size 432x288 with 1 Axes>",
      "image/png": "[encoded data removed]"
     },
     "metadata": {
      "needs_background": "light"
     },
     "output_type": "display_data"
    }
   ],
   "source": [
    "# 一様分布\n",
    "# サイコロを1000回振ってみる\n",
    "calc_steps = 1000\n",
    "\n",
    "# 1〜6のデータの中から、1000回の抽出を実施\n",
    "dice_rolls = np.random.choice(dice_data, calc_steps)\n",
    "\n",
    "# それぞれの数字がどれくらいの割合で抽出されたか計算\n",
    "prob_data = np.array([])\n",
    "for i in range(1, 7):\n",
    "    p = len(dice_rolls[dice_rolls==i]) / calc_steps\n",
    "    prob_data = np.append(prob_data, len(dice_rolls[dice_rolls==i]) / calc_steps)\n",
    "\n",
    "plt.bar(dice_data, prob_data)\n",
    "plt.grid(True)"
   ],
   "metadata": {
    "collapsed": false,
    "pycharm": {
     "name": "#%%\n"
    }
   }
  },
  {
   "cell_type": "code",
   "execution_count": 12,
   "outputs": [
    {
     "name": "stdout",
     "output_type": "stream",
     "text": [
      "0 が出る確率 0.625\n",
      "1 が出る確率 0.375\n"
     ]
    }
   ],
   "source": [
    "# ベルヌーイ分布\n",
    "# 0:head(表)、1:tail(裏)と考える\n",
    "# サンプル数を8とした\n",
    "prob_be_data = np.array([])\n",
    "coin_data = np.array([0, 0, 0, 0, 0, 1, 1, 1])\n",
    "# uniqueで一意な値を抽出（ここの場合は、0と1）\n",
    "for i in np.unique(coin_data):\n",
    "    p = len(coin_data[coin_data==i]) / len(coin_data)\n",
    "    print(i, 'が出る確率', p)\n",
    "    prob_be_data = np.append(prob_be_data, p)"
   ],
   "metadata": {
    "collapsed": false,
    "pycharm": {
     "name": "#%%\n"
    }
   }
  },
  {
   "cell_type": "code",
   "execution_count": 13,
   "outputs": [
    {
     "data": {
      "text/plain": "<Figure size 432x288 with 1 Axes>",
      "image/png": "[encoded data removed]"
     },
     "metadata": {
      "needs_background": "light"
     },
     "output_type": "display_data"
    }
   ],
   "source": [
    "plt.bar([0, 1], prob_be_data, align='center')\n",
    "plt.xticks([0, 1], ['head', 'tail'])\n",
    "plt.grid(True)"
   ],
   "metadata": {
    "collapsed": false,
    "pycharm": {
     "name": "#%%\n"
    }
   }
  },
  {
   "cell_type": "code",
   "execution_count": 14,
   "outputs": [
    {
     "data": {
      "text/plain": "<Figure size 432x288 with 1 Axes>",
      "image/png": "[encoded data removed]"
     },
     "metadata": {
      "needs_background": "light"
     },
     "output_type": "display_data"
    }
   ],
   "source": [
    "# 二項分布\n",
    "np.random.seed(0)\n",
    "x = np.random.binomial(30, 0.5, 1000)\n",
    "plt.hist(x)\n",
    "plt.grid(True)"
   ],
   "metadata": {
    "collapsed": false,
    "pycharm": {
     "name": "#%%\n"
    }
   }
  },
  {
   "cell_type": "code",
   "execution_count": 15,
   "outputs": [
    {
     "data": {
      "text/plain": "<Figure size 432x288 with 1 Axes>",
      "image/png": "[encoded data removed]"
     },
     "metadata": {
      "needs_background": "light"
     },
     "output_type": "display_data"
    }
   ],
   "source": [
    "# ポアソン分布\n",
    "x = np.random.poisson(7, 1000)\n",
    "plt.hist(x)\n",
    "plt.grid(True)"
   ],
   "metadata": {
    "collapsed": false,
    "pycharm": {
     "name": "#%%\n"
    }
   }
  },
  {
   "cell_type": "code",
   "execution_count": 17,
   "outputs": [
    {
     "data": {
      "text/plain": "<Figure size 432x288 with 1 Axes>",
      "image/png": "[encoded data removed]"
     },
     "metadata": {
      "needs_background": "light"
     },
     "output_type": "display_data"
    }
   ],
   "source": [
    "# 正規分布\n",
    "# np.random.normal(平均、標準偏差、サンプル数)\n",
    "x = np.random.normal(5, 10, 10000)\n",
    "plt.hist(x)\n",
    "plt.grid(True)"
   ],
   "metadata": {
    "collapsed": false,
    "pycharm": {
     "name": "#%%\n"
    }
   }
  },
  {
   "cell_type": "code",
   "execution_count": null,
   "outputs": [],
   "source": [
    "# 対数正規分布\n",
    "x = np.random.lognormal(30, 0.4, 1000)\n",
    "plt.hist(x)\n",
    "plt.grid(True)"
   ],
   "metadata": {
    "collapsed": false,
    "pycharm": {
     "name": "#%%\n"
    }
   }
  },
  {
   "cell_type": "code",
   "execution_count": 20,
   "outputs": [
    {
     "name": "stdout",
     "output_type": "stream",
     "text": [
      "C:\\git\\DataScienceBasic\\data\n"
     ]
    }
   ],
   "source": [
    "%cd ../data"
   ],
   "metadata": {
    "collapsed": false,
    "pycharm": {
     "name": "#%%\n"
    }
   }
  },
  {
   "cell_type": "code",
   "execution_count": 21,
   "outputs": [
    {
     "data": {
      "text/plain": "<Figure size 432x288 with 1 Axes>",
      "image/png": "[encoded data removed]"
     },
     "metadata": {
      "needs_background": "light"
     },
     "output_type": "display_data"
    }
   ],
   "source": [
    "# データを読み込む\n",
    "student_data_math = pd.read_csv('student-mat.csv', sep=';')\n",
    "# カーネル密度関数\n",
    "student_data_math.absences.plot(kind='kde', style='k--')\n",
    "# 単純なヒストグラム、density=Trueにすることで、確率で表示\n",
    "student_data_math.absences.hist(density=True)\n",
    "plt.grid(True)"
   ],
   "metadata": {
    "collapsed": false,
    "pycharm": {
     "name": "#%%\n"
    }
   }
  },
  {
   "cell_type": "code",
   "execution_count": 22,
   "outputs": [
    {
     "data": {
      "text/plain": "<Figure size 432x288 with 1 Axes>",
      "image/png": "[encoded data removed]"
     },
     "metadata": {
      "needs_background": "light"
     },
     "output_type": "display_data"
    }
   ],
   "source": [
    "# 大数の法則\n",
    "# 計算回数\n",
    "calc_times =1000\n",
    "\n",
    "# サイコロ\n",
    "sample_array = np.array([1, 2, 3, 4, 5, 6])\n",
    "number_cnt = np.arange(1, calc_times + 1)\n",
    "\n",
    "# 4つのパスを生成\n",
    "for i in range(4):\n",
    "    p = np.random.choice(sample_array, calc_times).cumsum()\n",
    "    plt.plot(p / number_cnt)\n",
    "    plt.grid(True)"
   ],
   "metadata": {
    "collapsed": false,
    "pycharm": {
     "name": "#%%\n"
    }
   }
  },
  {
   "cell_type": "code",
   "execution_count": 23,
   "outputs": [],
   "source": [
    "# 中心極限定理\n",
    "def function_central_theory(N):\n",
    "    sample_array = np.array([1, 2, 3, 4, 5, 6])\n",
    "    mean_array = np.array([])\n",
    "    for i in range(1000):\n",
    "        cum_variables = np.random.choice(sample_array, N).cumsum()*1.0\n",
    "        mean_array = np.append(mean_array, cum_variables[N-1] / N)\n",
    "\n",
    "    plt.hist(mean_array)\n",
    "    plt.grid(True)"
   ],
   "metadata": {
    "collapsed": false,
    "pycharm": {
     "name": "#%%\n"
    }
   }
  },
  {
   "cell_type": "code",
   "execution_count": 24,
   "outputs": [
    {
     "data": {
      "text/plain": "<Figure size 432x288 with 1 Axes>",
      "image/png": "[encoded data removed]"
     },
     "metadata": {
      "needs_background": "light"
     },
     "output_type": "display_data"
    }
   ],
   "source": [
    "# N=3\n",
    "function_central_theory(3)"
   ],
   "metadata": {
    "collapsed": false,
    "pycharm": {
     "name": "#%%\n"
    }
   }
  },
  {
   "cell_type": "code",
   "execution_count": 25,
   "outputs": [
    {
     "data": {
      "text/plain": "<Figure size 432x288 with 1 Axes>",
      "image/png": "[encoded data removed]"
     },
     "metadata": {
      "needs_background": "light"
     },
     "output_type": "display_data"
    }
   ],
   "source": [
    "# N= 10^3\n",
    "function_central_theory(10**3)"
   ],
   "metadata": {
    "collapsed": false,
    "pycharm": {
     "name": "#%%\n"
    }
   }
  },
  {
   "cell_type": "code",
   "execution_count": 26,
   "outputs": [
    {
     "name": "stdout",
     "output_type": "stream",
     "text": [
      "G1数学の成績平均： 10.861256544502618\n",
      "G1ポルトガル語の成績平均： 12.112565445026178\n"
     ]
    }
   ],
   "source": [
    "# 数学のデータを読み込む\n",
    "student_data_math = pd.read_csv('student-mat.csv', sep=';')\n",
    "# ポルトガルのデータを読み込む\n",
    "student_data_por = pd.read_csv('student-por.csv', sep=';')\n",
    "# マージする\n",
    "student_data_merge = pd.merge(student_data_math\n",
    "    , student_data_por\n",
    "    , on=['school', 'sex', 'age', 'address', 'famsize', 'Pstatus', 'Medu', 'Fedu', 'Mjob', 'Fjob', 'reason', 'nursery', 'internet']\n",
    "    , suffixes=('_math', '_por'))\n",
    "print('G1数学の成績平均：', student_data_merge.G1_math.mean())\n",
    "print('G1ポルトガル語の成績平均：', student_data_merge.G1_por.mean())"
   ],
   "metadata": {
    "collapsed": false,
    "pycharm": {
     "name": "#%%\n"
    }
   }
  },
  {
   "cell_type": "code",
   "execution_count": 27,
   "outputs": [
    {
     "name": "stdout",
     "output_type": "stream",
     "text": [
      "p値 =  1.6536555217100788e-16\n"
     ]
    }
   ],
   "source": [
    "from scipy import stats\n",
    "t, p = stats.ttest_rel(student_data_merge.G1_math, student_data_merge.G1_por)\n",
    "print( 'p値 = ', p)"
   ],
   "metadata": {
    "collapsed": false,
    "pycharm": {
     "name": "#%%\n"
    }
   }
  }
 ],
 "metadata": {
  "kernelspec": {
   "display_name": "Python 3",
   "language": "python",
   "name": "python3"
  },
  "language_info": {
   "codemirror_mode": {
    "name": "ipython",
    "version": 2
   },
   "file_extension": ".py",
   "mimetype": "text/x-python",
   "name": "python",
   "nbconvert_exporter": "python",
   "pygments_lexer": "ipython2",
   "version": "2.7.6"
  }
 },
 "nbformat": 4,
 "nbformat_minor": 0
}